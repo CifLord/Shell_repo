{
 "cells": [
  {
   "cell_type": "code",
   "execution_count": 1,
   "metadata": {},
   "outputs": [],
   "source": [
    "from ocpmodels.datasets import LmdbDataset\n",
    "import lmdb\n",
    "from ase import Atoms"
   ]
  },
  {
   "cell_type": "code",
   "execution_count": 2,
   "metadata": {},
   "outputs": [],
   "source": [
    "slab_data_objs=LmdbDataset({\"src\": \"datasetss/slabs.lmdb\"})"
   ]
  },
  {
   "cell_type": "code",
   "execution_count": 7,
   "metadata": {},
   "outputs": [
    {
     "data": {
      "text/plain": [
       "Data(pos=[104, 3], cell=[1, 3, 3], atomic_numbers=[104], natoms=104, tags=[104], edge_index=[2, 4927], cell_offsets=[4927, 3], y=-869.1991577148438, force=[104, 3], fixed=[104], slab_formula='O72Ti32', unrelax_energy=-864.7914428710938, bulk_energy=-226.61505634, miller=[3], bulk_formula='O16Ti8')"
      ]
     },
     "execution_count": 7,
     "metadata": {},
     "output_type": "execute_result"
    }
   ],
   "source": [
    "atom_idx=0 \n",
    "demo=slab_data_objs[atom_idx]\n",
    "demo"
   ]
  },
  {
   "cell_type": "markdown",
   "metadata": {},
   "source": [
    "# Function for getting surface energy from a Data object"
   ]
  },
  {
   "cell_type": "code",
   "execution_count": 19,
   "metadata": {},
   "outputs": [],
   "source": [
    "from pymatgen.analysis.surface_analysis import SlabEntry\n",
    "from pymatgen.entries.computed_entries import ComputedEntry\n",
    "from pymatgen.io.ase import AseAtomsAdaptor\n",
    "\n",
    "def get_surface_energy(dat):\n",
    "    bulk_entry = ComputedEntry(dat.bulk_formula, dat.bulk_energy)\n",
    "    gas_entry = ComputedEntry('O2', 2*-7.204) # the ref energy for O in OC20\n",
    "    \n",
    "    atoms=Atoms(dat.atomic_numbers,\n",
    "                positions=dat.pos,\n",
    "                tags=dat.tags,\n",
    "                cell=dat.cell.squeeze(), pbc=True)\n",
    "    \n",
    "    slabentry = SlabEntry(AseAtomsAdaptor.get_structure(atoms), dat.y, dat.miller)\n",
    "    return slabentry.surface_energy(bulk_entry, [gas_entry])"
   ]
  },
  {
   "cell_type": "code",
   "execution_count": 18,
   "metadata": {
    "tags": []
   },
   "outputs": [
    {
     "name": "stdout",
     "output_type": "stream",
     "text": [
      "Ti4O9 TiO2 (1, 1, 1) 0.486508823034301 - 0.0410153310548295*delu_O\n",
      "Ti9O20 TiO2 (1, 1, 1) 0.450274798852927 - 0.0410153310548295*delu_O\n",
      "Ti8O17 TiO2 (1, 1, 1) 0.404413278395938 - 0.0205076655274147*delu_O\n",
      "Ti9O19 TiO2 (1, 1, 1) 0.416724743705242 - 0.0205076655274147*delu_O\n",
      "TiO2 TiO2 (1, 1, 1) 0.38411800535389684\n",
      "TiO2 TiO2 (1, 1, 1) 0.3677720348620239\n",
      "TiO2 TiO2 (1, 1, 1) 0.37070036027104436\n",
      "TiO2 TiO2 (1, 1, 1) 0.3745788867635387\n",
      "Ti10O19 TiO2 (1, 1, 1) 0.0205076655274147*delu_O + 0.445462215747588\n",
      "Ti9O17 TiO2 (1, 1, 1) 0.0205076655274147*delu_O + 0.400585568918097\n",
      "Ti5O9 TiO2 (1, 1, 1) 0.0410153310548295*delu_O + 0.472357140401416\n",
      "Ti9O16 TiO2 (1, 1, 1) 0.0410153310548295*delu_O + 0.444017802955972\n",
      "Ti4O9 TiO2 (1, 1, 0) 0.546207448328953 - 0.0489107017539134*delu_O\n",
      "Ti8O17 TiO2 (1, 1, 0) 0.449417328042306 - 0.0244553508769567*delu_O\n",
      "Ti8O17 TiO2 (1, 1, 0) 0.44118767856354 - 0.0244553508769567*delu_O\n",
      "Ti9O19 TiO2 (1, 1, 0) 0.492222603655402 - 0.0244553508769567*delu_O\n",
      "TiO2 TiO2 (1, 1, 0) 0.42297423266952894\n",
      "TiO2 TiO2 (1, 1, 0) 0.3821024961246957\n",
      "TiO2 TiO2 (1, 1, 0) 0.4096769123415225\n",
      "TiO2 TiO2 (1, 1, 0) 0.42916178479927325\n",
      "Ti10O19 TiO2 (1, 1, 0) 0.0244553508769567*delu_O + 0.472355188527271\n",
      "Ti10O19 TiO2 (1, 1, 0) 0.0244553508769567*delu_O + 0.466107013553458\n",
      "Ti9O17 TiO2 (1, 1, 0) 0.0244553508769567*delu_O + 0.454241846622795\n",
      "Ti5O9 TiO2 (1, 1, 0) 0.0489107017539134*delu_O + 0.528671103072817\n",
      "Ti9O19 TiO2 (1, 1, -1) 0.445676410149205 - 0.0221349356090043*delu_O\n",
      "Ti9O19 TiO2 (1, 1, -1) 0.451522902693637 - 0.0221349356090043*delu_O\n",
      "TiO2 TiO2 (1, 1, -1) 0.3594562344146164\n",
      "TiO2 TiO2 (1, 1, -1) 0.4066659017681955\n",
      "TiO2 TiO2 (1, 1, -1) 0.4265215299197349\n",
      "TiO2 TiO2 (1, 1, -1) 0.413633577146169\n",
      "Ti9O17 TiO2 (1, 1, -1) 0.0221349356090043*delu_O + 0.432247483548343\n",
      "Ti9O17 TiO2 (1, 1, -1) 0.0221349356090043*delu_O + 0.40899019700201\n",
      "Ti15O32 TiO2 (1, 0, 1) 0.586705295438452 - 0.0340802406084122*delu_O\n",
      "Ti15O32 TiO2 (1, 0, 1) 0.600576047663616 - 0.0340802406084122*delu_O\n",
      "TiO2 TiO2 (1, 0, 1) 0.5103686572006261\n",
      "TiO2 TiO2 (1, 0, 1) 0.4672545735158993\n",
      "TiO2 TiO2 (1, 0, 1) 0.4986365545317719\n",
      "TiO2 TiO2 (1, 0, 1) 0.5563709172177385\n",
      "Ti15O28 TiO2 (1, 0, 1) 0.0340802406084122*delu_O + 0.549230332269358\n",
      "Ti15O28 TiO2 (1, 0, 1) 0.0340802406084122*delu_O + 0.566247571552648\n",
      "Ti6O13 TiO2 (1, 0, 0) 0.506599989040615 - 0.0401238257066021*delu_O\n",
      "Ti6O13 TiO2 (1, 0, 0) 0.578858303657952 - 0.0401238257066021*delu_O\n",
      "Ti7O15 TiO2 (1, 0, 0) 0.680038398006931 - 0.0401238257066021*delu_O\n",
      "Ti7O15 TiO2 (1, 0, 0) 0.591349984105807 - 0.0401238257066021*delu_O\n",
      "TiO2 TiO2 (1, 0, 0) 0.5297788651195319\n",
      "TiO2 TiO2 (1, 0, 0) 0.5571264457875991\n",
      "Ti8O15 TiO2 (1, 0, 0) 0.0401238257066021*delu_O + 0.623025610762092\n",
      "Ti8O15 TiO2 (1, 0, 0) 0.0401238257066021*delu_O + 0.651810733281343\n",
      "Ti7O13 TiO2 (1, 0, 0) 0.0401238257066021*delu_O + 0.609176796113447\n",
      "Ti7O13 TiO2 (1, 0, 0) 0.0401238257066021*delu_O + 0.563493005870556\n",
      "Ti5O11 TiO2 (1, 0, -1) 0.57793941863426 - 0.0436757073661562*delu_O\n",
      "Ti10O21 TiO2 (1, 0, -1) 0.484324367917108 - 0.0218378536830781*delu_O\n",
      "Ti10O21 TiO2 (1, 0, -1) 0.486731987731329 - 0.0218378536830781*delu_O\n",
      "Ti11O23 TiO2 (1, 0, -1) 0.487101152912659 - 0.0218378536830781*delu_O\n",
      "TiO2 TiO2 (1, 0, -1) 0.45874548637045987\n",
      "TiO2 TiO2 (1, 0, -1) 0.49111795408103287\n",
      "Ti12O23 TiO2 (1, 0, -1) 0.0218378536830781*delu_O + 0.540261562866761\n",
      "Ti12O23 TiO2 (1, 0, -1) 0.0218378536830781*delu_O + 0.503619890728277\n",
      "Ti11O21 TiO2 (1, 0, -1) 0.0218378536830781*delu_O + 0.507712308528015\n",
      "Ti6O11 TiO2 (1, 0, -1) 0.0436757073661562*delu_O + 0.53241624639869\n",
      "Ti6O13 TiO2 (0, 1, 1) 0.46653771609867 - 0.0330964371616681*delu_O\n",
      "Ti18O37 TiO2 (0, 1, 1) 0.413222183895921 - 0.011032145720556*delu_O\n",
      "TiO2 TiO2 (0, 1, 1) 0.41527619029720686\n",
      "Ti20O39 TiO2 (0, 1, 1) 0.011032145720556*delu_O + 0.425592340064277\n",
      "Ti20O37 TiO2 (0, 1, 1) 0.0330964371616681*delu_O + 0.481269074658621\n",
      "TiO2 TiO2 (0, 1, 0) 0.35231647565033786\n",
      "Ti2O5 TiO2 (0, 0, 1) 0.503945021250956 - 0.0862807920604508*delu_O\n",
      "Ti4O9 TiO2 (0, 0, 1) 0.47568503556361 - 0.0431403960302254*delu_O\n",
      "Ti4O9 TiO2 (0, 0, 1) 0.481512043401433 - 0.0431403960302254*delu_O\n",
      "TiO2 TiO2 (0, 0, 1) 0.4098890016173229\n",
      "Ti6O11 TiO2 (0, 0, 1) 0.0431403960302254*delu_O + 0.522681399662592\n",
      "Ti6O11 TiO2 (0, 0, 1) 0.0431403960302254*delu_O + 0.543839081683764\n",
      "Ti3O5 TiO2 (0, 0, 1) 0.0862807920604508*delu_O + 0.695930649700783\n"
     ]
    }
   ],
   "source": [
    "from pymatgen.core.composition import Composition\n",
    "for dat in slab_data_objs:\n",
    "    print(Composition(dat.slab_formula).reduced_formula, \n",
    "          Composition(dat.bulk_formula).reduced_formula, \n",
    "          dat.miller, get_surface_energy(dat))"
   ]
  }
 ],
 "metadata": {
  "kernelspec": {
   "display_name": "gpustudy",
   "language": "python",
   "name": "python3"
  },
  "language_info": {
   "codemirror_mode": {
    "name": "ipython",
    "version": 3
   },
   "file_extension": ".py",
   "mimetype": "text/x-python",
   "name": "python",
   "nbconvert_exporter": "python",
   "pygments_lexer": "ipython3",
   "version": "3.8.8"
  },
  "vscode": {
   "interpreter": {
    "hash": "07482723249349ed54e2c7e6c4dc9f336a0ae8a59ea3de954cec4c2faf28691e"
   }
  }
 },
 "nbformat": 4,
 "nbformat_minor": 4
}
