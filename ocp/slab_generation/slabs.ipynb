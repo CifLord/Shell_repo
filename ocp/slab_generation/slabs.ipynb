{
 "cells": [
  {
   "cell_type": "code",
   "execution_count": 2,
   "metadata": {},
   "outputs": [],
   "source": [
    "import sys\n",
    "sys.path.append(\"C:/Users/lhuang37/Desktop/oproject/Open-Catalyst-Dataset-OC22_dataset/\")\n",
    "\n",
    "from ocpmodels.common.relaxation.ase_utils import OCPCalculator\n",
    "from ocpmodels.datasets import LmdbDataset\n",
    "import os\n",
    "from ase import Atoms\n",
    "from ase.optimize import BFGS\n",
    "import numpy as np\n",
    "import pickle\n",
    "import matplotlib.pyplot as plt\n",
    "import lmdb\n",
    "import pandas as pd\n",
    "import ase\n",
    "from pymatgen.entries.computed_entries import ComputedStructureEntry\n",
    "from pymatgen.io.ase import AseAtomsAdaptor\n",
    "from ase.visualize import view\n",
    "# from ocdata.precompute_sample_structures import enumerate_surfaces_for_saving\n",
    "from ocdata.precompute_sample_structures_self import enumerate_surfaces_for_saving as new_saving\n",
    "import json\n",
    "from ase.io import write\n",
    "from ocdata.bulk_obj_oxide import Bulk\n",
    "from ocdata.surfaces import Surface"
   ]
  },
  {
   "cell_type": "code",
   "execution_count": 3,
   "metadata": {},
   "outputs": [],
   "source": [
    "from ase.geometry import get_layers\n",
    "from tqdm import tqdm"
   ]
  },
  {
   "cell_type": "code",
   "execution_count": 3,
   "metadata": {},
   "outputs": [],
   "source": [
    "plt.style.use('seaborn')\n",
    "plt.rcParams.update({'font.size':18,\n",
    "'xtick.labelsize':18,\n",
    "'ytick.labelsize':18,\n",
    "'font.size':18,\n",
    "'axes.titlesize':24,\n",
    "'axes.titleweight':'bold',\n",
    "'axes.labelsize':18,\n",
    "'axes.labelweight':'bold',\n",
    "'legend.fontsize':16,\n",
    "})"
   ]
  },
  {
   "attachments": {},
   "cell_type": "markdown",
   "metadata": {},
   "source": [
    "# 1. Extract bulk information"
   ]
  },
  {
   "cell_type": "code",
   "execution_count": 4,
   "metadata": {},
   "outputs": [],
   "source": [
    "# load the bulk structures from json file\n",
    "bulk_db = 'C:/Users/lhuang37/Desktop/oproject/Open-Catalyst-Dataset-OC22_dataset/ocdata/oc22_dataset/bulk_oxides_20220621.json'\n",
    "bulk_db_raw_dict_list = json.load(open(bulk_db))\n",
    "with open(bulk_db) as json_file:\n",
    "    bulk_db_raw_dict_list = json.load(json_file)\n",
    "    \n",
    "bulk_db_raw_list = [ComputedStructureEntry.from_dict(d) for d in \\\n",
    "                          json.load(open(bulk_db))]\n",
    "bulk_db_atoms_list = []\n",
    "for bulk in bulk_db_raw_list:\n",
    "    bulk_db_atoms_list.append(AseAtomsAdaptor.get_atoms(bulk.structure))"
   ]
  },
  {
   "cell_type": "code",
   "execution_count": 15,
   "metadata": {},
   "outputs": [],
   "source": [
    "from script_v3 import slab_generator"
   ]
  },
  {
   "cell_type": "code",
   "execution_count": null,
   "metadata": {},
   "outputs": [],
   "source": [
    "def get_bulk_info():\n",
    "    pass"
   ]
  },
  {
   "attachments": {},
   "cell_type": "markdown",
   "metadata": {},
   "source": [
    "# 2. generate ase object and the related information"
   ]
  },
  {
   "cell_type": "code",
   "execution_count": 4,
   "metadata": {},
   "outputs": [],
   "source": [
    "import torch\n",
    "from torch_geometric.data import Data\n",
    "from ase.constraints import FixAtoms\n",
    "def convert_atoms_data(atoms:ase.Atoms,bulk_formula:str,bulk_energy:float,bulk_idx,r_energy=0,r_force=0,un_energy=0): \n",
    "    # input: \n",
    "    #    atoms object\n",
    "    #    r_energy: add relaxed energy if add assign r_energy to a value\n",
    "    #    r_force: add relaxed force matrix if assign r_force to a value\n",
    "    #    un_force: add un-relaxed energy if assign un_energy to a value\n",
    "    # output:\n",
    "    #    Data object\n",
    "\n",
    "    atomic_numbers=torch.Tensor(atoms.get_atomic_numbers())\n",
    "    positions=torch.Tensor(atoms.get_positions())\n",
    "    cell=torch.Tensor(np.array(atoms.get_cell())).view(1,3,3)\n",
    "    natoms=positions.shape[0]\n",
    "    tags=torch.Tensor(atoms.get_tags())\n",
    "    fixed_idx=torch.zeros(natoms)    \n",
    "    for constraint in atoms.constraints:\n",
    "        if isinstance(constraint,FixAtoms):\n",
    "            fixed_idx[constraint.index]=1\n",
    "    data=Data(cell=cell,pos=positions,atomic_numbers=atomic_numbers,natoms=natoms,tags=tags)\n",
    "    data.fixed=fixed_idx\n",
    "\n",
    "    if r_energy != 0:\n",
    "        data.y=r_energy\n",
    "    if r_force != 0:\n",
    "        data.force=r_force\n",
    "    if un_energy !=0:\n",
    "        data.unrelax_energy=un_energy\n",
    "\n",
    "    data.slab_formula=atoms.get_chemical_formula()\n",
    "    data.miller=atoms.info['miller_index']    \n",
    "    data.bulk_formula=bulk_formula\n",
    "    data.bulk_energy=bulk_energy\n",
    "    data.entry_id=bulk_db_raw_list[bulk_idx].entry_id\n",
    "\n",
    "    return data\n"
   ]
  },
  {
   "cell_type": "code",
   "execution_count": 36,
   "metadata": {},
   "outputs": [
    {
     "name": "stderr",
     "output_type": "stream",
     "text": [
      "c:\\Users\\lhuang37\\.conda\\envs\\ocp-models\\lib\\site-packages\\pymatgen\\core\\surface.py:1327: UserWarning: Too many sites removed, please use a larger slab size.\n",
      "  warnings.warn(\"Too many sites removed, please use a larger slab size.\")\n"
     ]
    },
    {
     "data": {
      "text/plain": [
       "328"
      ]
     },
     "execution_count": 36,
     "metadata": {},
     "output_type": "execute_result"
    }
   ],
   "source": [
    "demo_list=[10,100,1000,20,200]\n",
    "data_list=[]\n",
    "for bulk_idx in demo_list:\n",
    "    bulk=bulk_db_atoms_list[bulk_idx]\n",
    "    possible_invertible_surfaces=slab_generator(bulk,1,15,15)\n",
    "    bulk_formula=bulk.symbols.get_chemical_formula()\n",
    "    bulk_energy=bulk_db_raw_list[bulk_idx].energy\n",
    "    for i in range(len(possible_invertible_surfaces)):\n",
    "        data=convert_atoms_data(possible_invertible_surfaces[i],\n",
    "                                bulk_formula=bulk_formula,\n",
    "                                bulk_energy=bulk_energy,\n",
    "                                bulk_idx=bulk_idx\n",
    "                                )\n",
    "        data_list.append(data)\n",
    "    \n",
    "len(data_list)\n",
    "    "
   ]
  },
  {
   "attachments": {},
   "cell_type": "markdown",
   "metadata": {},
   "source": [
    "# 3. Slab energy calculation"
   ]
  },
  {
   "cell_type": "code",
   "execution_count": 55,
   "metadata": {},
   "outputs": [],
   "source": [
    "%%capture out\n",
    "calc = OCPCalculator(config_yml='../../configs/oc22/s2ef/gemnet-oc/gemnet_oc_oc20_oc22.yml', checkpoint=\"../gemnet_oc_base_oc20_oc22.pt\",device='0')\n",
    "for i in range(len(data_list)):\n",
    "    data=data_list[i]\n",
    "    testobj =Atoms(data.atomic_numbers,positions=data.pos,tags=data.tags,cell=data.cell.squeeze(),pbc=True)\n",
    "    testobj.calc = calc\n",
    "    unrelax_slab_energy = testobj.get_potential_energy()\n",
    "    # Set up the calculator->predict relaxed total energy of slab\n",
    "    opt = BFGS(testobj) \n",
    "    opt.run(fmax=0.05, steps=100)\n",
    "    relax_slab_energy = testobj.get_potential_energy()\n",
    "    data.y=relax_slab_energy\n",
    "    data.unrelax_energy=unrelax_slab_energy\n",
    " "
   ]
  },
  {
   "cell_type": "code",
   "execution_count": null,
   "metadata": {},
   "outputs": [],
   "source": [
    "import lmdb\n",
    "db = lmdb.open(\n",
    "    \"datasetss/slabs5.lmdb\",\n",
    "    map_size=1099511627 * 2,\n",
    "    subdir=False,\n",
    "    meminit=False,\n",
    "    map_async=True,\n",
    ")\n",
    "for i in range(len(data_list)): \n",
    "    data=data_list[i]  \n",
    "    txn=db.begin(write=True)\n",
    "    txn.put(f\"{i}\".encode('ascii'),pickle.dumps(data,protocol=0))\n",
    "    txn.commit()\n",
    "    db.sync()    \n",
    "db.close()\n"
   ]
  },
  {
   "attachments": {},
   "cell_type": "markdown",
   "metadata": {},
   "source": [
    "# -1 draft"
   ]
  },
  {
   "cell_type": "code",
   "execution_count": null,
   "metadata": {},
   "outputs": [],
   "source": [
    "def get_slab_lmdb(bulk_idx):\n",
    "    bulk=bulk_db_atoms_list[bulk_idx]\n",
    "    bulk_object = Bulk(bulk_db_raw_dict_list, bulk_index=bulk_idx)\n",
    "    bulk_formula=bulk.symbols.get_chemical_formula()\n",
    "    data=convert_atoms_data()\n",
    "\n"
   ]
  },
  {
   "cell_type": "code",
   "execution_count": 5,
   "metadata": {},
   "outputs": [],
   "source": [
    "bulk_idx=4115\n",
    "bulk=bulk_db_atoms_list[bulk_idx]\n"
   ]
  },
  {
   "cell_type": "code",
   "execution_count": 6,
   "metadata": {},
   "outputs": [],
   "source": [
    "# possible_surfaces=new_saving(bulk,max_miller=1)"
   ]
  },
  {
   "cell_type": "code",
   "execution_count": 6,
   "metadata": {},
   "outputs": [],
   "source": [
    "# output_folder='./output2/'\n",
    "# os.makedirs(output_folder,exist_ok=True)\n",
    "# sur_enes={}\n",
    "# bulk_ase = bulk_db_atoms_list[bulk_idx]\n",
    "# data="
   ]
  },
  {
   "cell_type": "code",
   "execution_count": 7,
   "metadata": {},
   "outputs": [],
   "source": [
    "\n",
    "def surface_area_func(atom_obj:Atoms)->float:\n",
    "    #input: atoms object\n",
    "    #output: surface area\n",
    "    atom_cell=np.array(atom_obj.get_cell())\n",
    "    return np.linalg.norm(np.cross(atom_cell[0],atom_cell[1]))"
   ]
  },
  {
   "cell_type": "code",
   "execution_count": 24,
   "metadata": {},
   "outputs": [],
   "source": [
    "%%capture out\n",
    "# i=0\n",
    "bulk_object = Bulk(bulk_db_raw_dict_list, bulk_index=bulk_idx)\n",
    "bulk_formula=bulk_ase.symbols.get_chemical_formula()\n",
    "for surface_idx in tqdm(range(len(possible_invertible_surfaces))):\n",
    "    miller = possible_invertible_surfaces[surface_idx].info['miller_index']\n",
    "    surface_ase=possible_invertible_surfaces[surface_idx]\n",
    "    surface_formula = surface_ase.get_chemical_formula()\n",
    "    testobj = surface_ase  \n",
    "    surface_area = surface_area_func(testobj)\n",
    "    write(output_folder + 'bulk_' + bulk_formula +'_surface_' +str(surface_idx) +'_miller' +str(miller) +'.png', testobj, rotation='89x,75y,176z')\n",
    "    # energy_list.append(surface_energy)\n",
    "    # view(testobj)\n",
    "    # break\n",
    "    surface_areas.append(surface_area)\n",
    "    # i+=1\n",
    "    # if i>100:\n",
    "    #     break"
   ]
  },
  {
   "cell_type": "code",
   "execution_count": 59,
   "metadata": {},
   "outputs": [
    {
     "data": {
      "text/plain": [
       "Data(pos=[200, 3], cell=[1, 3, 3], atomic_numbers=[200], natoms=200, tags=[200], fixed=[200], slab_formula='Fe12Mn52O136', miller=[3], bulk_formula='Fe2Mn10O24', bulk_energy=-289.1648123696, entry_id='mp-755276', y=-1332.6395263671875, unrelax_energy=-1328.212890625)"
      ]
     },
     "execution_count": 59,
     "metadata": {},
     "output_type": "execute_result"
    }
   ],
   "source": [
    "seeit=LmdbDataset({\"src\": \"datasetss/slabs5.lmdb\"})\n",
    "seeit[0]"
   ]
  },
  {
   "cell_type": "code",
   "execution_count": 14,
   "metadata": {},
   "outputs": [],
   "source": [
    "from ocpmodels.preprocessing import AtomsToGraphs\n",
    "a2g = AtomsToGraphs(\n",
    "    max_neigh=50,\n",
    "    radius=6,\n",
    "    r_energy=True,    # False for test data\n",
    "    r_forces=True,\n",
    "    r_distances=False,\n",
    "    r_fixed=True,\n",
    ")\n"
   ]
  },
  {
   "cell_type": "code",
   "execution_count": 15,
   "metadata": {},
   "outputs": [],
   "source": [
    "%%capture out\n",
    "sur_enes={}\n",
    "calc = OCPCalculator(config_yml='../../configs/oc22/s2ef/gemnet-oc/gemnet_oc_oc20_oc22.yml', checkpoint=\"../gemnet_oc_base_oc20_oc22.pt\",device='0')\n",
    "for surface_idx in range(len(possible_invertible_surfaces)):\n",
    "    miller = possible_invertible_surfaces[surface_idx].info['miller_index']\n",
    "    surface_ase=possible_invertible_surfaces[surface_idx]\n",
    "    surface_formula = surface_ase.get_chemical_formula()\n",
    "    bulk_object = Bulk(bulk_db_raw_dict_list, bulk_index=bulk_idx)  \n",
    "    bulk_formula=bulk_ase.symbols.get_chemical_formula()  \n",
    "    testobj = surface_ase\n",
    "    testobj.calc = calc\n",
    "    unrelax_slab_energy = testobj.get_potential_energy()\n",
    "    # Set up the calculator->predict relaxed total energy of slab\n",
    "    opt = BFGS(testobj) \n",
    "    opt.run(fmax=0.05, steps=100)\n",
    "    relax_slab_energy = testobj.get_potential_energy()\n",
    "    slab_bulk_ratio_n = len(testobj.get_atomic_numbers())/len(bulk_ase.get_atomic_numbers())\n",
    "    surface_area = surface_area_func(testobj)\n",
    "    bulk_energy = bulk_db_raw_list[bulk_idx].energy\n",
    "    # surface_energy = (unrelax_slab_energy - slab_bulk_ratio_n * bulk_energy)/(2*surface_area) + (relax_slab_energy -unrelax_slab_energy)/surface_area\n",
    "    surface_energy = (relax_slab_energy - slab_bulk_ratio_n * bulk_energy)/(2*surface_area) \n",
    "    sur_enes[surface_idx]={}\n",
    "    sur_enes[surface_idx]['sur_formula']=surface_formula   \n",
    "    sur_enes[surface_idx]['miller']=miller\n",
    "    sur_enes[surface_idx]['left']=(relax_slab_energy-0.4 - slab_bulk_ratio_n * bulk_energy)/(2*surface_area) \n",
    "    sur_enes[surface_idx]['mid']=(relax_slab_energy - slab_bulk_ratio_n * bulk_energy)/(2*surface_area) \n",
    "    sur_enes[surface_idx]['right']=(relax_slab_energy+0.4 - slab_bulk_ratio_n * bulk_energy)/(2*surface_area) \n",
    "    fosave=a2g.convert(testobj)\n",
    "    fosave.slab_formula=surface_formula \n",
    "    fosave.unrelax_energy=unrelax_slab_energy\n",
    "    fosave.bulk_energy=bulk_energy \n",
    "    fosave.miller=miller\n",
    "    fosave.bulk_formula=bulk_formula\n",
    "    # testobj.info['surface_formula']=surface_formula   \n",
    "    # testobj.info['total_energy']=relax_slab_energy\n",
    "    # testobj.info['bulk_energy']=bulk_energy\n",
    "    txn=db.begin(write=True)\n",
    "    txn.put(f\"{surface_idx}\".encode('ascii'),pickle.dumps(fosave,protocol=0))\n",
    "    txn.commit()\n",
    "    db.sync()\n",
    "    #write(output_folder + 'bulk_' + bulk_formula +'_surface_' +surface_formula +'_miller' +str(miller) +'_energy_'+str(round(surface_energy, 4))+'.png', testobj, rotation='10z,-80x')\n",
    "db.close()"
   ]
  },
  {
   "cell_type": "code",
   "execution_count": 21,
   "metadata": {},
   "outputs": [
    {
     "data": {
      "image/png": "[encoded data removed]",
      "text/plain": [
       "<Figure size 864x576 with 1 Axes>"
      ]
     },
     "metadata": {
      "needs_background": "light"
     },
     "output_type": "display_data"
    }
   ],
   "source": [
    "df=pd.DataFrame.from_dict(sur_enes).T\n",
    "df.sort_values(by=['mid'],inplace=True)\n",
    "df['new_order']=range(1,len(df)+1)\n",
    "plt.figure(figsize=(12,8))\n",
    "plt.errorbar(x=df['new_order'], y=df['mid'], yerr=[df['mid'] - df['left'], df['right'] - df['mid']], fmt='o', ecolor='red',markersize=4)\n",
    "plt.title('Surface energy with different miller index')\n",
    "plt.xlabel('Miller index')\n",
    "plt.ylabel('Surface energy\\n eV/$\\mathrm{\\AA}^{2}$')\n",
    "plt.xticks(rotation='vertical')\n",
    "plt.show()"
   ]
  },
  {
   "cell_type": "code",
   "execution_count": 22,
   "metadata": {},
   "outputs": [
    {
     "data": {
      "text/html": [
       "<div>\n",
       "<style scoped>\n",
       "    .dataframe tbody tr th:only-of-type {\n",
       "        vertical-align: middle;\n",
       "    }\n",
       "\n",
       "    .dataframe tbody tr th {\n",
       "        vertical-align: top;\n",
       "    }\n",
       "\n",
       "    .dataframe thead th {\n",
       "        text-align: right;\n",
       "    }\n",
       "</style>\n",
       "<table border=\"1\" class=\"dataframe\">\n",
       "  <thead>\n",
       "    <tr style=\"text-align: right;\">\n",
       "      <th></th>\n",
       "      <th>sur_formula</th>\n",
       "      <th>miller</th>\n",
       "      <th>left</th>\n",
       "      <th>mid</th>\n",
       "      <th>right</th>\n",
       "      <th>new_order</th>\n",
       "    </tr>\n",
       "  </thead>\n",
       "  <tbody>\n",
       "    <tr>\n",
       "      <th>11</th>\n",
       "      <td>O64Ti36</td>\n",
       "      <td>(1, 1, 1)</td>\n",
       "      <td>0.350163</td>\n",
       "      <td>0.352213</td>\n",
       "      <td>0.354264</td>\n",
       "      <td>1</td>\n",
       "    </tr>\n",
       "    <tr>\n",
       "      <th>65</th>\n",
       "      <td>O128Ti64</td>\n",
       "      <td>(0, 1, 0)</td>\n",
       "      <td>0.351033</td>\n",
       "      <td>0.352316</td>\n",
       "      <td>0.3536</td>\n",
       "      <td>2</td>\n",
       "    </tr>\n",
       "    <tr>\n",
       "      <th>9</th>\n",
       "      <td>O68Ti36</td>\n",
       "      <td>(1, 1, 1)</td>\n",
       "      <td>0.352633</td>\n",
       "      <td>0.354683</td>\n",
       "      <td>0.356734</td>\n",
       "      <td>3</td>\n",
       "    </tr>\n",
       "    <tr>\n",
       "      <th>31</th>\n",
       "      <td>O68Ti36</td>\n",
       "      <td>(1, 1, -1)</td>\n",
       "      <td>0.357232</td>\n",
       "      <td>0.359446</td>\n",
       "      <td>0.361659</td>\n",
       "      <td>4</td>\n",
       "    </tr>\n",
       "    <tr>\n",
       "      <th>26</th>\n",
       "      <td>O72Ti36</td>\n",
       "      <td>(1, 1, -1)</td>\n",
       "      <td>0.357243</td>\n",
       "      <td>0.359456</td>\n",
       "      <td>0.36167</td>\n",
       "      <td>5</td>\n",
       "    </tr>\n",
       "    <tr>\n",
       "      <th>...</th>\n",
       "      <td>...</td>\n",
       "      <td>...</td>\n",
       "      <td>...</td>\n",
       "      <td>...</td>\n",
       "      <td>...</td>\n",
       "      <td>...</td>\n",
       "    </tr>\n",
       "    <tr>\n",
       "      <th>50</th>\n",
       "      <td>O132Ti60</td>\n",
       "      <td>(1, 0, -1)</td>\n",
       "      <td>0.674243</td>\n",
       "      <td>0.675699</td>\n",
       "      <td>0.677154</td>\n",
       "      <td>69</td>\n",
       "    </tr>\n",
       "    <tr>\n",
       "      <th>33</th>\n",
       "      <td>O192Ti90</td>\n",
       "      <td>(1, 0, 1)</td>\n",
       "      <td>0.675722</td>\n",
       "      <td>0.676858</td>\n",
       "      <td>0.677994</td>\n",
       "      <td>70</td>\n",
       "    </tr>\n",
       "    <tr>\n",
       "      <th>43</th>\n",
       "      <td>O180Ti84</td>\n",
       "      <td>(1, 0, 0)</td>\n",
       "      <td>0.679821</td>\n",
       "      <td>0.681159</td>\n",
       "      <td>0.682496</td>\n",
       "      <td>71</td>\n",
       "    </tr>\n",
       "    <tr>\n",
       "      <th>66</th>\n",
       "      <td>O60Ti24</td>\n",
       "      <td>(0, 0, 1)</td>\n",
       "      <td>0.694191</td>\n",
       "      <td>0.697067</td>\n",
       "      <td>0.699943</td>\n",
       "      <td>72</td>\n",
       "    </tr>\n",
       "    <tr>\n",
       "      <th>42</th>\n",
       "      <td>O180Ti84</td>\n",
       "      <td>(1, 0, 0)</td>\n",
       "      <td>0.76851</td>\n",
       "      <td>0.769847</td>\n",
       "      <td>0.771185</td>\n",
       "      <td>73</td>\n",
       "    </tr>\n",
       "  </tbody>\n",
       "</table>\n",
       "<p>73 rows × 6 columns</p>\n",
       "</div>"
      ],
      "text/plain": [
       "   sur_formula      miller      left       mid     right  new_order\n",
       "11     O64Ti36   (1, 1, 1)  0.350163  0.352213  0.354264          1\n",
       "65    O128Ti64   (0, 1, 0)  0.351033  0.352316    0.3536          2\n",
       "9      O68Ti36   (1, 1, 1)  0.352633  0.354683  0.356734          3\n",
       "31     O68Ti36  (1, 1, -1)  0.357232  0.359446  0.361659          4\n",
       "26     O72Ti36  (1, 1, -1)  0.357243  0.359456   0.36167          5\n",
       "..         ...         ...       ...       ...       ...        ...\n",
       "50    O132Ti60  (1, 0, -1)  0.674243  0.675699  0.677154         69\n",
       "33    O192Ti90   (1, 0, 1)  0.675722  0.676858  0.677994         70\n",
       "43    O180Ti84   (1, 0, 0)  0.679821  0.681159  0.682496         71\n",
       "66     O60Ti24   (0, 0, 1)  0.694191  0.697067  0.699943         72\n",
       "42    O180Ti84   (1, 0, 0)   0.76851  0.769847  0.771185         73\n",
       "\n",
       "[73 rows x 6 columns]"
      ]
     },
     "execution_count": 22,
     "metadata": {},
     "output_type": "execute_result"
    }
   ],
   "source": [
    "df"
   ]
  },
  {
   "cell_type": "code",
   "execution_count": 23,
   "metadata": {},
   "outputs": [],
   "source": [
    "df.to_csv(\"TiO2_results\",index=False)"
   ]
  },
  {
   "cell_type": "code",
   "execution_count": 24,
   "metadata": {},
   "outputs": [],
   "source": [
    "df111=pd.read_csv(\"TiO2_results\")"
   ]
  },
  {
   "cell_type": "code",
   "execution_count": 25,
   "metadata": {},
   "outputs": [
    {
     "data": {
      "text/html": [
       "<div>\n",
       "<style scoped>\n",
       "    .dataframe tbody tr th:only-of-type {\n",
       "        vertical-align: middle;\n",
       "    }\n",
       "\n",
       "    .dataframe tbody tr th {\n",
       "        vertical-align: top;\n",
       "    }\n",
       "\n",
       "    .dataframe thead th {\n",
       "        text-align: right;\n",
       "    }\n",
       "</style>\n",
       "<table border=\"1\" class=\"dataframe\">\n",
       "  <thead>\n",
       "    <tr style=\"text-align: right;\">\n",
       "      <th></th>\n",
       "      <th>sur_formula</th>\n",
       "      <th>miller</th>\n",
       "      <th>left</th>\n",
       "      <th>mid</th>\n",
       "      <th>right</th>\n",
       "      <th>new_order</th>\n",
       "    </tr>\n",
       "  </thead>\n",
       "  <tbody>\n",
       "    <tr>\n",
       "      <th>0</th>\n",
       "      <td>O64Ti36</td>\n",
       "      <td>(1, 1, 1)</td>\n",
       "      <td>0.350163</td>\n",
       "      <td>0.352213</td>\n",
       "      <td>0.354264</td>\n",
       "      <td>1</td>\n",
       "    </tr>\n",
       "    <tr>\n",
       "      <th>1</th>\n",
       "      <td>O128Ti64</td>\n",
       "      <td>(0, 1, 0)</td>\n",
       "      <td>0.351033</td>\n",
       "      <td>0.352316</td>\n",
       "      <td>0.353600</td>\n",
       "      <td>2</td>\n",
       "    </tr>\n",
       "    <tr>\n",
       "      <th>2</th>\n",
       "      <td>O68Ti36</td>\n",
       "      <td>(1, 1, 1)</td>\n",
       "      <td>0.352633</td>\n",
       "      <td>0.354683</td>\n",
       "      <td>0.356734</td>\n",
       "      <td>3</td>\n",
       "    </tr>\n",
       "    <tr>\n",
       "      <th>3</th>\n",
       "      <td>O68Ti36</td>\n",
       "      <td>(1, 1, -1)</td>\n",
       "      <td>0.357232</td>\n",
       "      <td>0.359446</td>\n",
       "      <td>0.361659</td>\n",
       "      <td>4</td>\n",
       "    </tr>\n",
       "    <tr>\n",
       "      <th>4</th>\n",
       "      <td>O72Ti36</td>\n",
       "      <td>(1, 1, -1)</td>\n",
       "      <td>0.357243</td>\n",
       "      <td>0.359456</td>\n",
       "      <td>0.361670</td>\n",
       "      <td>5</td>\n",
       "    </tr>\n",
       "    <tr>\n",
       "      <th>...</th>\n",
       "      <td>...</td>\n",
       "      <td>...</td>\n",
       "      <td>...</td>\n",
       "      <td>...</td>\n",
       "      <td>...</td>\n",
       "      <td>...</td>\n",
       "    </tr>\n",
       "    <tr>\n",
       "      <th>68</th>\n",
       "      <td>O132Ti60</td>\n",
       "      <td>(1, 0, -1)</td>\n",
       "      <td>0.674243</td>\n",
       "      <td>0.675699</td>\n",
       "      <td>0.677154</td>\n",
       "      <td>69</td>\n",
       "    </tr>\n",
       "    <tr>\n",
       "      <th>69</th>\n",
       "      <td>O192Ti90</td>\n",
       "      <td>(1, 0, 1)</td>\n",
       "      <td>0.675722</td>\n",
       "      <td>0.676858</td>\n",
       "      <td>0.677994</td>\n",
       "      <td>70</td>\n",
       "    </tr>\n",
       "    <tr>\n",
       "      <th>70</th>\n",
       "      <td>O180Ti84</td>\n",
       "      <td>(1, 0, 0)</td>\n",
       "      <td>0.679821</td>\n",
       "      <td>0.681159</td>\n",
       "      <td>0.682496</td>\n",
       "      <td>71</td>\n",
       "    </tr>\n",
       "    <tr>\n",
       "      <th>71</th>\n",
       "      <td>O60Ti24</td>\n",
       "      <td>(0, 0, 1)</td>\n",
       "      <td>0.694191</td>\n",
       "      <td>0.697067</td>\n",
       "      <td>0.699943</td>\n",
       "      <td>72</td>\n",
       "    </tr>\n",
       "    <tr>\n",
       "      <th>72</th>\n",
       "      <td>O180Ti84</td>\n",
       "      <td>(1, 0, 0)</td>\n",
       "      <td>0.768510</td>\n",
       "      <td>0.769847</td>\n",
       "      <td>0.771185</td>\n",
       "      <td>73</td>\n",
       "    </tr>\n",
       "  </tbody>\n",
       "</table>\n",
       "<p>73 rows × 6 columns</p>\n",
       "</div>"
      ],
      "text/plain": [
       "   sur_formula      miller      left       mid     right  new_order\n",
       "0      O64Ti36   (1, 1, 1)  0.350163  0.352213  0.354264          1\n",
       "1     O128Ti64   (0, 1, 0)  0.351033  0.352316  0.353600          2\n",
       "2      O68Ti36   (1, 1, 1)  0.352633  0.354683  0.356734          3\n",
       "3      O68Ti36  (1, 1, -1)  0.357232  0.359446  0.361659          4\n",
       "4      O72Ti36  (1, 1, -1)  0.357243  0.359456  0.361670          5\n",
       "..         ...         ...       ...       ...       ...        ...\n",
       "68    O132Ti60  (1, 0, -1)  0.674243  0.675699  0.677154         69\n",
       "69    O192Ti90   (1, 0, 1)  0.675722  0.676858  0.677994         70\n",
       "70    O180Ti84   (1, 0, 0)  0.679821  0.681159  0.682496         71\n",
       "71     O60Ti24   (0, 0, 1)  0.694191  0.697067  0.699943         72\n",
       "72    O180Ti84   (1, 0, 0)  0.768510  0.769847  0.771185         73\n",
       "\n",
       "[73 rows x 6 columns]"
      ]
     },
     "execution_count": 25,
     "metadata": {},
     "output_type": "execute_result"
    }
   ],
   "source": [
    "df111"
   ]
  },
  {
   "cell_type": "code",
   "execution_count": 99,
   "metadata": {},
   "outputs": [],
   "source": [
    "df_new=df[df['miller']==(1, 1, 1)]"
   ]
  },
  {
   "cell_type": "code",
   "execution_count": 100,
   "metadata": {},
   "outputs": [
    {
     "data": {
      "text/html": [
       "<div>\n",
       "<style scoped>\n",
       "    .dataframe tbody tr th:only-of-type {\n",
       "        vertical-align: middle;\n",
       "    }\n",
       "\n",
       "    .dataframe tbody tr th {\n",
       "        vertical-align: top;\n",
       "    }\n",
       "\n",
       "    .dataframe thead th {\n",
       "        text-align: right;\n",
       "    }\n",
       "</style>\n",
       "<table border=\"1\" class=\"dataframe\">\n",
       "  <thead>\n",
       "    <tr style=\"text-align: right;\">\n",
       "      <th></th>\n",
       "      <th>sur_formula</th>\n",
       "      <th>miller</th>\n",
       "      <th>left</th>\n",
       "      <th>mid</th>\n",
       "      <th>right</th>\n",
       "      <th>new_order</th>\n",
       "    </tr>\n",
       "  </thead>\n",
       "  <tbody>\n",
       "    <tr>\n",
       "      <th>11</th>\n",
       "      <td>O64Ti36</td>\n",
       "      <td>(1, 1, 1)</td>\n",
       "      <td>0.350163</td>\n",
       "      <td>0.352213</td>\n",
       "      <td>0.354264</td>\n",
       "      <td>1</td>\n",
       "    </tr>\n",
       "    <tr>\n",
       "      <th>9</th>\n",
       "      <td>O68Ti36</td>\n",
       "      <td>(1, 1, 1)</td>\n",
       "      <td>0.352631</td>\n",
       "      <td>0.354682</td>\n",
       "      <td>0.356733</td>\n",
       "      <td>3</td>\n",
       "    </tr>\n",
       "    <tr>\n",
       "      <th>5</th>\n",
       "      <td>O72Ti36</td>\n",
       "      <td>(1, 1, 1)</td>\n",
       "      <td>0.365721</td>\n",
       "      <td>0.367772</td>\n",
       "      <td>0.369823</td>\n",
       "      <td>6</td>\n",
       "    </tr>\n",
       "    <tr>\n",
       "      <th>6</th>\n",
       "      <td>O72Ti36</td>\n",
       "      <td>(1, 1, 1)</td>\n",
       "      <td>0.368649</td>\n",
       "      <td>0.3707</td>\n",
       "      <td>0.37275</td>\n",
       "      <td>7</td>\n",
       "    </tr>\n",
       "    <tr>\n",
       "      <th>7</th>\n",
       "      <td>O80Ti40</td>\n",
       "      <td>(1, 1, 1)</td>\n",
       "      <td>0.372543</td>\n",
       "      <td>0.374594</td>\n",
       "      <td>0.376645</td>\n",
       "      <td>8</td>\n",
       "    </tr>\n",
       "    <tr>\n",
       "      <th>10</th>\n",
       "      <td>O72Ti40</td>\n",
       "      <td>(1, 1, 1)</td>\n",
       "      <td>0.378504</td>\n",
       "      <td>0.380555</td>\n",
       "      <td>0.382605</td>\n",
       "      <td>9</td>\n",
       "    </tr>\n",
       "    <tr>\n",
       "      <th>4</th>\n",
       "      <td>O80Ti40</td>\n",
       "      <td>(1, 1, 1)</td>\n",
       "      <td>0.382068</td>\n",
       "      <td>0.384119</td>\n",
       "      <td>0.386169</td>\n",
       "      <td>12</td>\n",
       "    </tr>\n",
       "    <tr>\n",
       "      <th>8</th>\n",
       "      <td>O76Ti40</td>\n",
       "      <td>(1, 1, 1)</td>\n",
       "      <td>0.397511</td>\n",
       "      <td>0.399562</td>\n",
       "      <td>0.401612</td>\n",
       "      <td>14</td>\n",
       "    </tr>\n",
       "    <tr>\n",
       "      <th>2</th>\n",
       "      <td>O68Ti32</td>\n",
       "      <td>(1, 1, 1)</td>\n",
       "      <td>0.448264</td>\n",
       "      <td>0.450315</td>\n",
       "      <td>0.452366</td>\n",
       "      <td>32</td>\n",
       "    </tr>\n",
       "    <tr>\n",
       "      <th>3</th>\n",
       "      <td>O76Ti36</td>\n",
       "      <td>(1, 1, 1)</td>\n",
       "      <td>0.460582</td>\n",
       "      <td>0.462633</td>\n",
       "      <td>0.464683</td>\n",
       "      <td>36</td>\n",
       "    </tr>\n",
       "    <tr>\n",
       "      <th>1</th>\n",
       "      <td>O80Ti36</td>\n",
       "      <td>(1, 1, 1)</td>\n",
       "      <td>0.54003</td>\n",
       "      <td>0.542081</td>\n",
       "      <td>0.544132</td>\n",
       "      <td>58</td>\n",
       "    </tr>\n",
       "    <tr>\n",
       "      <th>0</th>\n",
       "      <td>O72Ti32</td>\n",
       "      <td>(1, 1, 1)</td>\n",
       "      <td>0.576261</td>\n",
       "      <td>0.578312</td>\n",
       "      <td>0.580363</td>\n",
       "      <td>64</td>\n",
       "    </tr>\n",
       "  </tbody>\n",
       "</table>\n",
       "</div>"
      ],
      "text/plain": [
       "   sur_formula     miller      left       mid     right  new_order\n",
       "11     O64Ti36  (1, 1, 1)  0.350163  0.352213  0.354264          1\n",
       "9      O68Ti36  (1, 1, 1)  0.352631  0.354682  0.356733          3\n",
       "5      O72Ti36  (1, 1, 1)  0.365721  0.367772  0.369823          6\n",
       "6      O72Ti36  (1, 1, 1)  0.368649    0.3707   0.37275          7\n",
       "7      O80Ti40  (1, 1, 1)  0.372543  0.374594  0.376645          8\n",
       "10     O72Ti40  (1, 1, 1)  0.378504  0.380555  0.382605          9\n",
       "4      O80Ti40  (1, 1, 1)  0.382068  0.384119  0.386169         12\n",
       "8      O76Ti40  (1, 1, 1)  0.397511  0.399562  0.401612         14\n",
       "2      O68Ti32  (1, 1, 1)  0.448264  0.450315  0.452366         32\n",
       "3      O76Ti36  (1, 1, 1)  0.460582  0.462633  0.464683         36\n",
       "1      O80Ti36  (1, 1, 1)   0.54003  0.542081  0.544132         58\n",
       "0      O72Ti32  (1, 1, 1)  0.576261  0.578312  0.580363         64"
      ]
     },
     "execution_count": 100,
     "metadata": {},
     "output_type": "execute_result"
    }
   ],
   "source": [
    "df_new"
   ]
  },
  {
   "cell_type": "code",
   "execution_count": 105,
   "metadata": {},
   "outputs": [
    {
     "data": {
      "image/png": "[encoded data removed]",
      "text/plain": [
       "<Figure size 864x576 with 1 Axes>"
      ]
     },
     "metadata": {
      "needs_background": "light"
     },
     "output_type": "display_data"
    }
   ],
   "source": [
    "plt.figure(figsize=(12,8))\n",
    "plt.errorbar(x=df_new['new_order'], y=df_new['mid'], yerr=[df_new['mid'] - df_new['left'], df_new['right'] - df_new['mid']], fmt='o', ecolor='red',markersize=8)\n",
    "plt.title('Surface energy with miller index\\n (1,1,1)')\n",
    "plt.xlabel('Termination')\n",
    "plt.ylabel('Surface energy\\n eV/$\\mathrm{\\AA}^{2}$')\n",
    "plt.xticks(rotation='vertical')\n",
    "plt.show()"
   ]
  },
  {
   "cell_type": "code",
   "execution_count": 26,
   "metadata": {},
   "outputs": [],
   "source": [
    "from PIL import Image\n",
    "import imageio\n",
    "import os\n"
   ]
  },
  {
   "cell_type": "code",
   "execution_count": 27,
   "metadata": {},
   "outputs": [],
   "source": [
    "\n",
    "# Path to directory containing images\n",
    "path = output_folder\n",
    "\n",
    "# List all files in directory with .jpg extension\n",
    "image_files = [f for f in os.listdir(path) if f.endswith('.png')]\n",
    "\n",
    "# Create an array of images\n",
    "images = []\n",
    "for file_name in image_files:\n",
    "    file_path = os.path.join(path, file_name)\n",
    "    image = Image.open(file_path)\n",
    "    images.append(image)\n",
    "\n",
    "# Save the images as a GIF\n",
    "imageio.mimsave('output.gif', images)"
   ]
  },
  {
   "cell_type": "code",
   "execution_count": 106,
   "metadata": {},
   "outputs": [],
   "source": [
    "import lmdb"
   ]
  },
  {
   "cell_type": "code",
   "execution_count": null,
   "metadata": {},
   "outputs": [],
   "source": [
    "surface_formula = surface_ase.get_chemical_formula()\n",
    "['surface_formula']=surface_formula "
   ]
  },
  {
   "cell_type": "code",
   "execution_count": null,
   "metadata": {},
   "outputs": [],
   "source": []
  },
  {
   "cell_type": "code",
   "execution_count": 109,
   "metadata": {},
   "outputs": [
    {
     "data": {
      "text/plain": [
       "{'miller_index': (1, 1, 1), 'surface_formula': 'O72Ti32'}"
      ]
     },
     "execution_count": 109,
     "metadata": {},
     "output_type": "execute_result"
    }
   ],
   "source": [
    "testobj=possible_invertible_surfaces[0]\n",
    "surface_formula = testobj.get_chemical_formula()\n",
    "testobj.info['surface_formula']=surface_formula\n",
    "\n",
    "testobj.info"
   ]
  },
  {
   "cell_type": "code",
   "execution_count": null,
   "metadata": {},
   "outputs": [],
   "source": [
    "for idx in range(len(possible_invertible_surfaces)):\n",
    "    testobj=possible_invertible_surfaces[idx]\n",
    "    surface_formula = testobj.get_chemical_formula()\n",
    "    testobj.info['surface_formula']   \n",
    "    txn=db.begin(write=True)\n",
    "    txn.put(f\"{idx}\".encode('ascii'),pickle.dumps(testobj,protocol=0))\n",
    "    txn.commit()\n",
    "    db.sync()\n",
    "db.close()"
   ]
  }
 ],
 "metadata": {
  "kernelspec": {
   "display_name": "ocp-models",
   "language": "python",
   "name": "python3"
  },
  "language_info": {
   "codemirror_mode": {
    "name": "ipython",
    "version": 3
   },
   "file_extension": ".py",
   "mimetype": "text/x-python",
   "name": "python",
   "nbconvert_exporter": "python",
   "pygments_lexer": "ipython3",
   "version": "3.10.5"
  },
  "orig_nbformat": 4,
  "vscode": {
   "interpreter": {
    "hash": "482cce81d4c7a5b1dbf5abc53f3fa9c4c6232bf506eb7160f4dd39979dda3c51"
   }
  }
 },
 "nbformat": 4,
 "nbformat_minor": 2
}
