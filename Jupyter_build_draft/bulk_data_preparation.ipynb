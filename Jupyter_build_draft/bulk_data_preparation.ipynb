{
 "cells": [
  {
   "cell_type": "code",
   "execution_count": 1,
   "metadata": {},
   "outputs": [
    {
     "name": "stderr",
     "output_type": "stream",
     "text": [
      "c:\\Users\\lhuang37\\.conda\\envs\\ocp-models\\lib\\site-packages\\tqdm\\auto.py:22: TqdmWarning: IProgress not found. Please update jupyter and ipywidgets. See https://ipywidgets.readthedocs.io/en/stable/user_install.html\n",
      "  from .autonotebook import tqdm as notebook_tqdm\n"
     ]
    }
   ],
   "source": [
    "from pymatgen.entries.computed_entries import ComputedStructureEntry\n",
    "from ocpmodels.datasets import LmdbDataset\n",
    "import sys,os\n",
    "import json\n",
    "from ase import Atoms\n",
    "import ase\n",
    "import numpy as np\n",
    "from pymatgen.io.ase import AseAtomsAdaptor\n",
    "from ase.visualize import view\n",
    "from copy import deepcopy\n",
    "import torch\n",
    "import lmdb\n",
    "import pickle"
   ]
  },
  {
   "cell_type": "code",
   "execution_count": 2,
   "metadata": {},
   "outputs": [],
   "source": [
    "sys.path.append('C:/Users/lhuang37/Desktop/Shell_repo/')"
   ]
  },
  {
   "cell_type": "code",
   "execution_count": 3,
   "metadata": {},
   "outputs": [],
   "source": [
    "from structure_generation.lmdb_generator import generate_lmdb, convert_atoms_data"
   ]
  },
  {
   "cell_type": "code",
   "execution_count": 4,
   "metadata": {},
   "outputs": [],
   "source": [
    "with open('Data/bulk_oxides_20220621.json') as f:\n",
    "    bulks=json.load(f)\n",
    "bulk_oxides_dict = {entry['entry_id']: ComputedStructureEntry.from_dict(entry) \\\n",
    "                    for entry in bulks}"
   ]
  },
  {
   "cell_type": "code",
   "execution_count": 5,
   "metadata": {},
   "outputs": [],
   "source": [
    "mplist=[bulks[i]['entry_id'] for i in range(len(bulks))]"
   ]
  },
  {
   "attachments": {},
   "cell_type": "markdown",
   "metadata": {},
   "source": [
    "# Classes"
   ]
  },
  {
   "cell_type": "code",
   "execution_count": 6,
   "metadata": {},
   "outputs": [],
   "source": [
    "\n",
    "class Edgedataset():\n",
    "    # This calss is used to create a new dataset with the same input as OC20, based on the information from OC22 dataset\n",
    "    # The input should be the data object and the output is still data object.\n",
    "    # Add the edge_index and atoms' distances\n",
    "    \n",
    "    def __init__(\n",
    "        self,\n",
    "        max_neigh=200,\n",
    "        radius=6,\n",
    "        r_energy=False,\n",
    "        r_forces=False,\n",
    "        r_distances=False,\n",
    "        r_edges=True,\n",
    "        r_fixed=True,\n",
    "    ):\n",
    "        self.max_neigh = max_neigh\n",
    "        self.radius = radius\n",
    "        self.r_energy = r_energy\n",
    "        self.r_forces = r_forces\n",
    "        self.r_distances = r_distances\n",
    "        self.r_fixed = r_fixed\n",
    "        self.r_edges = r_edges\n",
    "    \n",
    "    def get_neighbors_pymatgen(self, atoms):\n",
    "        \"\"\"Preforms nearest neighbor search and returns edge index, distances,\n",
    "        and cell offsets\"\"\"\n",
    "        struct = AseAtomsAdaptor.get_structure(atoms)\n",
    "        _c_index, _n_index, _offsets, n_distance = struct.get_neighbor_list(\n",
    "            r=self.radius, numerical_tol=0, exclude_self=True\n",
    "        )\n",
    "\n",
    "        _nonmax_idx = []\n",
    "        for i in range(len(atoms)):\n",
    "            idx_i = (_c_index == i).nonzero()[0]\n",
    "            # sort neighbors by distance, remove edges larger than max_neighbors\n",
    "            idx_sorted = np.argsort(n_distance[idx_i])[: self.max_neigh]\n",
    "            _nonmax_idx.append(idx_i[idx_sorted])\n",
    "        _nonmax_idx = np.concatenate(_nonmax_idx)\n",
    "\n",
    "        _c_index = _c_index[_nonmax_idx]\n",
    "        _n_index = _n_index[_nonmax_idx]\n",
    "        n_distance = n_distance[_nonmax_idx]\n",
    "        _offsets = _offsets[_nonmax_idx]\n",
    "\n",
    "        return _c_index, _n_index, n_distance, _offsets\n",
    "    def reshape_features(self, c_index, n_index, n_distance, offsets):\n",
    "        \"\"\"Stack center and neighbor index and reshapes distances,\n",
    "        takes in np.arrays and returns torch tensors\"\"\"\n",
    "        edge_index = torch.LongTensor(np.vstack((n_index, c_index)))\n",
    "        edge_distances = torch.FloatTensor(n_distance)\n",
    "        cell_offsets = torch.LongTensor(offsets)\n",
    "\n",
    "        # remove distances smaller than a tolerance ~ 0. The small tolerance is\n",
    "        # needed to correct for pymatgen's neighbor_list returning self atoms\n",
    "        # in a few edge cases.\n",
    "        nonzero = torch.where(edge_distances >= 1e-8)[0]\n",
    "        edge_index = edge_index[:, nonzero]\n",
    "        edge_distances = edge_distances[nonzero]\n",
    "        cell_offsets = cell_offsets[nonzero]\n",
    "\n",
    "        return edge_index, edge_distances, cell_offsets\n",
    "    \n",
    "    def convert(\n",
    "            self,\n",
    "            obj,\n",
    "        ):\n",
    "            \"\"\"Convert a single atomic stucture to a graph.\n",
    "            Args:\n",
    "                atoms (ase.atoms.Atoms): An ASE atoms object.\n",
    "            Returns:\n",
    "                data (torch_geometric.data.Data): A torch geometic data object with edge_index, positions, atomic_numbers,\n",
    "                and optionally, energy, forces, and distances.\n",
    "                Optional properties can included by setting r_property=True when constructing the class.\n",
    "            \"\"\"\n",
    "\n",
    "            # put the minimum data in torch geometric data object\n",
    "            atoms=Atoms(obj.atomic_numbers,positions=obj.pos,tags=obj.tags,cell=obj.cell.squeeze(),pbc=True)\n",
    "\n",
    "            # optionally include other properties\n",
    "            if self.r_edges:\n",
    "                # run internal functions to get padded indices and distances\n",
    "                split_idx_dist = self.get_neighbors_pymatgen(atoms)\n",
    "                edge_index, edge_distances, cell_offsets = self.reshape_features(\n",
    "                    *split_idx_dist\n",
    "                )\n",
    "\n",
    "                obj.edge_index = edge_index\n",
    "                obj.cell_offsets = cell_offsets\n",
    "            if self.r_energy:\n",
    "                energy = atoms.get_potential_energy(apply_constraint=False)\n",
    "                atoms.y = energy\n",
    "            if self.r_forces:\n",
    "                forces = torch.Tensor(atoms.get_forces(apply_constraint=False))\n",
    "                atoms.force = forces\n",
    "            if self.r_distances and self.r_edges:\n",
    "                obj.distances = edge_distances\n",
    "            if self.r_fixed:\n",
    "                fixed_idx = torch.zeros(natoms)\n",
    "                if hasattr(atoms, \"constraints\"):\n",
    "                    from ase.constraints import FixAtoms\n",
    "\n",
    "                    for constraint in atoms.constraints:\n",
    "                        if isinstance(constraint, FixAtoms):\n",
    "                            fixed_idx[constraint.index] = 1\n",
    "                atoms.fixed = fixed_idx\n",
    "\n",
    "            return obj\n",
    "        \n",
    "    def convert_all(self,dataobj):\n",
    "        data_objects=[]\n",
    "        for idx,system in enumerate(dataobj):\n",
    "            data=deepcopy(system)\n",
    "            data_objects.append(data)\n",
    "\n",
    "        for i in range(len(data_objects)):\n",
    "            data_iter=data_objects[i]\n",
    "            data_objects[i]=self.convert(data_iter)\n",
    "        return data_objects"
   ]
  },
  {
   "attachments": {},
   "cell_type": "markdown",
   "metadata": {},
   "source": [
    "# next"
   ]
  },
  {
   "cell_type": "code",
   "execution_count": 7,
   "metadata": {},
   "outputs": [],
   "source": [
    "# pp=AseAtomsAdaptor.get_atoms(bulk_oxides_dict['mp-1219547'].structure)\n",
    "# data=convert_atoms_data(pp)\n",
    "# data.y=bulk_oxides_dict['mp-1219547'].energy"
   ]
  },
  {
   "cell_type": "code",
   "execution_count": 8,
   "metadata": {},
   "outputs": [],
   "source": [
    "a2g = Edgedataset(\n",
    "    max_neigh=50,\n",
    "    radius=6,\n",
    "    r_energy=False,    # False for test data\n",
    "    r_forces=False,\n",
    "    r_distances=True,\n",
    "    r_fixed=False,\n",
    ")"
   ]
  },
  {
   "cell_type": "code",
   "execution_count": 9,
   "metadata": {},
   "outputs": [],
   "source": [
    "datas=[]\n",
    "pathname='./Data/bulks_22.lmdb'\n",
    "for i in mplist:\n",
    "    pp=AseAtomsAdaptor.get_atoms(bulk_oxides_dict[i].structure)\n",
    "    data=convert_atoms_data(pp)\n",
    "    data.y=bulk_oxides_dict[i].energy\n",
    "    #new_data=a2g.convert(data)\n",
    "    datas.append(data)\n",
    "    if len(datas)>50:\n",
    "        generate_lmdb(datas,pathname)\n",
    "        datas=[]\n",
    "generate_lmdb(datas,pathname)"
   ]
  },
  {
   "cell_type": "code",
   "execution_count": 10,
   "metadata": {},
   "outputs": [],
   "source": [
    "idx=np.random.randint(0,4732,int(4732*0.15))"
   ]
  },
  {
   "cell_type": "code",
   "execution_count": 11,
   "metadata": {},
   "outputs": [],
   "source": [
    "seeit=LmdbDataset({\"src\":\"./Data/bulks_22.lmdb\"})"
   ]
  },
  {
   "cell_type": "code",
   "execution_count": 12,
   "metadata": {},
   "outputs": [],
   "source": [
    "def generate_lmdb_single(data: object, pathname: str):\n",
    "    \"\"\"\n",
    "    atoms_list:: Can be either a list of atoms objects or list of Data objects\n",
    "    \"\"\"\n",
    "    \n",
    "    pathname = pathname + '.lmdb' if '.lmdb' not in pathname else pathname\n",
    "    db = lmdb.open(\n",
    "        pathname,\n",
    "        map_size=1099511627 * 4,\n",
    "        subdir=False,\n",
    "        meminit=False,\n",
    "        map_async=True,\n",
    "    )\n",
    "    \n",
    "    for i in range(len(data)):\n",
    "        \n",
    "        txn = db.begin(write=True)        \n",
    "        length=txn.stat()['entries']        \n",
    "        txn.put(f\"{length}\".encode('ascii'), pickle.dumps(data, protocol=0))\n",
    "        txn.commit()\n",
    "        db.sync()\n",
    "    db.close()"
   ]
  },
  {
   "cell_type": "code",
   "execution_count": 13,
   "metadata": {},
   "outputs": [],
   "source": [
    "for i in range(len(seeit)):\n",
    "    if i in idx:\n",
    "        generate_lmdb_single(seeit[i],'./Data/bulk_val.lmdb')\n",
    "    else:\n",
    "        generate_lmdb_single(seeit[i],'./Data/bulk_train.lmdb')"
   ]
  }
 ],
 "metadata": {
  "kernelspec": {
   "display_name": "ocp-models",
   "language": "python",
   "name": "python3"
  },
  "language_info": {
   "codemirror_mode": {
    "name": "ipython",
    "version": 3
   },
   "file_extension": ".py",
   "mimetype": "text/x-python",
   "name": "python",
   "nbconvert_exporter": "python",
   "pygments_lexer": "ipython3",
   "version": "3.10.5"
  },
  "orig_nbformat": 4
 },
 "nbformat": 4,
 "nbformat_minor": 2
}
