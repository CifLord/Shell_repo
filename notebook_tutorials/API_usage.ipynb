{
 "cells": [
  {
   "cell_type": "code",
   "execution_count": 12,
   "id": "fde04c0f-29f6-41cf-b049-b501db284fe8",
   "metadata": {},
   "outputs": [],
   "source": [
    "import sys\n",
    "sys.path.append('/Users/richardtran/repos/Shell_repo/')\n",
    "sys.path.append('/Users/richardtran/repos/ocp')\n",
    "from ocpmodels.datasets import LmdbDataset\n",
    "from database.queryengine import SurfaceQueryEngine"
   ]
  },
  {
   "cell_type": "code",
   "execution_count": 13,
   "id": "443551f5-faf2-4c5b-b2e8-9477ac9b464d",
   "metadata": {},
   "outputs": [
    {
     "name": "stderr",
     "output_type": "stream",
     "text": [
      "/Users/richardtran/repos/pymatgen/pymatgen/ext/matproj.py:181: UserWarning: You are using the legacy MPRester, which is deprecated. If you are not a power user, ie., you do not have a lot of legacy code that uses many different MPRester methods, it is recommended you get a new API key from the new Materials Project front end. Once you use get your new API key, using the new API key will automatically route you to using the new MPRester.\n",
      "  warnings.warn(\n"
     ]
    }
   ],
   "source": [
    "queryengine = SurfaceQueryEngine()"
   ]
  },
  {
   "cell_type": "code",
   "execution_count": 14,
   "id": "7a5aaaef-142b-4a44-9e12-9b56418d383b",
   "metadata": {},
   "outputs": [],
   "source": [
    "adsslab_od3 = LmdbDataset({'src': 'adsslab_od3.lmdb'})\n",
    "slab_od3 = LmdbDataset({'src': 'slab_od3.lmdb'})"
   ]
  },
  {
   "cell_type": "code",
   "execution_count": 15,
   "id": "3404b4c1-cf52-47b0-9b7d-0c3353a1bc88",
   "metadata": {},
   "outputs": [],
   "source": [
    "for dat in adsslab_od3:\n",
    "    queryengine.insert_data_object(dat)\n",
    "for dat in slab_od3:\n",
    "    queryengine.insert_data_object(dat)\n",
    "    "
   ]
  },
  {
   "cell_type": "code",
   "execution_count": 17,
   "id": "0f09fa03-76a4-45fb-92b2-6b7406c0e5fb",
   "metadata": {},
   "outputs": [
    {
     "data": {
      "text/plain": [
       "7378"
      ]
     },
     "execution_count": 17,
     "metadata": {},
     "output_type": "execute_result"
    }
   ],
   "source": [
    "queryengine.surface_properties.count_documents({})"
   ]
  },
  {
   "cell_type": "code",
   "execution_count": null,
   "id": "f548e4a6-3931-4a30-82bf-3a033fe9b1a7",
   "metadata": {},
   "outputs": [],
   "source": []
  }
 ],
 "metadata": {
  "kernelspec": {
   "display_name": "name",
   "language": "python",
   "name": "name"
  },
  "language_info": {
   "codemirror_mode": {
    "name": "ipython",
    "version": 3
   },
   "file_extension": ".py",
   "mimetype": "text/x-python",
   "name": "python",
   "nbconvert_exporter": "python",
   "pygments_lexer": "ipython3",
   "version": "3.10.9"
  }
 },
 "nbformat": 4,
 "nbformat_minor": 5
}
