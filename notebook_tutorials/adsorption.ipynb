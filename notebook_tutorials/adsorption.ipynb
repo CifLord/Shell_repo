{
 "cells": [
  {
   "cell_type": "code",
   "execution_count": 1,
   "id": "e05bbc74-f1d3-49bf-b074-c956edaa6e7a",
   "metadata": {},
   "outputs": [],
   "source": [
    "import sys, random, os, json\n",
    "sys.path.append('/Users/richardtran/repos/Shell_repo/')\n",
    "from ocp.slab_generation.script_v3 import slab_generator\n",
    "from pymatgen.core.structure import Structure\n",
    "from pymatgen.io.ase import AseAtomsAdaptor\n",
    "from structure_generation.oxide_adsorption import surface_adsorption_saturation"
   ]
  },
  {
   "cell_type": "code",
   "execution_count": 2,
   "id": "741645a4-8e7c-4d19-a1a2-ef4e37b6cba7",
   "metadata": {},
   "outputs": [],
   "source": [
    "bulk_json = 'bulk_oxides_20220621.json'\n",
    "bulk_oxides_20220621 = json.load(open(bulk_json, 'rb'))\n",
    "bulk_oxides_dict = {entry['entry_id']: entry for entry in bulk_oxides_20220621}"
   ]
  },
  {
   "cell_type": "code",
   "execution_count": 5,
   "id": "e0b7c030-84ea-41b7-a7ba-28bd6f042af5",
   "metadata": {},
   "outputs": [],
   "source": [
    "# get the bare slabs\n",
    "bulk = AseAtomsAdaptor.get_atoms(Structure.from_dict(bulk_oxides_dict['mp-779156']['structure']))\n",
    "slabs = slab_generator(bulk, 1, 15, 15)"
   ]
  },
  {
   "cell_type": "code",
   "execution_count": 6,
   "id": "6d8f8608-bb72-4b23-99be-4e1eec0482cd",
   "metadata": {
    "tags": []
   },
   "outputs": [
    {
     "name": "stdout",
     "output_type": "stream",
     "text": [
      "Found total adsites: 4 for slab of 142 atoms in 0.088 secs\n",
      "coverage 4\n",
      "partition_combos (0,) Total combos 4\n",
      "groups 4 combinations into 4 groups\n",
      "grouped 1 sites to 1\n",
      "symmetrically reduced to 1 adslabs from 1\n",
      "removed 0.0 adsorbates! original coverage 4\n",
      "sorting 1 adslabs, completed 0/4 iterations\n",
      "grouped 1 sites to 1\n",
      "symmetrically reduced to 1 adslabs from 1\n",
      "removed 0.0 adsorbates! original coverage 4\n",
      "sorting 2 adslabs, completed 1/4 iterations\n",
      "grouped 1 sites to 1\n",
      "symmetrically reduced to 1 adslabs from 1\n",
      "removed 0.0 adsorbates! original coverage 4\n",
      "sorting 3 adslabs, completed 2/4 iterations\n",
      "grouped 1 sites to 1\n",
      "symmetrically reduced to 1 adslabs from 1\n",
      "removed 0.0 adsorbates! original coverage 4\n",
      "sorting 4 adslabs, completed 3/4 iterations\n",
      "coverage 4\n",
      "partition_combos (0,) Total combos 1\n",
      "groups 1 combinations into 1 groups\n",
      "grouped 1 sites to 1\n",
      "symmetrically reduced to 1 adslabs from 1\n",
      "removed 0.0 adsorbates! original coverage 4\n",
      "sorting 1 adslabs, completed 0/1 iterations\n"
     ]
    }
   ],
   "source": [
    "# get the adsorbed slabs\n",
    "adslabs = surface_adsorption_saturation(slabs[0])"
   ]
  },
  {
   "cell_type": "code",
   "execution_count": 9,
   "id": "86d1da6a-8d59-4ed6-8464-3a5d78ce1cb5",
   "metadata": {},
   "outputs": [
    {
     "data": {
      "text/plain": [
       "6"
      ]
     },
     "execution_count": 9,
     "metadata": {},
     "output_type": "execute_result"
    }
   ],
   "source": [
    "# should always return 6 adslabs\n",
    "len(adslabs)"
   ]
  }
 ],
 "metadata": {
  "kernelspec": {
   "display_name": "name",
   "language": "python",
   "name": "name"
  },
  "language_info": {
   "codemirror_mode": {
    "name": "ipython",
    "version": 3
   },
   "file_extension": ".py",
   "mimetype": "text/x-python",
   "name": "python",
   "nbconvert_exporter": "python",
   "pygments_lexer": "ipython3",
   "version": "3.10.9"
  }
 },
 "nbformat": 4,
 "nbformat_minor": 5
}
