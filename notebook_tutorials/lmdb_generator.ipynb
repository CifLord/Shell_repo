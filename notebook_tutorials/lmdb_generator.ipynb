{
 "cells": [
  {
   "cell_type": "code",
   "execution_count": 7,
   "id": "0a8a643b-490e-49d0-b6dd-e5c4fef498bd",
   "metadata": {},
   "outputs": [],
   "source": [
    "import sys, random, os, json\n",
    "\n",
    "sys.path.append('/Users/richardtran/repos/Shell_repo/')\n",
    "from structure_generation.bare_slabs import slab_generator\n",
    "from structure_generation.lmdb_generator import generate_lmdb\n",
    "from structure_generation.oxide_adsorption import surface_adsorption\n",
    "from structure_generation.MXide_adsorption import MXideAdsorbateGenerator\n",
    "from structure_generation.oxide_adsorption import ads_dict\n",
    "from structure_generation.surface import Slab \n",
    "\n",
    "sys.path.append('/Users/richardtran/repos/ocp')\n",
    "from ocpmodels.datasets import LmdbDataset\n",
    "\n",
    "bulk_json = '/Users/richardtran/repos/Shell_repo/database/bulk_oxides_20220621.json'\n",
    "bulk_oxides_20220621 = json.load(open(bulk_json, 'rb'))\n",
    "bulk_oxides_dict = {entry['entry_id']: entry for entry in bulk_oxides_20220621}"
   ]
  },
  {
   "cell_type": "markdown",
   "id": "32feab74-5cfe-4c69-b65d-af53ab466ce0",
   "metadata": {},
   "source": [
    "# Get lmdb for the bare slabs"
   ]
  },
  {
   "cell_type": "code",
   "execution_count": 8,
   "id": "7b6d83dd-e7eb-457e-86da-e40b544888d5",
   "metadata": {},
   "outputs": [],
   "source": [
    "slabs = slab_generator('mp-8840', 1, 15, 15)\n",
    "generate_lmdb(slabs, 'test.lmdb')\n",
    "bare_slab_dataset = LmdbDataset({'src': 'test.lmdb'})"
   ]
  },
  {
   "cell_type": "markdown",
   "id": "3b77e50d-3600-40e2-a505-62961c9cae6a",
   "metadata": {},
   "source": [
    "# Number of adslabs you should have should equal N adsites (O*) + N adsites x 4 (OH*) + N adsites x 2 (OOH* up/down) x 4 if you are placing adsorbates one at a time"
   ]
  },
  {
   "cell_type": "code",
   "execution_count": 9,
   "id": "cc215eae-961f-463a-b408-7fc65f194db1",
   "metadata": {
    "tags": []
   },
   "outputs": [
    {
     "name": "stdout",
     "output_type": "stream",
     "text": [
      "Found total adsites: 3 for slab of 112 atoms in 0.105 secs\n",
      "coverage 1\n",
      "partition_combos (0,) Total combos 3\n",
      "groups 3 combinations into 1 groups\n",
      "grouped 3 sites to 3\n",
      "symmetrically reduced to 3 adslabs from 3\n",
      "removed 0.0 adsorbates! original coverage 1\n",
      "removed 0.0 adsorbates! original coverage 1\n",
      "removed 0.0 adsorbates! original coverage 1\n",
      "sorting 3 adslabs, completed 0/1 iterations\n",
      "O2 3\n",
      "coverage 1\n",
      "partition_combos (0,) Total combos 12\n",
      "groups 12 combinations into 4 groups\n",
      "grouped 3 sites to 3\n",
      "symmetrically reduced to 3 adslabs from 3\n",
      "removed 0.0 adsorbates! original coverage 1\n",
      "removed 0.0 adsorbates! original coverage 1\n",
      "removed 0.0 adsorbates! original coverage 1\n",
      "sorting 3 adslabs, completed 0/4 iterations\n",
      "grouped 3 sites to 3\n",
      "symmetrically reduced to 3 adslabs from 3\n",
      "removed 0.0 adsorbates! original coverage 1\n",
      "removed 0.0 adsorbates! original coverage 1\n",
      "removed 0.0 adsorbates! original coverage 1\n",
      "sorting 6 adslabs, completed 1/4 iterations\n",
      "grouped 3 sites to 3\n",
      "symmetrically reduced to 3 adslabs from 3\n",
      "removed 0.0 adsorbates! original coverage 1\n",
      "removed 0.0 adsorbates! original coverage 1\n",
      "removed 0.0 adsorbates! original coverage 1\n",
      "sorting 9 adslabs, completed 2/4 iterations\n",
      "grouped 3 sites to 3\n",
      "symmetrically reduced to 3 adslabs from 3\n",
      "removed 0.0 adsorbates! original coverage 1\n",
      "removed 0.0 adsorbates! original coverage 1\n",
      "removed 0.0 adsorbates! original coverage 1\n",
      "sorting 12 adslabs, completed 3/4 iterations\n",
      "H2O2 12\n",
      "coverage 1\n",
      "partition_combos (0,) Total combos 12\n",
      "groups 12 combinations into 4 groups\n",
      "grouped 3 sites to 3\n",
      "symmetrically reduced to 3 adslabs from 3\n",
      "removed 0.0 adsorbates! original coverage 1\n",
      "removed 0.0 adsorbates! original coverage 1\n",
      "removed 0.0 adsorbates! original coverage 1\n",
      "sorting 3 adslabs, completed 0/4 iterations\n",
      "grouped 3 sites to 3\n",
      "symmetrically reduced to 3 adslabs from 3\n",
      "removed 0.0 adsorbates! original coverage 1\n",
      "removed 0.0 adsorbates! original coverage 1\n",
      "removed 0.0 adsorbates! original coverage 1\n",
      "sorting 6 adslabs, completed 1/4 iterations\n",
      "grouped 3 sites to 3\n",
      "symmetrically reduced to 3 adslabs from 3\n",
      "removed 0.0 adsorbates! original coverage 1\n",
      "removed 0.0 adsorbates! original coverage 1\n",
      "removed 0.0 adsorbates! original coverage 1\n",
      "sorting 9 adslabs, completed 2/4 iterations\n",
      "grouped 3 sites to 3\n",
      "symmetrically reduced to 3 adslabs from 3\n",
      "removed 0.0 adsorbates! original coverage 1\n",
      "removed 0.0 adsorbates! original coverage 1\n",
      "removed 0.0 adsorbates! original coverage 1\n",
      "sorting 12 adslabs, completed 3/4 iterations\n",
      "HNO 12\n",
      "coverage 1\n",
      "partition_combos (0,) Total combos 12\n",
      "groups 12 combinations into 4 groups\n",
      "grouped 3 sites to 3\n",
      "symmetrically reduced to 3 adslabs from 3\n",
      "removed 0.0 adsorbates! original coverage 1\n",
      "removed 0.0 adsorbates! original coverage 1\n",
      "removed 0.0 adsorbates! original coverage 1\n",
      "sorting 3 adslabs, completed 0/4 iterations\n",
      "grouped 3 sites to 3\n",
      "symmetrically reduced to 3 adslabs from 3\n",
      "removed 0.0 adsorbates! original coverage 1\n",
      "removed 0.0 adsorbates! original coverage 1\n",
      "removed 0.0 adsorbates! original coverage 1\n",
      "sorting 6 adslabs, completed 1/4 iterations\n",
      "grouped 3 sites to 3\n",
      "symmetrically reduced to 3 adslabs from 3\n",
      "removed 0.0 adsorbates! original coverage 1\n",
      "removed 0.0 adsorbates! original coverage 1\n",
      "removed 0.0 adsorbates! original coverage 1\n",
      "sorting 9 adslabs, completed 2/4 iterations\n",
      "grouped 3 sites to 3\n",
      "symmetrically reduced to 3 adslabs from 3\n",
      "removed 0.0 adsorbates! original coverage 1\n",
      "removed 0.0 adsorbates! original coverage 1\n",
      "removed 0.0 adsorbates! original coverage 1\n",
      "sorting 12 adslabs, completed 3/4 iterations\n",
      "HNO 12\n",
      "For single adsorbate 39\n"
     ]
    }
   ],
   "source": [
    "dat = bare_slab_dataset[0]\n",
    "adslabs = surface_adsorption(dat)\n",
    "print('For single adsorbate', len(adslabs))"
   ]
  },
  {
   "cell_type": "markdown",
   "id": "2bb050e9-d4cf-4537-adf0-81e910446e36",
   "metadata": {},
   "source": [
    "# Number of adslabs you should have should equal 1 (O*) + 4 (OH*) + 1 (optimized OH*) if you are saturating the surface. Ignore OOH* for saturation"
   ]
  },
  {
   "cell_type": "code",
   "execution_count": 10,
   "id": "2a397a35-2347-4857-be28-10f51b94686b",
   "metadata": {
    "tags": []
   },
   "outputs": [
    {
     "name": "stdout",
     "output_type": "stream",
     "text": [
      "Found total adsites: 3 for slab of 112 atoms in 0.104 secs\n",
      "coverage 3\n",
      "partition_combos (0,) Total combos 1\n",
      "groups 1 combinations into 1 groups\n",
      "grouped 1 sites to 1\n",
      "symmetrically reduced to 1 adslabs from 1\n",
      "removed 0.0 adsorbates! original coverage 3\n",
      "sorting 1 adslabs, completed 0/1 iterations\n",
      "O2 1\n",
      "coverage 3\n",
      "partition_combos (0,) Total combos 4\n",
      "groups 4 combinations into 4 groups\n",
      "grouped 1 sites to 1\n",
      "symmetrically reduced to 1 adslabs from 1\n",
      "removed 0.0 adsorbates! original coverage 3\n",
      "sorting 1 adslabs, completed 0/4 iterations\n",
      "grouped 1 sites to 1\n",
      "symmetrically reduced to 1 adslabs from 1\n",
      "removed 0.0 adsorbates! original coverage 3\n",
      "sorting 2 adslabs, completed 1/4 iterations\n",
      "grouped 1 sites to 1\n",
      "symmetrically reduced to 1 adslabs from 1\n",
      "removed 0.0 adsorbates! original coverage 3\n",
      "sorting 3 adslabs, completed 2/4 iterations\n",
      "grouped 1 sites to 1\n",
      "symmetrically reduced to 1 adslabs from 1\n",
      "removed 0.0 adsorbates! original coverage 3\n",
      "sorting 4 adslabs, completed 3/4 iterations\n",
      "H2O2 4\n",
      "For saturated 6\n"
     ]
    }
   ],
   "source": [
    "dat = bare_slab_dataset[0]\n",
    "adslabs = surface_adsorption(dat, coverage_list='saturated')\n",
    "print('For saturated', len(adslabs))"
   ]
  },
  {
   "cell_type": "markdown",
   "id": "c159b3ea-b79e-465d-927c-4a92c3ec5d29",
   "metadata": {
    "tags": []
   },
   "source": [
    "# Get lmdb for the adsorbed slabs of one bare slab"
   ]
  },
  {
   "cell_type": "code",
   "execution_count": 11,
   "id": "43421cff-5f7c-48a3-a3d2-79a53a67376f",
   "metadata": {},
   "outputs": [
    {
     "name": "stdout",
     "output_type": "stream",
     "text": [
      "6\n"
     ]
    }
   ],
   "source": [
    "print(len(adslabs))\n",
    "generate_lmdb(adslabs, 'test_ads.lmdb')\n",
    "adslab_dataset = LmdbDataset({'src': 'test_ads.lmdb'})"
   ]
  }
 ],
 "metadata": {
  "kernelspec": {
   "display_name": "name",
   "language": "python",
   "name": "name"
  },
  "language_info": {
   "codemirror_mode": {
    "name": "ipython",
    "version": 3
   },
   "file_extension": ".py",
   "mimetype": "text/x-python",
   "name": "python",
   "nbconvert_exporter": "python",
   "pygments_lexer": "ipython3",
   "version": "3.10.9"
  }
 },
 "nbformat": 4,
 "nbformat_minor": 5
}
