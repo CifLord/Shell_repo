{
 "cells": [
  {
   "cell_type": "code",
   "execution_count": 1,
   "id": "0a8a643b-490e-49d0-b6dd-e5c4fef498bd",
   "metadata": {},
   "outputs": [],
   "source": [
    "import sys, random, os, json\n",
    "\n",
    "sys.path.append('/Users/richardtran/repos/Shell_repo/')\n",
    "from structure_generation.bare_slabs import slab_generator\n",
    "from structure_generation.lmdb_generator import generate_lmdb\n",
    "from structure_generation.oxide_adsorption import surface_adsorption_saturation\n",
    "\n",
    "sys.path.append('/Users/richardtran/repos/ocp')\n",
    "from ocpmodels.datasets import LmdbDataset\n",
    "\n",
    "bulk_json = '/Users/richardtran/repos/Shell_repo/database/bulk_oxides_20220621.json'\n",
    "bulk_oxides_20220621 = json.load(open(bulk_json, 'rb'))\n",
    "bulk_oxides_dict = {entry['entry_id']: entry for entry in bulk_oxides_20220621}"
   ]
  },
  {
   "cell_type": "markdown",
   "id": "32feab74-5cfe-4c69-b65d-af53ab466ce0",
   "metadata": {},
   "source": [
    "# Get lmdb for the bare slabs"
   ]
  },
  {
   "cell_type": "code",
   "execution_count": 2,
   "id": "7b6d83dd-e7eb-457e-86da-e40b544888d5",
   "metadata": {},
   "outputs": [],
   "source": [
    "slabs = slab_generator('mp-8840', 1, 15, 15)\n",
    "generate_lmdb(slabs, 'test.lmdb')\n",
    "bare_slab_dataset = LmdbDataset({'src': 'test.lmdb'})"
   ]
  },
  {
   "cell_type": "markdown",
   "id": "c159b3ea-b79e-465d-927c-4a92c3ec5d29",
   "metadata": {},
   "source": [
    "# Get lmdb for the adsorbed slabs of one bare slab"
   ]
  },
  {
   "cell_type": "code",
   "execution_count": 3,
   "id": "cc215eae-961f-463a-b408-7fc65f194db1",
   "metadata": {
    "tags": []
   },
   "outputs": [
    {
     "name": "stdout",
     "output_type": "stream",
     "text": [
      "Found total adsites: 1 for slab of 112 atoms in 0.102 secs\n",
      "coverage 1\n",
      "partition_combos (0,) Total combos 4\n",
      "groups 4 combinations into 4 groups\n",
      "grouped 1 sites to 1\n",
      "symmetrically reduced to 1 adslabs from 1\n",
      "removed 0.0 adsorbates! original coverage 1\n",
      "sorting 1 adslabs, completed 0/4 iterations\n",
      "grouped 1 sites to 1\n",
      "symmetrically reduced to 1 adslabs from 1\n",
      "removed 0.0 adsorbates! original coverage 1\n",
      "sorting 2 adslabs, completed 1/4 iterations\n",
      "grouped 1 sites to 1\n",
      "symmetrically reduced to 1 adslabs from 1\n",
      "removed 0.0 adsorbates! original coverage 1\n",
      "sorting 3 adslabs, completed 2/4 iterations\n",
      "grouped 1 sites to 1\n",
      "symmetrically reduced to 1 adslabs from 1\n",
      "removed 0.0 adsorbates! original coverage 1\n",
      "sorting 4 adslabs, completed 3/4 iterations\n",
      "coverage 1\n",
      "partition_combos (0,) Total combos 1\n",
      "groups 1 combinations into 1 groups\n",
      "grouped 1 sites to 1\n",
      "symmetrically reduced to 1 adslabs from 1\n",
      "removed 0.0 adsorbates! original coverage 1\n",
      "sorting 1 adslabs, completed 0/1 iterations\n",
      "6\n"
     ]
    }
   ],
   "source": [
    "dat = bare_slab_dataset[0]\n",
    "adslabs = surface_adsorption_saturation(dat)\n",
    "print(len(adslabs))\n",
    "generate_lmdb(adslabs, 'test_ads.lmdb')\n",
    "adslab_dataset = LmdbDataset({'src': 'test_ads.lmdb'})"
   ]
  }
 ],
 "metadata": {
  "kernelspec": {
   "display_name": "name",
   "language": "python",
   "name": "name"
  },
  "language_info": {
   "codemirror_mode": {
    "name": "ipython",
    "version": 3
   },
   "file_extension": ".py",
   "mimetype": "text/x-python",
   "name": "python",
   "nbconvert_exporter": "python",
   "pygments_lexer": "ipython3",
   "version": "3.10.9"
  }
 },
 "nbformat": 4,
 "nbformat_minor": 5
}
