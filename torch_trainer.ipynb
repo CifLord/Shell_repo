{
 "cells": [
  {
   "cell_type": "code",
   "execution_count": 1,
   "metadata": {},
   "outputs": [
    {
     "name": "stderr",
     "output_type": "stream",
     "text": [
      "c:\\Users\\lhuang37\\.conda\\envs\\ocp-models\\lib\\site-packages\\tqdm\\auto.py:22: TqdmWarning: IProgress not found. Please update jupyter and ipywidgets. See https://ipywidgets.readthedocs.io/en/stable/user_install.html\n",
      "  from .autonotebook import tqdm as notebook_tqdm\n",
      "ERROR:root:Invalid setup for SCN. Either the e3nn library or Jd.pt is missing.\n"
     ]
    }
   ],
   "source": [
    "import os\n",
    "import numpy as np\n",
    "import matplotlib.pyplot as plt\n",
    "import wandb\n",
    "from pytorch_lightning.loggers import WandbLogger\n",
    "import torch\n",
    "from Models.EGformer import EGformer\n",
    "import torch.nn as nn\n",
    "import torch.optim as optim\n",
    "from ocpmodels.datasets import LmdbDataset\n",
    "from torch.utils.data import random_split\n",
    "import torch_geometric.loader as geom_loader\n",
    "import torch_geometric.data as data\n",
    "from typing import Any\n",
    "import yaml\n",
    "import torch.nn.init as init\n",
    "import torch.nn as nn"
   ]
  },
  {
   "cell_type": "code",
   "execution_count": null,
   "metadata": {},
   "outputs": [],
   "source": []
  },
  {
   "cell_type": "code",
   "execution_count": 2,
   "metadata": {},
   "outputs": [],
   "source": [
    "# Save the model hyperparameters to a YAML file\n",
    "model_hparams ={\"num_atoms\":0,\n",
    "                \"bond_feat_dim\":0,\n",
    "                \"num_targets\":0,\n",
    "                \"num_heads\":4,\n",
    "                }\n",
    "\n",
    "with open('params/model_hparams.yml', 'w') as file:\n",
    "    yaml.dump(model_hparams, file)"
   ]
  },
  {
   "cell_type": "code",
   "execution_count": 64,
   "metadata": {},
   "outputs": [],
   "source": [
    "class Egformer(nn.Module):\n",
    "\n",
    "    def __init__(self,**loaded_model_hparams):\n",
    "        super(Egformer,self).__init__()\n",
    "        self.arc=EGformer(**loaded_model_hparams)        \n",
    "        self.mask_loss = nn.MSELoss()\n",
    "\n",
    "    def forward(self,data):\n",
    "        pred_output = self.arc(data)\n",
    "        masks=data.data.y/data.natoms\n",
    "        masks=norm_label(masks)\n",
    "        loss = self.mask_loss(pred_output.view(-1, 1), masks.view(-1, 1))\n",
    "        acc=abs(pred_output.view(-1, 1)-masks.view(-1, 1))\n",
    "\n",
    "        if masks !=None:            \n",
    "            return loss,acc\n",
    "\n",
    "        return loss,acc\n",
    "    def norm_label(data,y_mean=-7,y_std=6):\n",
    "\n",
    "        label=data.y/data.natoms\n",
    "        label=(label-y_mean)/y_std\n",
    "        return label"
   ]
  },
  {
   "cell_type": "code",
   "execution_count": 65,
   "metadata": {},
   "outputs": [
    {
     "name": "stderr",
     "output_type": "stream",
     "text": [
      "WARNING:root:Unrecognized arguments: ['num_heads', 'emb_size_in', 'emb_size_trans', 'out_layer1', 'out_layer2', 'batch_size']\n",
      "c:\\Users\\lhuang37\\.conda\\envs\\ocp-models\\lib\\site-packages\\torch\\nn\\init.py:405: UserWarning: Initializing zero-element tensors is a no-op\n",
      "  warnings.warn(\"Initializing zero-element tensors is a no-op\")\n"
     ]
    }
   ],
   "source": [
    "with open('params/model_hparams.yml', 'r') as file:\n",
    "    loaded_model_hparams = yaml.load(file, Loader=yaml.FullLoader)\n",
    "\n",
    "# Create the model using the loaded hyperparameters\n",
    "model = Egformer(**loaded_model_hparams)\n",
    "checkpoint_path='params/gemnet_oc_base_oc20_oc22.pt'\n",
    "pretrained_state_dict = torch.load(checkpoint_path)['state_dict']\n",
    "new_model_state_dict = model.arc.state_dict()\n",
    "filtered_pretrained_state_dict = {k.strip('module.module.'): v for k, v in pretrained_state_dict.items() if k.strip('module.module.') in new_model_state_dict}\n",
    "new_model_state_dict.update(filtered_pretrained_state_dict)\n",
    "model.arc.load_state_dict(new_model_state_dict)\n",
    "for param_name, param in model.named_parameters():\n",
    "\n",
    "    if param_name.replace('arc.','') in filtered_pretrained_state_dict.keys():\n",
    "        \n",
    "        param.requires_grad = False"
   ]
  },
  {
   "cell_type": "code",
   "execution_count": 66,
   "metadata": {},
   "outputs": [],
   "source": [
    "y_mean=-7\n",
    "y_std=6\n",
    "num_epochs=30\n",
    "batch_size = 2\n",
    "learning_rate=0.01\n",
    "CHECKPOINT_PATH=\"./checkpoints\"\n",
    "DEVICE='cuda'\n",
    "dataset=LmdbDataset({\"src\":\"Data/bulks.lmdb\"})\n",
    "criterion=nn.MSELoss()\n",
    "optimizer=torch.optim.Adam(model.parameters(),lr=learning_rate)"
   ]
  },
  {
   "cell_type": "code",
   "execution_count": 67,
   "metadata": {},
   "outputs": [
    {
     "name": "stdout",
     "output_type": "stream",
     "text": [
      "Freeze params is 238\n",
      "Need optimiz params is 131\n"
     ]
    }
   ],
   "source": [
    "f_paras,t_paras=0,0\n",
    "for param_name,param in model.named_parameters():\n",
    "    if param.requires_grad is False:\n",
    "        f_paras+=1\n",
    "    else:\n",
    "        t_paras+=1\n",
    "print('Freeze params is',f_paras)\n",
    "print('Need optimiz params is',t_paras)"
   ]
  },
  {
   "cell_type": "code",
   "execution_count": 68,
   "metadata": {},
   "outputs": [],
   "source": [
    "train_length = int(0.8 * len(dataset))\n",
    "val_length = len(dataset) - train_length\n",
    "\n",
    "# Split the dataset into train and validation\n",
    "train_dataset, val_dataset =random_split(dataset, [train_length, val_length])\n",
    "train_loader = geom_loader.DataLoader(train_dataset, batch_size=1)\n",
    "val_loader = geom_loader.DataLoader(val_dataset, batch_size=1)"
   ]
  },
  {
   "cell_type": "code",
   "execution_count": 69,
   "metadata": {},
   "outputs": [
    {
     "name": "stdout",
     "output_type": "stream",
     "text": [
      "torch.Size([56])\n"
     ]
    }
   ],
   "source": [
    "data = next(iter(train_loader))\n",
    "batched_data = data.batch\n",
    "print(batched_data.shape)"
   ]
  },
  {
   "cell_type": "code",
   "execution_count": 70,
   "metadata": {},
   "outputs": [],
   "source": [
    "from tqdm import tqdm"
   ]
  },
  {
   "cell_type": "code",
   "execution_count": null,
   "metadata": {},
   "outputs": [],
   "source": []
  },
  {
   "cell_type": "code",
   "execution_count": 71,
   "metadata": {},
   "outputs": [],
   "source": [
    "def train_fn(data_loader,model,optimizer):\n",
    "    model.train()\n",
    "    total_loss=0.0\n",
    "    \n",
    "    for images in tqdm(data_loader):\n",
    "        images=images.to(DEVICE)        \n",
    "        optimizer.zero_grad()\n",
    "        loss,acc=model(images)\n",
    "        loss.backward()\n",
    "        optimizer.step()\n",
    "        total_loss+=loss.item()\n",
    "        \n",
    "    return total_loss/len(data_loader)"
   ]
  },
  {
   "cell_type": "code",
   "execution_count": 72,
   "metadata": {},
   "outputs": [],
   "source": [
    "def eval_fn(data_loader,model):\n",
    "    model.eval()\n",
    "    total_loss=0.0\n",
    "    total_acc=0    \n",
    "    with torch.no_grad():\n",
    "        for images in tqdm(data_loader):\n",
    "            \n",
    "            images=images.to(DEVICE)                      \n",
    "            loss,acc=model(images)\n",
    "            total_loss+=loss.item()\n",
    "            total_acc+=acc.item()\n",
    "\n",
    "    return total_loss/len(data_loader),total_acc/len(data_loader)"
   ]
  },
  {
   "cell_type": "code",
   "execution_count": 73,
   "metadata": {},
   "outputs": [
    {
     "name": "stderr",
     "output_type": "stream",
     "text": [
      "  0%|          | 0/3785 [00:00<?, ?it/s]"
     ]
    },
    {
     "name": "stderr",
     "output_type": "stream",
     "text": [
      "\n"
     ]
    },
    {
     "ename": "RuntimeError",
     "evalue": "Expected all tensors to be on the same device, but found at least two devices, cuda:0 and cpu!",
     "output_type": "error",
     "traceback": [
      "\u001b[1;31m---------------------------------------------------------------------------\u001b[0m",
      "\u001b[1;31mRuntimeError\u001b[0m                              Traceback (most recent call last)",
      "\u001b[1;32mc:\\Users\\lhuang37\\Desktop\\Shell_trans\\Shell_repo\\torch_trainer.ipynb Cell 14\u001b[0m in \u001b[0;36m<cell line: 2>\u001b[1;34m()\u001b[0m\n\u001b[0;32m      <a href='vscode-notebook-cell:/c%3A/Users/lhuang37/Desktop/Shell_trans/Shell_repo/torch_trainer.ipynb#X30sZmlsZQ%3D%3D?line=0'>1</a>\u001b[0m best_valid_loss\u001b[39m=\u001b[39mnp\u001b[39m.\u001b[39mInf\n\u001b[0;32m      <a href='vscode-notebook-cell:/c%3A/Users/lhuang37/Desktop/Shell_trans/Shell_repo/torch_trainer.ipynb#X30sZmlsZQ%3D%3D?line=1'>2</a>\u001b[0m \u001b[39mfor\u001b[39;00m i \u001b[39min\u001b[39;00m \u001b[39mrange\u001b[39m(num_epochs):\n\u001b[1;32m----> <a href='vscode-notebook-cell:/c%3A/Users/lhuang37/Desktop/Shell_trans/Shell_repo/torch_trainer.ipynb#X30sZmlsZQ%3D%3D?line=2'>3</a>\u001b[0m     train_loss\u001b[39m=\u001b[39mtrain_fn(train_loader,model,optimizer)\n\u001b[0;32m      <a href='vscode-notebook-cell:/c%3A/Users/lhuang37/Desktop/Shell_trans/Shell_repo/torch_trainer.ipynb#X30sZmlsZQ%3D%3D?line=3'>4</a>\u001b[0m     valid_loss,acc\u001b[39m=\u001b[39meval_fn(valid_loader,model)\n\u001b[0;32m      <a href='vscode-notebook-cell:/c%3A/Users/lhuang37/Desktop/Shell_trans/Shell_repo/torch_trainer.ipynb#X30sZmlsZQ%3D%3D?line=4'>5</a>\u001b[0m     \u001b[39mprint\u001b[39m(acc)\n",
      "\u001b[1;32mc:\\Users\\lhuang37\\Desktop\\Shell_trans\\Shell_repo\\torch_trainer.ipynb Cell 14\u001b[0m in \u001b[0;36mtrain_fn\u001b[1;34m(data_loader, model, optimizer)\u001b[0m\n\u001b[0;32m      <a href='vscode-notebook-cell:/c%3A/Users/lhuang37/Desktop/Shell_trans/Shell_repo/torch_trainer.ipynb#X30sZmlsZQ%3D%3D?line=5'>6</a>\u001b[0m images\u001b[39m=\u001b[39mimages\u001b[39m.\u001b[39mto(DEVICE)        \n\u001b[0;32m      <a href='vscode-notebook-cell:/c%3A/Users/lhuang37/Desktop/Shell_trans/Shell_repo/torch_trainer.ipynb#X30sZmlsZQ%3D%3D?line=6'>7</a>\u001b[0m optimizer\u001b[39m.\u001b[39mzero_grad()\n\u001b[1;32m----> <a href='vscode-notebook-cell:/c%3A/Users/lhuang37/Desktop/Shell_trans/Shell_repo/torch_trainer.ipynb#X30sZmlsZQ%3D%3D?line=7'>8</a>\u001b[0m loss,acc\u001b[39m=\u001b[39mmodel(images)\n\u001b[0;32m      <a href='vscode-notebook-cell:/c%3A/Users/lhuang37/Desktop/Shell_trans/Shell_repo/torch_trainer.ipynb#X30sZmlsZQ%3D%3D?line=8'>9</a>\u001b[0m loss\u001b[39m.\u001b[39mbackward()\n\u001b[0;32m     <a href='vscode-notebook-cell:/c%3A/Users/lhuang37/Desktop/Shell_trans/Shell_repo/torch_trainer.ipynb#X30sZmlsZQ%3D%3D?line=9'>10</a>\u001b[0m optimizer\u001b[39m.\u001b[39mstep()\n",
      "File \u001b[1;32mc:\\Users\\lhuang37\\.conda\\envs\\ocp-models\\lib\\site-packages\\torch\\nn\\modules\\module.py:1130\u001b[0m, in \u001b[0;36mModule._call_impl\u001b[1;34m(self, *input, **kwargs)\u001b[0m\n\u001b[0;32m   1126\u001b[0m \u001b[39m# If we don't have any hooks, we want to skip the rest of the logic in\u001b[39;00m\n\u001b[0;32m   1127\u001b[0m \u001b[39m# this function, and just call forward.\u001b[39;00m\n\u001b[0;32m   1128\u001b[0m \u001b[39mif\u001b[39;00m \u001b[39mnot\u001b[39;00m (\u001b[39mself\u001b[39m\u001b[39m.\u001b[39m_backward_hooks \u001b[39mor\u001b[39;00m \u001b[39mself\u001b[39m\u001b[39m.\u001b[39m_forward_hooks \u001b[39mor\u001b[39;00m \u001b[39mself\u001b[39m\u001b[39m.\u001b[39m_forward_pre_hooks \u001b[39mor\u001b[39;00m _global_backward_hooks\n\u001b[0;32m   1129\u001b[0m         \u001b[39mor\u001b[39;00m _global_forward_hooks \u001b[39mor\u001b[39;00m _global_forward_pre_hooks):\n\u001b[1;32m-> 1130\u001b[0m     \u001b[39mreturn\u001b[39;00m forward_call(\u001b[39m*\u001b[39m\u001b[39minput\u001b[39m, \u001b[39m*\u001b[39m\u001b[39m*\u001b[39mkwargs)\n\u001b[0;32m   1131\u001b[0m \u001b[39m# Do not call functions when jit is used\u001b[39;00m\n\u001b[0;32m   1132\u001b[0m full_backward_hooks, non_full_backward_hooks \u001b[39m=\u001b[39m [], []\n",
      "\u001b[1;32mc:\\Users\\lhuang37\\Desktop\\Shell_trans\\Shell_repo\\torch_trainer.ipynb Cell 14\u001b[0m in \u001b[0;36mEgformer.forward\u001b[1;34m(self, data)\u001b[0m\n\u001b[0;32m      <a href='vscode-notebook-cell:/c%3A/Users/lhuang37/Desktop/Shell_trans/Shell_repo/torch_trainer.ipynb#X30sZmlsZQ%3D%3D?line=7'>8</a>\u001b[0m \u001b[39mdef\u001b[39;00m \u001b[39mforward\u001b[39m(\u001b[39mself\u001b[39m,data):\n\u001b[1;32m----> <a href='vscode-notebook-cell:/c%3A/Users/lhuang37/Desktop/Shell_trans/Shell_repo/torch_trainer.ipynb#X30sZmlsZQ%3D%3D?line=8'>9</a>\u001b[0m     pred_output \u001b[39m=\u001b[39m \u001b[39mself\u001b[39;49m\u001b[39m.\u001b[39;49marc(data)\n\u001b[0;32m     <a href='vscode-notebook-cell:/c%3A/Users/lhuang37/Desktop/Shell_trans/Shell_repo/torch_trainer.ipynb#X30sZmlsZQ%3D%3D?line=9'>10</a>\u001b[0m     masks\u001b[39m=\u001b[39mdata\u001b[39m.\u001b[39mdata\u001b[39m.\u001b[39my\u001b[39m/\u001b[39mdata\u001b[39m.\u001b[39mnatoms\n\u001b[0;32m     <a href='vscode-notebook-cell:/c%3A/Users/lhuang37/Desktop/Shell_trans/Shell_repo/torch_trainer.ipynb#X30sZmlsZQ%3D%3D?line=10'>11</a>\u001b[0m     masks\u001b[39m=\u001b[39mnorm_label(masks)\n",
      "File \u001b[1;32mc:\\Users\\lhuang37\\.conda\\envs\\ocp-models\\lib\\site-packages\\torch\\nn\\modules\\module.py:1130\u001b[0m, in \u001b[0;36mModule._call_impl\u001b[1;34m(self, *input, **kwargs)\u001b[0m\n\u001b[0;32m   1126\u001b[0m \u001b[39m# If we don't have any hooks, we want to skip the rest of the logic in\u001b[39;00m\n\u001b[0;32m   1127\u001b[0m \u001b[39m# this function, and just call forward.\u001b[39;00m\n\u001b[0;32m   1128\u001b[0m \u001b[39mif\u001b[39;00m \u001b[39mnot\u001b[39;00m (\u001b[39mself\u001b[39m\u001b[39m.\u001b[39m_backward_hooks \u001b[39mor\u001b[39;00m \u001b[39mself\u001b[39m\u001b[39m.\u001b[39m_forward_hooks \u001b[39mor\u001b[39;00m \u001b[39mself\u001b[39m\u001b[39m.\u001b[39m_forward_pre_hooks \u001b[39mor\u001b[39;00m _global_backward_hooks\n\u001b[0;32m   1129\u001b[0m         \u001b[39mor\u001b[39;00m _global_forward_hooks \u001b[39mor\u001b[39;00m _global_forward_pre_hooks):\n\u001b[1;32m-> 1130\u001b[0m     \u001b[39mreturn\u001b[39;00m forward_call(\u001b[39m*\u001b[39m\u001b[39minput\u001b[39m, \u001b[39m*\u001b[39m\u001b[39m*\u001b[39mkwargs)\n\u001b[0;32m   1131\u001b[0m \u001b[39m# Do not call functions when jit is used\u001b[39;00m\n\u001b[0;32m   1132\u001b[0m full_backward_hooks, non_full_backward_hooks \u001b[39m=\u001b[39m [], []\n",
      "File \u001b[1;32mc:\\Users\\lhuang37\\Desktop\\Shell_trans\\Shell_repo\\Models\\EGformer.py:368\u001b[0m, in \u001b[0;36mEGformer.forward\u001b[1;34m(self, data)\u001b[0m\n\u001b[0;32m    356\u001b[0m \u001b[39m# print('checkpoint1')\u001b[39;00m\n\u001b[0;32m    357\u001b[0m _, idx_t \u001b[39m=\u001b[39m main_graph[\u001b[39m\"\u001b[39m\u001b[39medge_index\u001b[39m\u001b[39m\"\u001b[39m]\n\u001b[0;32m    359\u001b[0m (\n\u001b[0;32m    360\u001b[0m     basis_rad_raw,\n\u001b[0;32m    361\u001b[0m     basis_atom_update,\n\u001b[0;32m    362\u001b[0m     basis_output,\n\u001b[0;32m    363\u001b[0m     bases_qint,\n\u001b[0;32m    364\u001b[0m     bases_e2e,\n\u001b[0;32m    365\u001b[0m     bases_a2e,\n\u001b[0;32m    366\u001b[0m     bases_e2a,\n\u001b[0;32m    367\u001b[0m     basis_a2a_rad,\n\u001b[1;32m--> 368\u001b[0m ) \u001b[39m=\u001b[39m \u001b[39mself\u001b[39;49m\u001b[39m.\u001b[39;49mget_bases(\n\u001b[0;32m    369\u001b[0m     main_graph\u001b[39m=\u001b[39;49mmain_graph,\n\u001b[0;32m    370\u001b[0m     a2a_graph\u001b[39m=\u001b[39;49ma2a_graph,\n\u001b[0;32m    371\u001b[0m     a2ee2a_graph\u001b[39m=\u001b[39;49ma2ee2a_graph,\n\u001b[0;32m    372\u001b[0m     qint_graph\u001b[39m=\u001b[39;49mqint_graph,\n\u001b[0;32m    373\u001b[0m     trip_idx_e2e\u001b[39m=\u001b[39;49mtrip_idx_e2e,\n\u001b[0;32m    374\u001b[0m     trip_idx_a2e\u001b[39m=\u001b[39;49mtrip_idx_a2e,\n\u001b[0;32m    375\u001b[0m     trip_idx_e2a\u001b[39m=\u001b[39;49mtrip_idx_e2a,\n\u001b[0;32m    376\u001b[0m     quad_idx\u001b[39m=\u001b[39;49mquad_idx,\n\u001b[0;32m    377\u001b[0m     num_atoms\u001b[39m=\u001b[39;49mnum_atoms,\n\u001b[0;32m    378\u001b[0m )\n\u001b[0;32m    379\u001b[0m \u001b[39m# Embedding block\u001b[39;00m\n\u001b[0;32m    380\u001b[0m h \u001b[39m=\u001b[39m \u001b[39mself\u001b[39m\u001b[39m.\u001b[39matom_emb(atomic_numbers)\n",
      "File \u001b[1;32m~\\Desktop\\Shell_repo\\ocp\\ocpmodels\\models\\gemnet_oc\\gemnet_oc.py:1106\u001b[0m, in \u001b[0;36mGemNetOC.get_bases\u001b[1;34m(self, main_graph, a2a_graph, a2ee2a_graph, qint_graph, trip_idx_e2e, trip_idx_a2e, trip_idx_e2a, quad_idx, num_atoms)\u001b[0m\n\u001b[0;32m   1093\u001b[0m \u001b[39mdef\u001b[39;00m \u001b[39mget_bases\u001b[39m(\n\u001b[0;32m   1094\u001b[0m     \u001b[39mself\u001b[39m,\n\u001b[0;32m   1095\u001b[0m     main_graph,\n\u001b[1;32m   (...)\u001b[0m\n\u001b[0;32m   1103\u001b[0m     num_atoms,\n\u001b[0;32m   1104\u001b[0m ):\n\u001b[0;32m   1105\u001b[0m     \u001b[39m\"\"\"Calculate and transform basis functions.\"\"\"\u001b[39;00m\n\u001b[1;32m-> 1106\u001b[0m     basis_rad_main_raw \u001b[39m=\u001b[39m \u001b[39mself\u001b[39;49m\u001b[39m.\u001b[39;49mradial_basis(main_graph[\u001b[39m\"\u001b[39;49m\u001b[39mdistance\u001b[39;49m\u001b[39m\"\u001b[39;49m])\n\u001b[0;32m   1108\u001b[0m     \u001b[39m# Calculate triplet angles\u001b[39;00m\n\u001b[0;32m   1109\u001b[0m     cosφ_cab \u001b[39m=\u001b[39m inner_product_clamped(\n\u001b[0;32m   1110\u001b[0m         main_graph[\u001b[39m\"\u001b[39m\u001b[39mvector\u001b[39m\u001b[39m\"\u001b[39m][trip_idx_e2e[\u001b[39m\"\u001b[39m\u001b[39mout\u001b[39m\u001b[39m\"\u001b[39m]],\n\u001b[0;32m   1111\u001b[0m         main_graph[\u001b[39m\"\u001b[39m\u001b[39mvector\u001b[39m\u001b[39m\"\u001b[39m][trip_idx_e2e[\u001b[39m\"\u001b[39m\u001b[39min\u001b[39m\u001b[39m\"\u001b[39m]],\n\u001b[0;32m   1112\u001b[0m     )\n",
      "File \u001b[1;32mc:\\Users\\lhuang37\\.conda\\envs\\ocp-models\\lib\\site-packages\\torch\\nn\\modules\\module.py:1130\u001b[0m, in \u001b[0;36mModule._call_impl\u001b[1;34m(self, *input, **kwargs)\u001b[0m\n\u001b[0;32m   1126\u001b[0m \u001b[39m# If we don't have any hooks, we want to skip the rest of the logic in\u001b[39;00m\n\u001b[0;32m   1127\u001b[0m \u001b[39m# this function, and just call forward.\u001b[39;00m\n\u001b[0;32m   1128\u001b[0m \u001b[39mif\u001b[39;00m \u001b[39mnot\u001b[39;00m (\u001b[39mself\u001b[39m\u001b[39m.\u001b[39m_backward_hooks \u001b[39mor\u001b[39;00m \u001b[39mself\u001b[39m\u001b[39m.\u001b[39m_forward_hooks \u001b[39mor\u001b[39;00m \u001b[39mself\u001b[39m\u001b[39m.\u001b[39m_forward_pre_hooks \u001b[39mor\u001b[39;00m _global_backward_hooks\n\u001b[0;32m   1129\u001b[0m         \u001b[39mor\u001b[39;00m _global_forward_hooks \u001b[39mor\u001b[39;00m _global_forward_pre_hooks):\n\u001b[1;32m-> 1130\u001b[0m     \u001b[39mreturn\u001b[39;00m forward_call(\u001b[39m*\u001b[39m\u001b[39minput\u001b[39m, \u001b[39m*\u001b[39m\u001b[39m*\u001b[39mkwargs)\n\u001b[0;32m   1131\u001b[0m \u001b[39m# Do not call functions when jit is used\u001b[39;00m\n\u001b[0;32m   1132\u001b[0m full_backward_hooks, non_full_backward_hooks \u001b[39m=\u001b[39m [], []\n",
      "File \u001b[1;32m~\\Desktop\\Shell_repo\\ocp\\ocpmodels\\models\\gemnet_oc\\layers\\radial_basis.py:231\u001b[0m, in \u001b[0;36mRadialBasis.forward\u001b[1;34m(self, d)\u001b[0m\n\u001b[0;32m    228\u001b[0m d_scaled \u001b[39m=\u001b[39m d \u001b[39m*\u001b[39m \u001b[39mself\u001b[39m\u001b[39m.\u001b[39minv_cutoff\n\u001b[0;32m    230\u001b[0m env \u001b[39m=\u001b[39m \u001b[39mself\u001b[39m\u001b[39m.\u001b[39menvelope(d_scaled)\n\u001b[1;32m--> 231\u001b[0m res \u001b[39m=\u001b[39m env[:, \u001b[39mNone\u001b[39;00m] \u001b[39m*\u001b[39m \u001b[39mself\u001b[39;49m\u001b[39m.\u001b[39;49mrbf(d_scaled)\n\u001b[0;32m    233\u001b[0m \u001b[39mif\u001b[39;00m \u001b[39mself\u001b[39m\u001b[39m.\u001b[39mscale_basis:\n\u001b[0;32m    234\u001b[0m     res \u001b[39m=\u001b[39m \u001b[39mself\u001b[39m\u001b[39m.\u001b[39mscale_rbf(res)\n",
      "File \u001b[1;32mc:\\Users\\lhuang37\\.conda\\envs\\ocp-models\\lib\\site-packages\\torch\\nn\\modules\\module.py:1130\u001b[0m, in \u001b[0;36mModule._call_impl\u001b[1;34m(self, *input, **kwargs)\u001b[0m\n\u001b[0;32m   1126\u001b[0m \u001b[39m# If we don't have any hooks, we want to skip the rest of the logic in\u001b[39;00m\n\u001b[0;32m   1127\u001b[0m \u001b[39m# this function, and just call forward.\u001b[39;00m\n\u001b[0;32m   1128\u001b[0m \u001b[39mif\u001b[39;00m \u001b[39mnot\u001b[39;00m (\u001b[39mself\u001b[39m\u001b[39m.\u001b[39m_backward_hooks \u001b[39mor\u001b[39;00m \u001b[39mself\u001b[39m\u001b[39m.\u001b[39m_forward_hooks \u001b[39mor\u001b[39;00m \u001b[39mself\u001b[39m\u001b[39m.\u001b[39m_forward_pre_hooks \u001b[39mor\u001b[39;00m _global_backward_hooks\n\u001b[0;32m   1129\u001b[0m         \u001b[39mor\u001b[39;00m _global_forward_hooks \u001b[39mor\u001b[39;00m _global_forward_pre_hooks):\n\u001b[1;32m-> 1130\u001b[0m     \u001b[39mreturn\u001b[39;00m forward_call(\u001b[39m*\u001b[39m\u001b[39minput\u001b[39m, \u001b[39m*\u001b[39m\u001b[39m*\u001b[39mkwargs)\n\u001b[0;32m   1131\u001b[0m \u001b[39m# Do not call functions when jit is used\u001b[39;00m\n\u001b[0;32m   1132\u001b[0m full_backward_hooks, non_full_backward_hooks \u001b[39m=\u001b[39m [], []\n",
      "File \u001b[1;32m~\\Desktop\\Shell_repo\\ocp\\ocpmodels\\models\\gemnet_oc\\layers\\radial_basis.py:76\u001b[0m, in \u001b[0;36mGaussianBasis.forward\u001b[1;34m(self, dist)\u001b[0m\n\u001b[0;32m     75\u001b[0m \u001b[39mdef\u001b[39;00m \u001b[39mforward\u001b[39m(\u001b[39mself\u001b[39m, dist):\n\u001b[1;32m---> 76\u001b[0m     dist \u001b[39m=\u001b[39m dist[:, \u001b[39mNone\u001b[39;49;00m] \u001b[39m-\u001b[39;49m \u001b[39mself\u001b[39;49m\u001b[39m.\u001b[39;49moffset[\u001b[39mNone\u001b[39;49;00m, :]\n\u001b[0;32m     77\u001b[0m     \u001b[39mreturn\u001b[39;00m torch\u001b[39m.\u001b[39mexp(\u001b[39mself\u001b[39m\u001b[39m.\u001b[39mcoeff \u001b[39m*\u001b[39m torch\u001b[39m.\u001b[39mpow(dist, \u001b[39m2\u001b[39m))\n",
      "\u001b[1;31mRuntimeError\u001b[0m: Expected all tensors to be on the same device, but found at least two devices, cuda:0 and cpu!"
     ]
    }
   ],
   "source": [
    "best_valid_loss=np.Inf\n",
    "for i in range(num_epochs):\n",
    "    train_loss=train_fn(train_loader,model,optimizer)\n",
    "    valid_loss,acc=eval_fn(valid_loader,model)\n",
    "    print(acc)\n",
    "    \n",
    "    if valid_loss< best_valid_loss:\n",
    "        torch.save(model.state_dict(),'best_model_n.pt')\n",
    "        print('saved-model')\n",
    "        best_valid_loss=valid_loss\n",
    "\n",
    "    print(f'epoch:{i+1} Train_loss:{train_loss} Valid_loss:{valid_loss} Valid acc:{acc}')"
   ]
  }
 ],
 "metadata": {
  "kernelspec": {
   "display_name": "ocp-models",
   "language": "python",
   "name": "python3"
  },
  "language_info": {
   "codemirror_mode": {
    "name": "ipython",
    "version": 3
   },
   "file_extension": ".py",
   "mimetype": "text/x-python",
   "name": "python",
   "nbconvert_exporter": "python",
   "pygments_lexer": "ipython3",
   "version": "3.10.5"
  },
  "orig_nbformat": 4
 },
 "nbformat": 4,
 "nbformat_minor": 2
}
