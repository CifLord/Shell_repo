{
 "cells": [
  {
   "cell_type": "code",
   "execution_count": 1,
   "metadata": {},
   "outputs": [
    {
     "name": "stderr",
     "output_type": "stream",
     "text": [
      "c:\\Users\\lhuang37\\.conda\\envs\\ocp-models\\lib\\site-packages\\tqdm\\auto.py:22: TqdmWarning: IProgress not found. Please update jupyter and ipywidgets. See https://ipywidgets.readthedocs.io/en/stable/user_install.html\n",
      "  from .autonotebook import tqdm as notebook_tqdm\n",
      "ERROR:root:Invalid setup for SCN. Either the e3nn library or Jd.pt is missing.\n"
     ]
    }
   ],
   "source": [
    "import os\n",
    "import numpy as np\n",
    "import matplotlib.pyplot as plt\n",
    "import wandb\n",
    "from pytorch_lightning.loggers import WandbLogger\n",
    "import torch\n",
    "from Models.EGformer import EGformer\n",
    "import torch.nn as nn\n",
    "import torch.optim as optim\n",
    "from ocpmodels.datasets import LmdbDataset\n",
    "from torch.utils.data import random_split\n",
    "import torch_geometric.loader as geom_loader\n",
    "import torch_geometric.data as data\n",
    "from typing import Any\n",
    "import yaml\n",
    "import torch.nn.init as init\n",
    "import torch.nn as nn"
   ]
  },
  {
   "cell_type": "code",
   "execution_count": 2,
   "metadata": {},
   "outputs": [],
   "source": [
    "#Save the model hyperparameters to a YAML file\n",
    "model_hparams ={\"num_atoms\":0,\n",
    "                \"bond_feat_dim\":0,\n",
    "                \"num_targets\":0,\n",
    "                \"num_heads\":4,\n",
    "                \"batch_size\":6\n",
    "                }\n",
    "\n",
    "with open('params/model_hparams.yml', 'w') as file:\n",
    "    yaml.dump(model_hparams, file)"
   ]
  },
  {
   "cell_type": "code",
   "execution_count": 6,
   "metadata": {},
   "outputs": [
    {
     "name": "stderr",
     "output_type": "stream",
     "text": [
      "WARNING:root:Unrecognized arguments: ['num_heads', 'emb_size_in', 'emb_size_trans', 'out_layer1', 'out_layer2', 'batch_size']\n"
     ]
    }
   ],
   "source": [
    "\n",
    "with open('params/model_hparams.yml', 'r') as file:\n",
    "    loaded_model_hparams = yaml.load(file, Loader=yaml.FullLoader)\n",
    "\n",
    "# Create the model using the loaded hyperparameters\n",
    "model = EGformer(**loaded_model_hparams)\n",
    "checkpoint_path='params/gemnet_oc_base_oc20_oc22.pt'\n",
    "pretrained_state_dict = torch.load(checkpoint_path)['state_dict']\n",
    "new_model_state_dict = model.state_dict()\n",
    "filtered_pretrained_state_dict = {k.strip('module.module.'): v for k, v in pretrained_state_dict.items() if k.strip('module.module.') in new_model_state_dict}\n",
    "new_model_state_dict.update(filtered_pretrained_state_dict)\n",
    "model.load_state_dict(new_model_state_dict)\n",
    "for param_name, param in model.named_parameters():\n",
    "\n",
    "    if param_name in filtered_pretrained_state_dict.keys():\n",
    "        \n",
    "        param.requires_grad = False"
   ]
  },
  {
   "cell_type": "code",
   "execution_count": null,
   "metadata": {},
   "outputs": [],
   "source": [
    "# with open('params/model_hparams.yml', 'r') as file:\n",
    "#     loaded_model_hparams = yaml.load(file, Loader=yaml.FullLoader)\n",
    "\n",
    "# # Create the model using the loaded hyperparameters\n",
    "# model = Egformer(**loaded_model_hparams)\n",
    "# checkpoint_path='params/gemnet_oc_base_oc20_oc22.pt'\n",
    "# pretrained_state_dict = torch.load(checkpoint_path)['state_dict']\n",
    "# new_model_state_dict = model.arc.state_dict()\n",
    "# filtered_pretrained_state_dict = {k.strip('module.module.'): v for k, v in pretrained_state_dict.items() if k.strip('module.module.') in new_model_state_dict}\n",
    "# new_model_state_dict.update(filtered_pretrained_state_dict)\n",
    "# model.arc.load_state_dict(new_model_state_dict)\n",
    "# for param_name, param in model.named_parameters():\n",
    "\n",
    "#     if param_name.replace('arc.','') in filtered_pretrained_state_dict.keys():\n",
    "        \n",
    "#         param.requires_grad = False"
   ]
  },
  {
   "cell_type": "code",
   "execution_count": 7,
   "metadata": {},
   "outputs": [
    {
     "name": "stdout",
     "output_type": "stream",
     "text": [
      "Freeze params is 238\n",
      "Need optimiz params is 131\n"
     ]
    }
   ],
   "source": [
    "f_paras,t_paras=0,0\n",
    "for param_name,param in model.named_parameters():\n",
    "    if param.requires_grad is False:\n",
    "        f_paras+=1\n",
    "    else:\n",
    "        t_paras+=1\n",
    "print('Freeze params is',f_paras)\n",
    "print('Need optimiz params is',t_paras)"
   ]
  },
  {
   "cell_type": "code",
   "execution_count": 9,
   "metadata": {},
   "outputs": [],
   "source": [
    "warmup_epochs=2\n",
    "decay_epochs=3\n",
    "    \n",
    "y_mean=-7\n",
    "y_std=6\n",
    "num_epochs=10\n",
    "batch_size = 6\n",
    "learning_rate=0.001\n",
    "CHECKPOINT_PATH=\"./checkpoints\"\n",
    "DEVICE=torch.device(\"cuda\" if torch.cuda.is_available() else \"cpu\")\n",
    "dataset=LmdbDataset({\"src\":\"/shareddata/ocp/ocp22/oc22_trajectories/trajectories/Transformer_clean_valid/data.0000.lmdb\"})\n",
    "model= nn.DataParallel(model) \n",
    "model.to(DEVICE)\n",
    "criterion=nn.MSELoss()\n",
    "optimizer=torch.optim.Adam(model.parameters(),lr=learning_rate)\n",
    "warmup_scheduler = optim.lr_scheduler.LambdaLR(optimizer,lr_lambda=lambda epoch: (epoch+1)/warmup_epochs)\n",
    "decay_scheduler = optim.lr_scheduler.StepLR(optimizer, step_size=decay_epochs,gamma=0.1)"
   ]
  },
  {
   "cell_type": "code",
   "execution_count": null,
   "metadata": {},
   "outputs": [],
   "source": [
    "train_length = int(0.8 * len(dataset))\n",
    "val_length = len(dataset) - train_length\n",
    "\n",
    "# Split the dataset into train and validation\n",
    "train_dataset, val_dataset =random_split(dataset, [train_length, val_length])\n",
    "train_loader = geom_loader.DataLoader(train_dataset, batch_size=6,drop_last=True)\n",
    "val_loader = geom_loader.DataLoader(val_dataset, batch_size=6,drop_last=True)"
   ]
  },
  {
   "cell_type": "code",
   "execution_count": null,
   "metadata": {},
   "outputs": [],
   "source": [
    "data = next(iter(train_loader))\n",
    "batched_data = data.batch\n",
    "print(batched_data.shape)"
   ]
  },
  {
   "cell_type": "code",
   "execution_count": null,
   "metadata": {},
   "outputs": [],
   "source": [
    "from tqdm import tqdm"
   ]
  },
  {
   "cell_type": "code",
   "execution_count": 10,
   "metadata": {},
   "outputs": [],
   "source": [
    "def get_loss(predictions, targets, y_mean=-7, y_std=6):\n",
    "    masks = (targets/ targets.natoms - y_mean) / y_std\n",
    "    mask_loss = nn.MSELoss()\n",
    "    loss = mask_loss(predictions.view(-1, 1), masks.view(-1, 1))\n",
    "    accuracy = torch.abs(predictions.view(-1, 1) - masks.view(-1, 1))\n",
    "    return loss, accuracy"
   ]
  },
  {
   "cell_type": "code",
   "execution_count": 11,
   "metadata": {},
   "outputs": [],
   "source": [
    "def train_fn(data_loader, model, optimizer, device, optimize_after=8):\n",
    "    model.train()\n",
    "    total_loss = 0.0\n",
    "    iteration = 0\n",
    "\n",
    "    for images in tqdm(data_loader):\n",
    "        images = images.to(device)\n",
    "        optimizer.zero_grad()\n",
    "        predictions = model(images)\n",
    "        targets = images.y\n",
    "        loss, acc = get_loss(predictions, targets)\n",
    "        loss.backward()\n",
    "\n",
    "        # Accumulate gradients for a specified number of iterations\n",
    "        iteration += 1\n",
    "        if iteration % optimize_after == 0:\n",
    "            optimizer.step()\n",
    "            iteration = 0\n",
    "            total_loss += loss.item()\n",
    "\n",
    "    return total_loss / (len(data_loader) // optimize_after)"
   ]
  },
  {
   "cell_type": "code",
   "execution_count": null,
   "metadata": {},
   "outputs": [],
   "source": [
    "def eval_fn(data_loader,model):\n",
    "    model.eval()\n",
    "    total_loss=0.0\n",
    "    total_acc=0    \n",
    "    with torch.no_grad():\n",
    "        for images in tqdm(data_loader):\n",
    "            model=model.to(DEVICE) \n",
    "            images=images.to(DEVICE)                      \n",
    "            loss,acc=model(images)\n",
    "            total_loss+=loss.item()\n",
    "            total_acc+=acc.item()\n",
    "\n",
    "    return total_loss/len(data_loader),total_acc/len(data_loader)"
   ]
  },
  {
   "cell_type": "code",
   "execution_count": null,
   "metadata": {},
   "outputs": [],
   "source": [
    "best_valid_loss=np.Inf\n",
    "for epoch in range(num_epochs):\n",
    "    train_loss=train_fn(train_loader,model,optimizer,device=DEVICE)\n",
    "    valid_loss,acc=eval_fn(val_loader,model,device=DEVICE)\n",
    "    if epoch<warmup_epochs:\n",
    "        warmup_scheduler.step()\n",
    "    else:\n",
    "        decay_scheduler.step()    \n",
    "    if valid_loss< best_valid_loss:\n",
    "        torch.save(model.state_dict(),'best_model_n.pt')\n",
    "        print('saved-model')\n",
    "        best_valid_loss=valid_loss\n",
    "    current_lr=optimizer.param_groups[0]['lr']\n",
    "    \n",
    "    print(f'epoch:{epoch+1} Train_loss:{train_loss} Valid_loss:{valid_loss} Valid acc:{acc} lr:{current_lr}')"
   ]
  }
 ],
 "metadata": {
  "kernelspec": {
   "display_name": "ocp-models",
   "language": "python",
   "name": "python3"
  },
  "language_info": {
   "codemirror_mode": {
    "name": "ipython",
    "version": 3
   },
   "file_extension": ".py",
   "mimetype": "text/x-python",
   "name": "python",
   "nbconvert_exporter": "python",
   "pygments_lexer": "ipython3",
   "version": "3.10.5"
  },
  "orig_nbformat": 4
 },
 "nbformat": 4,
 "nbformat_minor": 2
}
