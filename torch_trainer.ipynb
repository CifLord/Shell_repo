{
 "cells": [
  {
   "cell_type": "code",
   "execution_count": 3,
   "metadata": {},
   "outputs": [
    {
     "name": "stderr",
     "output_type": "stream",
     "text": [
      "/home/xubuntu/.conda/envs/ocp-models/lib/python3.9/site-packages/tqdm/auto.py:21: TqdmWarning: IProgress not found. Please update jupyter and ipywidgets. See https://ipywidgets.readthedocs.io/en/stable/user_install.html\n",
      "  from .autonotebook import tqdm as notebook_tqdm\n",
      "ERROR:root:Invalid setup for SCN. Either the e3nn library or Jd.pt is missing.\n"
     ]
    }
   ],
   "source": [
    "import os\n",
    "import numpy as np\n",
    "import matplotlib.pyplot as plt\n",
    "import wandb\n",
    "from pytorch_lightning.loggers import WandbLogger\n",
    "import torch\n",
    "from Models.EGformer import EGformer\n",
    "import torch.nn as nn\n",
    "import torch.optim as optim\n",
    "from ocpmodels.datasets import LmdbDataset\n",
    "from torch.utils.data import random_split\n",
    "import torch_geometric.loader as geom_loader\n",
    "import torch_geometric.data as data\n",
    "from typing import Any\n",
    "import yaml\n",
    "import torch.nn.init as init\n",
    "import torch.nn as nn"
   ]
  },
  {
   "cell_type": "code",
   "execution_count": null,
   "metadata": {},
   "outputs": [],
   "source": []
  },
  {
   "cell_type": "code",
   "execution_count": 4,
   "metadata": {},
   "outputs": [],
   "source": [
    "#Save the model hyperparameters to a YAML file\n",
    "model_hparams ={\"num_atoms\":0,\n",
    "                \"bond_feat_dim\":0,\n",
    "                \"num_targets\":0,\n",
    "                \"num_heads\":4,\n",
    "                \"batch_size\":6\n",
    "                }\n",
    "\n",
    "with open('params/model_hparams.yml', 'w') as file:\n",
    "    yaml.dump(model_hparams, file)"
   ]
  },
  {
   "cell_type": "code",
   "execution_count": 78,
   "metadata": {},
   "outputs": [],
   "source": [
    "class Egformer(nn.Module):\n",
    "\n",
    "    def __init__(self,**loaded_model_hparams):\n",
    "        super(Egformer,self).__init__()\n",
    "        self.arc=EGformer(**loaded_model_hparams)        \n",
    "        self.mask_loss = nn.MSELoss()\n",
    "    def norm_label(self,data,y_mean=-7,y_std=6):\n",
    "\n",
    "        label=data.y/data.natoms\n",
    "        label=(label-y_mean)/y_std\n",
    "        return label\n",
    "\n",
    "    def forward(self,data):\n",
    "        pred_output = self.arc(data)\n",
    "        \n",
    "        masks=self.norm_label(data)\n",
    "        loss = self.mask_loss(pred_output.view(-1, 1), masks.view(-1, 1))\n",
    "        acc=abs(pred_output.view(-1, 1)-masks.view(-1, 1))\n",
    "\n",
    "        if masks !=None:            \n",
    "            return loss,acc\n",
    "\n",
    "        return loss,acc\n",
    "    \n"
   ]
  },
  {
   "cell_type": "code",
   "execution_count": 79,
   "metadata": {},
   "outputs": [
    {
     "name": "stderr",
     "output_type": "stream",
     "text": [
      "WARNING:root:Unrecognized arguments: ['num_heads', 'emb_size_in', 'emb_size_trans', 'out_layer1', 'out_layer2', 'batch_size']\n",
      "/home/xubuntu/.conda/envs/ocp-models/lib/python3.9/site-packages/torch/nn/init.py:405: UserWarning: Initializing zero-element tensors is a no-op\n",
      "  warnings.warn(\"Initializing zero-element tensors is a no-op\")\n"
     ]
    }
   ],
   "source": [
    "with open('params/model_hparams.yml', 'r') as file:\n",
    "    loaded_model_hparams = yaml.load(file, Loader=yaml.FullLoader)\n",
    "\n",
    "# Create the model using the loaded hyperparameters\n",
    "model = Egformer(**loaded_model_hparams)\n",
    "checkpoint_path='params/gemnet_oc_base_oc20_oc22.pt'\n",
    "pretrained_state_dict = torch.load(checkpoint_path)['state_dict']\n",
    "new_model_state_dict = model.arc.state_dict()\n",
    "filtered_pretrained_state_dict = {k.strip('module.module.'): v for k, v in pretrained_state_dict.items() if k.strip('module.module.') in new_model_state_dict}\n",
    "new_model_state_dict.update(filtered_pretrained_state_dict)\n",
    "model.arc.load_state_dict(new_model_state_dict)\n",
    "for param_name, param in model.named_parameters():\n",
    "\n",
    "    if param_name.replace('arc.','') in filtered_pretrained_state_dict.keys():\n",
    "        \n",
    "        param.requires_grad = False"
   ]
  },
  {
   "cell_type": "code",
   "execution_count": 80,
   "metadata": {},
   "outputs": [],
   "source": [
    "y_mean=-7\n",
    "y_std=6\n",
    "num_epochs=30\n",
    "batch_size = 2\n",
    "learning_rate=0.01\n",
    "CHECKPOINT_PATH=\"./checkpoints\"\n",
    "DEVICE='cuda'\n",
    "dataset=LmdbDataset({\"src\":\"/shareddata/ocp/ocp22/oc22_trajectories/trajectories/Transformer_clean_valid/data.0000.lmdb\"})\n",
    "criterion=nn.MSELoss()\n",
    "optimizer=torch.optim.Adam(model.parameters(),lr=learning_rate)"
   ]
  },
  {
   "cell_type": "code",
   "execution_count": 81,
   "metadata": {},
   "outputs": [
    {
     "name": "stdout",
     "output_type": "stream",
     "text": [
      "Freeze params is 238\n",
      "Need optimiz params is 131\n"
     ]
    }
   ],
   "source": [
    "f_paras,t_paras=0,0\n",
    "for param_name,param in model.named_parameters():\n",
    "    if param.requires_grad is False:\n",
    "        f_paras+=1\n",
    "    else:\n",
    "        t_paras+=1\n",
    "print('Freeze params is',f_paras)\n",
    "print('Need optimiz params is',t_paras)"
   ]
  },
  {
   "cell_type": "code",
   "execution_count": 82,
   "metadata": {},
   "outputs": [],
   "source": [
    "train_length = int(0.8 * len(dataset))\n",
    "val_length = len(dataset) - train_length\n",
    "\n",
    "# Split the dataset into train and validation\n",
    "train_dataset, val_dataset =random_split(dataset, [train_length, val_length])\n",
    "train_loader = geom_loader.DataLoader(train_dataset, batch_size=6,drop_last=True)\n",
    "val_loader = geom_loader.DataLoader(val_dataset, batch_size=6,drop_last=True)"
   ]
  },
  {
   "cell_type": "code",
   "execution_count": 83,
   "metadata": {},
   "outputs": [
    {
     "name": "stdout",
     "output_type": "stream",
     "text": [
      "torch.Size([160])\n"
     ]
    }
   ],
   "source": [
    "data = next(iter(train_loader))\n",
    "batched_data = data.batch\n",
    "print(batched_data.shape)"
   ]
  },
  {
   "cell_type": "code",
   "execution_count": 84,
   "metadata": {},
   "outputs": [],
   "source": [
    "from tqdm import tqdm"
   ]
  },
  {
   "cell_type": "code",
   "execution_count": 85,
   "metadata": {},
   "outputs": [],
   "source": [
    "def train_fn(data_loader,model,optimizer):\n",
    "    model.train()\n",
    "    total_loss=0.0\n",
    "    \n",
    "    for images in tqdm(data_loader):\n",
    "        images=images.to(DEVICE)  \n",
    "        model=model.to(DEVICE)      \n",
    "        optimizer.zero_grad()\n",
    "        loss,acc=model(images)\n",
    "        loss.backward()\n",
    "        optimizer.step()\n",
    "        total_loss+=loss.item()\n",
    "        \n",
    "    return total_loss/len(data_loader)"
   ]
  },
  {
   "cell_type": "code",
   "execution_count": 86,
   "metadata": {},
   "outputs": [],
   "source": [
    "def eval_fn(data_loader,model):\n",
    "    model.eval()\n",
    "    total_loss=0.0\n",
    "    total_acc=0    \n",
    "    with torch.no_grad():\n",
    "        for images in tqdm(data_loader):\n",
    "            model=model.to(DEVICE) \n",
    "            images=images.to(DEVICE)                      \n",
    "            loss,acc=model(images)\n",
    "            total_loss+=loss.item()\n",
    "            total_acc+=acc.item()\n",
    "\n",
    "    return total_loss/len(data_loader),total_acc/len(data_loader)"
   ]
  },
  {
   "cell_type": "code",
   "execution_count": 89,
   "metadata": {},
   "outputs": [
    {
     "name": "stderr",
     "output_type": "stream",
     "text": [
      "  0%|          | 10/4038 [00:04<32:38,  2.06it/s]\n"
     ]
    },
    {
     "ename": "KeyboardInterrupt",
     "evalue": "",
     "output_type": "error",
     "traceback": [
      "\u001b[0;31m---------------------------------------------------------------------------\u001b[0m",
      "\u001b[0;31mKeyboardInterrupt\u001b[0m                         Traceback (most recent call last)",
      "Cell \u001b[0;32mIn[89], line 3\u001b[0m\n\u001b[1;32m      1\u001b[0m best_valid_loss\u001b[38;5;241m=\u001b[39mnp\u001b[38;5;241m.\u001b[39mInf\n\u001b[1;32m      2\u001b[0m \u001b[38;5;28;01mfor\u001b[39;00m i \u001b[38;5;129;01min\u001b[39;00m \u001b[38;5;28mrange\u001b[39m(num_epochs):\n\u001b[0;32m----> 3\u001b[0m     train_loss\u001b[38;5;241m=\u001b[39m\u001b[43mtrain_fn\u001b[49m\u001b[43m(\u001b[49m\u001b[43mtrain_loader\u001b[49m\u001b[43m,\u001b[49m\u001b[43mmodel\u001b[49m\u001b[43m,\u001b[49m\u001b[43moptimizer\u001b[49m\u001b[43m)\u001b[49m\n\u001b[1;32m      4\u001b[0m     valid_loss,acc\u001b[38;5;241m=\u001b[39meval_fn(val_loader,model)\n\u001b[1;32m      5\u001b[0m     \u001b[38;5;28mprint\u001b[39m(acc)\n",
      "Cell \u001b[0;32mIn[85], line 9\u001b[0m, in \u001b[0;36mtrain_fn\u001b[0;34m(data_loader, model, optimizer)\u001b[0m\n\u001b[1;32m      7\u001b[0m model\u001b[38;5;241m=\u001b[39mmodel\u001b[38;5;241m.\u001b[39mto(DEVICE)      \n\u001b[1;32m      8\u001b[0m optimizer\u001b[38;5;241m.\u001b[39mzero_grad()\n\u001b[0;32m----> 9\u001b[0m loss,acc\u001b[38;5;241m=\u001b[39m\u001b[43mmodel\u001b[49m\u001b[43m(\u001b[49m\u001b[43mimages\u001b[49m\u001b[43m)\u001b[49m\n\u001b[1;32m     10\u001b[0m loss\u001b[38;5;241m.\u001b[39mbackward()\n\u001b[1;32m     11\u001b[0m optimizer\u001b[38;5;241m.\u001b[39mstep()\n",
      "File \u001b[0;32m~/.conda/envs/ocp-models/lib/python3.9/site-packages/torch/nn/modules/module.py:1194\u001b[0m, in \u001b[0;36mModule._call_impl\u001b[0;34m(self, *input, **kwargs)\u001b[0m\n\u001b[1;32m   <a href='file:///home/xubuntu/.conda/envs/ocp-models/lib/python3.9/site-packages/torch/nn/modules/module.py?line=1189'>1190</a>\u001b[0m \u001b[39m# If we don't have any hooks, we want to skip the rest of the logic in\u001b[39;00m\n\u001b[1;32m   <a href='file:///home/xubuntu/.conda/envs/ocp-models/lib/python3.9/site-packages/torch/nn/modules/module.py?line=1190'>1191</a>\u001b[0m \u001b[39m# this function, and just call forward.\u001b[39;00m\n\u001b[1;32m   <a href='file:///home/xubuntu/.conda/envs/ocp-models/lib/python3.9/site-packages/torch/nn/modules/module.py?line=1191'>1192</a>\u001b[0m \u001b[39mif\u001b[39;00m \u001b[39mnot\u001b[39;00m (\u001b[39mself\u001b[39m\u001b[39m.\u001b[39m_backward_hooks \u001b[39mor\u001b[39;00m \u001b[39mself\u001b[39m\u001b[39m.\u001b[39m_forward_hooks \u001b[39mor\u001b[39;00m \u001b[39mself\u001b[39m\u001b[39m.\u001b[39m_forward_pre_hooks \u001b[39mor\u001b[39;00m _global_backward_hooks\n\u001b[1;32m   <a href='file:///home/xubuntu/.conda/envs/ocp-models/lib/python3.9/site-packages/torch/nn/modules/module.py?line=1192'>1193</a>\u001b[0m         \u001b[39mor\u001b[39;00m _global_forward_hooks \u001b[39mor\u001b[39;00m _global_forward_pre_hooks):\n\u001b[0;32m-> <a href='file:///home/xubuntu/.conda/envs/ocp-models/lib/python3.9/site-packages/torch/nn/modules/module.py?line=1193'>1194</a>\u001b[0m     \u001b[39mreturn\u001b[39;00m forward_call(\u001b[39m*\u001b[39;49m\u001b[39minput\u001b[39;49m, \u001b[39m*\u001b[39;49m\u001b[39m*\u001b[39;49mkwargs)\n\u001b[1;32m   <a href='file:///home/xubuntu/.conda/envs/ocp-models/lib/python3.9/site-packages/torch/nn/modules/module.py?line=1194'>1195</a>\u001b[0m \u001b[39m# Do not call functions when jit is used\u001b[39;00m\n\u001b[1;32m   <a href='file:///home/xubuntu/.conda/envs/ocp-models/lib/python3.9/site-packages/torch/nn/modules/module.py?line=1195'>1196</a>\u001b[0m full_backward_hooks, non_full_backward_hooks \u001b[39m=\u001b[39m [], []\n",
      "Cell \u001b[0;32mIn[78], line 14\u001b[0m, in \u001b[0;36mEgformer.forward\u001b[0;34m(self, data)\u001b[0m\n\u001b[1;32m     13\u001b[0m \u001b[38;5;28;01mdef\u001b[39;00m \u001b[38;5;21mforward\u001b[39m(\u001b[38;5;28mself\u001b[39m,data):\n\u001b[0;32m---> 14\u001b[0m     pred_output \u001b[38;5;241m=\u001b[39m \u001b[38;5;28;43mself\u001b[39;49m\u001b[38;5;241;43m.\u001b[39;49m\u001b[43marc\u001b[49m\u001b[43m(\u001b[49m\u001b[43mdata\u001b[49m\u001b[43m)\u001b[49m\n\u001b[1;32m     16\u001b[0m     masks\u001b[38;5;241m=\u001b[39m\u001b[38;5;28mself\u001b[39m\u001b[38;5;241m.\u001b[39mnorm_label(data)\n\u001b[1;32m     17\u001b[0m     loss \u001b[38;5;241m=\u001b[39m \u001b[38;5;28mself\u001b[39m\u001b[38;5;241m.\u001b[39mmask_loss(pred_output\u001b[38;5;241m.\u001b[39mview(\u001b[38;5;241m-\u001b[39m\u001b[38;5;241m1\u001b[39m, \u001b[38;5;241m1\u001b[39m), masks\u001b[38;5;241m.\u001b[39mview(\u001b[38;5;241m-\u001b[39m\u001b[38;5;241m1\u001b[39m, \u001b[38;5;241m1\u001b[39m))\n",
      "File \u001b[0;32m~/.conda/envs/ocp-models/lib/python3.9/site-packages/torch/nn/modules/module.py:1194\u001b[0m, in \u001b[0;36mModule._call_impl\u001b[0;34m(self, *input, **kwargs)\u001b[0m\n\u001b[1;32m   <a href='file:///home/xubuntu/.conda/envs/ocp-models/lib/python3.9/site-packages/torch/nn/modules/module.py?line=1189'>1190</a>\u001b[0m \u001b[39m# If we don't have any hooks, we want to skip the rest of the logic in\u001b[39;00m\n\u001b[1;32m   <a href='file:///home/xubuntu/.conda/envs/ocp-models/lib/python3.9/site-packages/torch/nn/modules/module.py?line=1190'>1191</a>\u001b[0m \u001b[39m# this function, and just call forward.\u001b[39;00m\n\u001b[1;32m   <a href='file:///home/xubuntu/.conda/envs/ocp-models/lib/python3.9/site-packages/torch/nn/modules/module.py?line=1191'>1192</a>\u001b[0m \u001b[39mif\u001b[39;00m \u001b[39mnot\u001b[39;00m (\u001b[39mself\u001b[39m\u001b[39m.\u001b[39m_backward_hooks \u001b[39mor\u001b[39;00m \u001b[39mself\u001b[39m\u001b[39m.\u001b[39m_forward_hooks \u001b[39mor\u001b[39;00m \u001b[39mself\u001b[39m\u001b[39m.\u001b[39m_forward_pre_hooks \u001b[39mor\u001b[39;00m _global_backward_hooks\n\u001b[1;32m   <a href='file:///home/xubuntu/.conda/envs/ocp-models/lib/python3.9/site-packages/torch/nn/modules/module.py?line=1192'>1193</a>\u001b[0m         \u001b[39mor\u001b[39;00m _global_forward_hooks \u001b[39mor\u001b[39;00m _global_forward_pre_hooks):\n\u001b[0;32m-> <a href='file:///home/xubuntu/.conda/envs/ocp-models/lib/python3.9/site-packages/torch/nn/modules/module.py?line=1193'>1194</a>\u001b[0m     \u001b[39mreturn\u001b[39;00m forward_call(\u001b[39m*\u001b[39;49m\u001b[39minput\u001b[39;49m, \u001b[39m*\u001b[39;49m\u001b[39m*\u001b[39;49mkwargs)\n\u001b[1;32m   <a href='file:///home/xubuntu/.conda/envs/ocp-models/lib/python3.9/site-packages/torch/nn/modules/module.py?line=1194'>1195</a>\u001b[0m \u001b[39m# Do not call functions when jit is used\u001b[39;00m\n\u001b[1;32m   <a href='file:///home/xubuntu/.conda/envs/ocp-models/lib/python3.9/site-packages/torch/nn/modules/module.py?line=1195'>1196</a>\u001b[0m full_backward_hooks, non_full_backward_hooks \u001b[39m=\u001b[39m [], []\n",
      "File \u001b[0;32m/shareddata/gem_transformer/Shell_repo/Models/EGformer.py:355\u001b[0m, in \u001b[0;36mEGformer.forward\u001b[0;34m(self, data)\u001b[0m\n\u001b[1;32m    <a href='file:///shareddata/gem_transformer/Shell_repo/Models/EGformer.py?line=341'>342</a>\u001b[0m \u001b[39mif\u001b[39;00m \u001b[39mself\u001b[39m\u001b[39m.\u001b[39mregress_forces \u001b[39mand\u001b[39;00m \u001b[39mnot\u001b[39;00m \u001b[39mself\u001b[39m\u001b[39m.\u001b[39mdirect_forces:\n\u001b[1;32m    <a href='file:///shareddata/gem_transformer/Shell_repo/Models/EGformer.py?line=342'>343</a>\u001b[0m     pos\u001b[39m.\u001b[39mrequires_grad_(\u001b[39mTrue\u001b[39;00m)\n\u001b[1;32m    <a href='file:///shareddata/gem_transformer/Shell_repo/Models/EGformer.py?line=344'>345</a>\u001b[0m (\n\u001b[1;32m    <a href='file:///shareddata/gem_transformer/Shell_repo/Models/EGformer.py?line=345'>346</a>\u001b[0m     main_graph,\n\u001b[1;32m    <a href='file:///shareddata/gem_transformer/Shell_repo/Models/EGformer.py?line=346'>347</a>\u001b[0m     a2a_graph,\n\u001b[1;32m    <a href='file:///shareddata/gem_transformer/Shell_repo/Models/EGformer.py?line=347'>348</a>\u001b[0m     a2ee2a_graph,\n\u001b[1;32m    <a href='file:///shareddata/gem_transformer/Shell_repo/Models/EGformer.py?line=348'>349</a>\u001b[0m     qint_graph,\n\u001b[1;32m    <a href='file:///shareddata/gem_transformer/Shell_repo/Models/EGformer.py?line=349'>350</a>\u001b[0m     id_swap,\n\u001b[1;32m    <a href='file:///shareddata/gem_transformer/Shell_repo/Models/EGformer.py?line=350'>351</a>\u001b[0m     trip_idx_e2e,\n\u001b[1;32m    <a href='file:///shareddata/gem_transformer/Shell_repo/Models/EGformer.py?line=351'>352</a>\u001b[0m     trip_idx_a2e,\n\u001b[1;32m    <a href='file:///shareddata/gem_transformer/Shell_repo/Models/EGformer.py?line=352'>353</a>\u001b[0m     trip_idx_e2a,\n\u001b[1;32m    <a href='file:///shareddata/gem_transformer/Shell_repo/Models/EGformer.py?line=353'>354</a>\u001b[0m     quad_idx,\n\u001b[0;32m--> <a href='file:///shareddata/gem_transformer/Shell_repo/Models/EGformer.py?line=354'>355</a>\u001b[0m ) \u001b[39m=\u001b[39m \u001b[39mself\u001b[39;49m\u001b[39m.\u001b[39;49mget_graphs_and_indices(data)\n\u001b[1;32m    <a href='file:///shareddata/gem_transformer/Shell_repo/Models/EGformer.py?line=355'>356</a>\u001b[0m \u001b[39m# print('checkpoint1')\u001b[39;00m\n\u001b[1;32m    <a href='file:///shareddata/gem_transformer/Shell_repo/Models/EGformer.py?line=356'>357</a>\u001b[0m _, idx_t \u001b[39m=\u001b[39m main_graph[\u001b[39m\"\u001b[39m\u001b[39medge_index\u001b[39m\u001b[39m\"\u001b[39m]\n",
      "File \u001b[0;32m/shareddata/ocp/open-catalyst/ocp/ocpmodels/models/gemnet_oc/gemnet_oc.py:979\u001b[0m, in \u001b[0;36mGemNetOC.get_graphs_and_indices\u001b[0;34m(self, data)\u001b[0m\n\u001b[1;32m    <a href='file:///shareddata/ocp/open-catalyst/ocp/ocpmodels/models/gemnet_oc/gemnet_oc.py?line=967'>968</a>\u001b[0m     a2a_graph \u001b[39m=\u001b[39m \u001b[39mself\u001b[39m\u001b[39m.\u001b[39mgenerate_graph_dict(\n\u001b[1;32m    <a href='file:///shareddata/ocp/open-catalyst/ocp/ocpmodels/models/gemnet_oc/gemnet_oc.py?line=968'>969</a>\u001b[0m         data, \u001b[39mself\u001b[39m\u001b[39m.\u001b[39mcutoff_aint, \u001b[39mself\u001b[39m\u001b[39m.\u001b[39mmax_neighbors_aint\n\u001b[1;32m    <a href='file:///shareddata/ocp/open-catalyst/ocp/ocpmodels/models/gemnet_oc/gemnet_oc.py?line=969'>970</a>\u001b[0m     )\n\u001b[1;32m    <a href='file:///shareddata/ocp/open-catalyst/ocp/ocpmodels/models/gemnet_oc/gemnet_oc.py?line=970'>971</a>\u001b[0m     main_graph \u001b[39m=\u001b[39m \u001b[39mself\u001b[39m\u001b[39m.\u001b[39msubselect_graph(\n\u001b[1;32m    <a href='file:///shareddata/ocp/open-catalyst/ocp/ocpmodels/models/gemnet_oc/gemnet_oc.py?line=971'>972</a>\u001b[0m         data,\n\u001b[1;32m    <a href='file:///shareddata/ocp/open-catalyst/ocp/ocpmodels/models/gemnet_oc/gemnet_oc.py?line=972'>973</a>\u001b[0m         a2a_graph,\n\u001b[0;32m   (...)\u001b[0m\n\u001b[1;32m    <a href='file:///shareddata/ocp/open-catalyst/ocp/ocpmodels/models/gemnet_oc/gemnet_oc.py?line=976'>977</a>\u001b[0m         \u001b[39mself\u001b[39m\u001b[39m.\u001b[39mmax_neighbors_aint,\n\u001b[1;32m    <a href='file:///shareddata/ocp/open-catalyst/ocp/ocpmodels/models/gemnet_oc/gemnet_oc.py?line=977'>978</a>\u001b[0m     )\n\u001b[0;32m--> <a href='file:///shareddata/ocp/open-catalyst/ocp/ocpmodels/models/gemnet_oc/gemnet_oc.py?line=978'>979</a>\u001b[0m     a2ee2a_graph \u001b[39m=\u001b[39m \u001b[39mself\u001b[39;49m\u001b[39m.\u001b[39;49msubselect_graph(\n\u001b[1;32m    <a href='file:///shareddata/ocp/open-catalyst/ocp/ocpmodels/models/gemnet_oc/gemnet_oc.py?line=979'>980</a>\u001b[0m         data,\n\u001b[1;32m    <a href='file:///shareddata/ocp/open-catalyst/ocp/ocpmodels/models/gemnet_oc/gemnet_oc.py?line=980'>981</a>\u001b[0m         a2a_graph,\n\u001b[1;32m    <a href='file:///shareddata/ocp/open-catalyst/ocp/ocpmodels/models/gemnet_oc/gemnet_oc.py?line=981'>982</a>\u001b[0m         \u001b[39mself\u001b[39;49m\u001b[39m.\u001b[39;49mcutoff_aeaint,\n\u001b[1;32m    <a href='file:///shareddata/ocp/open-catalyst/ocp/ocpmodels/models/gemnet_oc/gemnet_oc.py?line=982'>983</a>\u001b[0m         \u001b[39mself\u001b[39;49m\u001b[39m.\u001b[39;49mmax_neighbors_aeaint,\n\u001b[1;32m    <a href='file:///shareddata/ocp/open-catalyst/ocp/ocpmodels/models/gemnet_oc/gemnet_oc.py?line=983'>984</a>\u001b[0m         \u001b[39mself\u001b[39;49m\u001b[39m.\u001b[39;49mcutoff_aint,\n\u001b[1;32m    <a href='file:///shareddata/ocp/open-catalyst/ocp/ocpmodels/models/gemnet_oc/gemnet_oc.py?line=984'>985</a>\u001b[0m         \u001b[39mself\u001b[39;49m\u001b[39m.\u001b[39;49mmax_neighbors_aint,\n\u001b[1;32m    <a href='file:///shareddata/ocp/open-catalyst/ocp/ocpmodels/models/gemnet_oc/gemnet_oc.py?line=985'>986</a>\u001b[0m     )\n\u001b[1;32m    <a href='file:///shareddata/ocp/open-catalyst/ocp/ocpmodels/models/gemnet_oc/gemnet_oc.py?line=986'>987</a>\u001b[0m \u001b[39melse\u001b[39;00m:\n\u001b[1;32m    <a href='file:///shareddata/ocp/open-catalyst/ocp/ocpmodels/models/gemnet_oc/gemnet_oc.py?line=987'>988</a>\u001b[0m     main_graph \u001b[39m=\u001b[39m \u001b[39mself\u001b[39m\u001b[39m.\u001b[39mgenerate_graph_dict(\n\u001b[1;32m    <a href='file:///shareddata/ocp/open-catalyst/ocp/ocpmodels/models/gemnet_oc/gemnet_oc.py?line=988'>989</a>\u001b[0m         data, \u001b[39mself\u001b[39m\u001b[39m.\u001b[39mcutoff, \u001b[39mself\u001b[39m\u001b[39m.\u001b[39mmax_neighbors\n\u001b[1;32m    <a href='file:///shareddata/ocp/open-catalyst/ocp/ocpmodels/models/gemnet_oc/gemnet_oc.py?line=989'>990</a>\u001b[0m     )\n",
      "File \u001b[0;32m/shareddata/ocp/open-catalyst/ocp/ocpmodels/models/gemnet_oc/gemnet_oc.py:951\u001b[0m, in \u001b[0;36mGemNetOC.subselect_graph\u001b[0;34m(self, data, graph, cutoff, max_neighbors, cutoff_orig, max_neighbors_orig)\u001b[0m\n\u001b[1;32m    <a href='file:///shareddata/ocp/open-catalyst/ocp/ocpmodels/models/gemnet_oc/gemnet_oc.py?line=947'>948</a>\u001b[0m \u001b[39melse\u001b[39;00m:\n\u001b[1;32m    <a href='file:///shareddata/ocp/open-catalyst/ocp/ocpmodels/models/gemnet_oc/gemnet_oc.py?line=948'>949</a>\u001b[0m     select_neighbors \u001b[39m=\u001b[39m max_neighbors\n\u001b[0;32m--> <a href='file:///shareddata/ocp/open-catalyst/ocp/ocpmodels/models/gemnet_oc/gemnet_oc.py?line=950'>951</a>\u001b[0m \u001b[39mreturn\u001b[39;00m \u001b[39mself\u001b[39;49m\u001b[39m.\u001b[39;49msubselect_edges(\n\u001b[1;32m    <a href='file:///shareddata/ocp/open-catalyst/ocp/ocpmodels/models/gemnet_oc/gemnet_oc.py?line=951'>952</a>\u001b[0m     data\u001b[39m=\u001b[39;49mdata,\n\u001b[1;32m    <a href='file:///shareddata/ocp/open-catalyst/ocp/ocpmodels/models/gemnet_oc/gemnet_oc.py?line=952'>953</a>\u001b[0m     graph\u001b[39m=\u001b[39;49mgraph,\n\u001b[1;32m    <a href='file:///shareddata/ocp/open-catalyst/ocp/ocpmodels/models/gemnet_oc/gemnet_oc.py?line=953'>954</a>\u001b[0m     cutoff\u001b[39m=\u001b[39;49mselect_cutoff,\n\u001b[1;32m    <a href='file:///shareddata/ocp/open-catalyst/ocp/ocpmodels/models/gemnet_oc/gemnet_oc.py?line=954'>955</a>\u001b[0m     max_neighbors\u001b[39m=\u001b[39;49mselect_neighbors,\n\u001b[1;32m    <a href='file:///shareddata/ocp/open-catalyst/ocp/ocpmodels/models/gemnet_oc/gemnet_oc.py?line=955'>956</a>\u001b[0m )\n",
      "File \u001b[0;32m/shareddata/ocp/open-catalyst/ocp/ocpmodels/models/gemnet_oc/gemnet_oc.py:860\u001b[0m, in \u001b[0;36mGemNetOC.subselect_edges\u001b[0;34m(self, data, graph, cutoff, max_neighbors)\u001b[0m\n\u001b[1;32m    <a href='file:///shareddata/ocp/open-catalyst/ocp/ocpmodels/models/gemnet_oc/gemnet_oc.py?line=856'>857</a>\u001b[0m     subgraph[\u001b[39m\"\u001b[39m\u001b[39mvector\u001b[39m\u001b[39m\"\u001b[39m] \u001b[39m=\u001b[39m subgraph[\u001b[39m\"\u001b[39m\u001b[39mvector\u001b[39m\u001b[39m\"\u001b[39m][edge_mask]\n\u001b[1;32m    <a href='file:///shareddata/ocp/open-catalyst/ocp/ocpmodels/models/gemnet_oc/gemnet_oc.py?line=858'>859</a>\u001b[0m \u001b[39mif\u001b[39;00m max_neighbors \u001b[39mis\u001b[39;00m \u001b[39mnot\u001b[39;00m \u001b[39mNone\u001b[39;00m:\n\u001b[0;32m--> <a href='file:///shareddata/ocp/open-catalyst/ocp/ocpmodels/models/gemnet_oc/gemnet_oc.py?line=859'>860</a>\u001b[0m     edge_mask, subgraph[\u001b[39m\"\u001b[39m\u001b[39mnum_neighbors\u001b[39m\u001b[39m\"\u001b[39m] \u001b[39m=\u001b[39m get_max_neighbors_mask(\n\u001b[1;32m    <a href='file:///shareddata/ocp/open-catalyst/ocp/ocpmodels/models/gemnet_oc/gemnet_oc.py?line=860'>861</a>\u001b[0m         natoms\u001b[39m=\u001b[39;49mdata\u001b[39m.\u001b[39;49mnatoms,\n\u001b[1;32m    <a href='file:///shareddata/ocp/open-catalyst/ocp/ocpmodels/models/gemnet_oc/gemnet_oc.py?line=861'>862</a>\u001b[0m         index\u001b[39m=\u001b[39;49msubgraph[\u001b[39m\"\u001b[39;49m\u001b[39medge_index\u001b[39;49m\u001b[39m\"\u001b[39;49m][\u001b[39m1\u001b[39;49m],\n\u001b[1;32m    <a href='file:///shareddata/ocp/open-catalyst/ocp/ocpmodels/models/gemnet_oc/gemnet_oc.py?line=862'>863</a>\u001b[0m         atom_distance\u001b[39m=\u001b[39;49msubgraph[\u001b[39m\"\u001b[39;49m\u001b[39mdistance\u001b[39;49m\u001b[39m\"\u001b[39;49m],\n\u001b[1;32m    <a href='file:///shareddata/ocp/open-catalyst/ocp/ocpmodels/models/gemnet_oc/gemnet_oc.py?line=863'>864</a>\u001b[0m         max_num_neighbors_threshold\u001b[39m=\u001b[39;49mmax_neighbors,\n\u001b[1;32m    <a href='file:///shareddata/ocp/open-catalyst/ocp/ocpmodels/models/gemnet_oc/gemnet_oc.py?line=864'>865</a>\u001b[0m         enforce_max_strictly\u001b[39m=\u001b[39;49m\u001b[39mself\u001b[39;49m\u001b[39m.\u001b[39;49menforce_max_neighbors_strictly,\n\u001b[1;32m    <a href='file:///shareddata/ocp/open-catalyst/ocp/ocpmodels/models/gemnet_oc/gemnet_oc.py?line=865'>866</a>\u001b[0m     )\n\u001b[1;32m    <a href='file:///shareddata/ocp/open-catalyst/ocp/ocpmodels/models/gemnet_oc/gemnet_oc.py?line=866'>867</a>\u001b[0m     \u001b[39mif\u001b[39;00m \u001b[39mnot\u001b[39;00m torch\u001b[39m.\u001b[39mall(edge_mask):\n\u001b[1;32m    <a href='file:///shareddata/ocp/open-catalyst/ocp/ocpmodels/models/gemnet_oc/gemnet_oc.py?line=867'>868</a>\u001b[0m         subgraph[\u001b[39m\"\u001b[39m\u001b[39medge_index\u001b[39m\u001b[39m\"\u001b[39m] \u001b[39m=\u001b[39m subgraph[\u001b[39m\"\u001b[39m\u001b[39medge_index\u001b[39m\u001b[39m\"\u001b[39m][:, edge_mask]\n",
      "File \u001b[0;32m/shareddata/ocp/open-catalyst/ocp/ocpmodels/common/utils.py:755\u001b[0m, in \u001b[0;36mget_max_neighbors_mask\u001b[0;34m(natoms, index, atom_distance, max_num_neighbors_threshold, degeneracy_tolerance, enforce_max_strictly)\u001b[0m\n\u001b[1;32m    <a href='file:///shareddata/ocp/open-catalyst/ocp/ocpmodels/common/utils.py?line=751'>752</a>\u001b[0m \u001b[39m# Get number of neighbors\u001b[39;00m\n\u001b[1;32m    <a href='file:///shareddata/ocp/open-catalyst/ocp/ocpmodels/common/utils.py?line=752'>753</a>\u001b[0m \u001b[39m# segment_coo assumes sorted index\u001b[39;00m\n\u001b[1;32m    <a href='file:///shareddata/ocp/open-catalyst/ocp/ocpmodels/common/utils.py?line=753'>754</a>\u001b[0m ones \u001b[39m=\u001b[39m index\u001b[39m.\u001b[39mnew_ones(\u001b[39m1\u001b[39m)\u001b[39m.\u001b[39mexpand_as(index)\n\u001b[0;32m--> <a href='file:///shareddata/ocp/open-catalyst/ocp/ocpmodels/common/utils.py?line=754'>755</a>\u001b[0m num_neighbors \u001b[39m=\u001b[39m segment_coo(ones, index, dim_size\u001b[39m=\u001b[39;49mnum_atoms)\n\u001b[1;32m    <a href='file:///shareddata/ocp/open-catalyst/ocp/ocpmodels/common/utils.py?line=755'>756</a>\u001b[0m max_num_neighbors \u001b[39m=\u001b[39m num_neighbors\u001b[39m.\u001b[39mmax()\n\u001b[1;32m    <a href='file:///shareddata/ocp/open-catalyst/ocp/ocpmodels/common/utils.py?line=756'>757</a>\u001b[0m num_neighbors_thresholded \u001b[39m=\u001b[39m num_neighbors\u001b[39m.\u001b[39mclamp(\n\u001b[1;32m    <a href='file:///shareddata/ocp/open-catalyst/ocp/ocpmodels/common/utils.py?line=757'>758</a>\u001b[0m     \u001b[39mmax\u001b[39m\u001b[39m=\u001b[39mmax_num_neighbors_threshold\n\u001b[1;32m    <a href='file:///shareddata/ocp/open-catalyst/ocp/ocpmodels/common/utils.py?line=758'>759</a>\u001b[0m )\n",
      "File \u001b[0;32m~/.conda/envs/ocp-models/lib/python3.9/site-packages/torch_scatter/segment_coo.py:124\u001b[0m, in \u001b[0;36msegment_coo\u001b[0;34m(src, index, out, dim_size, reduce)\u001b[0m\n\u001b[1;32m     <a href='file:///home/xubuntu/.conda/envs/ocp-models/lib/python3.9/site-packages/torch_scatter/segment_coo.py?line=41'>42</a>\u001b[0m \u001b[39m\u001b[39m\u001b[39mr\u001b[39m\u001b[39m\"\"\"\u001b[39;00m\n\u001b[1;32m     <a href='file:///home/xubuntu/.conda/envs/ocp-models/lib/python3.9/site-packages/torch_scatter/segment_coo.py?line=42'>43</a>\u001b[0m \u001b[39m|\u001b[39;00m\n\u001b[1;32m     <a href='file:///home/xubuntu/.conda/envs/ocp-models/lib/python3.9/site-packages/torch_scatter/segment_coo.py?line=43'>44</a>\u001b[0m \n\u001b[0;32m   (...)\u001b[0m\n\u001b[1;32m    <a href='file:///home/xubuntu/.conda/envs/ocp-models/lib/python3.9/site-packages/torch_scatter/segment_coo.py?line=120'>121</a>\u001b[0m \u001b[39m    torch.Size([10, 3, 64])\u001b[39;00m\n\u001b[1;32m    <a href='file:///home/xubuntu/.conda/envs/ocp-models/lib/python3.9/site-packages/torch_scatter/segment_coo.py?line=121'>122</a>\u001b[0m \u001b[39m\"\"\"\u001b[39;00m\n\u001b[1;32m    <a href='file:///home/xubuntu/.conda/envs/ocp-models/lib/python3.9/site-packages/torch_scatter/segment_coo.py?line=122'>123</a>\u001b[0m \u001b[39mif\u001b[39;00m reduce \u001b[39m==\u001b[39m \u001b[39m'\u001b[39m\u001b[39msum\u001b[39m\u001b[39m'\u001b[39m \u001b[39mor\u001b[39;00m reduce \u001b[39m==\u001b[39m \u001b[39m'\u001b[39m\u001b[39madd\u001b[39m\u001b[39m'\u001b[39m:\n\u001b[0;32m--> <a href='file:///home/xubuntu/.conda/envs/ocp-models/lib/python3.9/site-packages/torch_scatter/segment_coo.py?line=123'>124</a>\u001b[0m     \u001b[39mreturn\u001b[39;00m segment_sum_coo(src, index, out, dim_size)\n\u001b[1;32m    <a href='file:///home/xubuntu/.conda/envs/ocp-models/lib/python3.9/site-packages/torch_scatter/segment_coo.py?line=124'>125</a>\u001b[0m \u001b[39melif\u001b[39;00m reduce \u001b[39m==\u001b[39m \u001b[39m'\u001b[39m\u001b[39mmean\u001b[39m\u001b[39m'\u001b[39m:\n\u001b[1;32m    <a href='file:///home/xubuntu/.conda/envs/ocp-models/lib/python3.9/site-packages/torch_scatter/segment_coo.py?line=125'>126</a>\u001b[0m     \u001b[39mreturn\u001b[39;00m segment_mean_coo(src, index, out, dim_size)\n",
      "File \u001b[0;32m~/.conda/envs/ocp-models/lib/python3.9/site-packages/torch_scatter/segment_coo.py:9\u001b[0m, in \u001b[0;36msegment_sum_coo\u001b[0;34m(src, index, out, dim_size)\u001b[0m\n\u001b[1;32m      <a href='file:///home/xubuntu/.conda/envs/ocp-models/lib/python3.9/site-packages/torch_scatter/segment_coo.py?line=5'>6</a>\u001b[0m \u001b[39mdef\u001b[39;00m \u001b[39msegment_sum_coo\u001b[39m(src: torch\u001b[39m.\u001b[39mTensor, index: torch\u001b[39m.\u001b[39mTensor,\n\u001b[1;32m      <a href='file:///home/xubuntu/.conda/envs/ocp-models/lib/python3.9/site-packages/torch_scatter/segment_coo.py?line=6'>7</a>\u001b[0m                     out: Optional[torch\u001b[39m.\u001b[39mTensor] \u001b[39m=\u001b[39m \u001b[39mNone\u001b[39;00m,\n\u001b[1;32m      <a href='file:///home/xubuntu/.conda/envs/ocp-models/lib/python3.9/site-packages/torch_scatter/segment_coo.py?line=7'>8</a>\u001b[0m                     dim_size: Optional[\u001b[39mint\u001b[39m] \u001b[39m=\u001b[39m \u001b[39mNone\u001b[39;00m) \u001b[39m-\u001b[39m\u001b[39m>\u001b[39m torch\u001b[39m.\u001b[39mTensor:\n\u001b[0;32m----> <a href='file:///home/xubuntu/.conda/envs/ocp-models/lib/python3.9/site-packages/torch_scatter/segment_coo.py?line=8'>9</a>\u001b[0m     \u001b[39mreturn\u001b[39;00m torch\u001b[39m.\u001b[39;49mops\u001b[39m.\u001b[39;49mtorch_scatter\u001b[39m.\u001b[39;49msegment_sum_coo(src, index, out, dim_size)\n",
      "File \u001b[0;32m~/.conda/envs/ocp-models/lib/python3.9/site-packages/torch/_ops.py:442\u001b[0m, in \u001b[0;36mOpOverloadPacket.__call__\u001b[0;34m(self, *args, **kwargs)\u001b[0m\n\u001b[1;32m    <a href='file:///home/xubuntu/.conda/envs/ocp-models/lib/python3.9/site-packages/torch/_ops.py?line=436'>437</a>\u001b[0m \u001b[39mdef\u001b[39;00m \u001b[39m__call__\u001b[39m(\u001b[39mself\u001b[39m, \u001b[39m*\u001b[39margs, \u001b[39m*\u001b[39m\u001b[39m*\u001b[39mkwargs):\n\u001b[1;32m    <a href='file:///home/xubuntu/.conda/envs/ocp-models/lib/python3.9/site-packages/torch/_ops.py?line=437'>438</a>\u001b[0m     \u001b[39m# overloading __call__ to ensure torch.ops.foo.bar()\u001b[39;00m\n\u001b[1;32m    <a href='file:///home/xubuntu/.conda/envs/ocp-models/lib/python3.9/site-packages/torch/_ops.py?line=438'>439</a>\u001b[0m     \u001b[39m# is still callable from JIT\u001b[39;00m\n\u001b[1;32m    <a href='file:///home/xubuntu/.conda/envs/ocp-models/lib/python3.9/site-packages/torch/_ops.py?line=439'>440</a>\u001b[0m     \u001b[39m# We save the function ptr as the `op` attribute on\u001b[39;00m\n\u001b[1;32m    <a href='file:///home/xubuntu/.conda/envs/ocp-models/lib/python3.9/site-packages/torch/_ops.py?line=440'>441</a>\u001b[0m     \u001b[39m# OpOverloadPacket to access it here.\u001b[39;00m\n\u001b[0;32m--> <a href='file:///home/xubuntu/.conda/envs/ocp-models/lib/python3.9/site-packages/torch/_ops.py?line=441'>442</a>\u001b[0m     \u001b[39mreturn\u001b[39;00m \u001b[39mself\u001b[39;49m\u001b[39m.\u001b[39;49m_op(\u001b[39m*\u001b[39;49margs, \u001b[39m*\u001b[39;49m\u001b[39m*\u001b[39;49mkwargs \u001b[39mor\u001b[39;49;00m {})\n",
      "\u001b[0;31mKeyboardInterrupt\u001b[0m: "
     ]
    }
   ],
   "source": [
    "best_valid_loss=np.Inf\n",
    "for i in range(num_epochs):\n",
    "    train_loss=train_fn(train_loader,model,optimizer)\n",
    "    valid_loss,acc=eval_fn(val_loader,model)\n",
    "    print(acc)\n",
    "    \n",
    "    if valid_loss< best_valid_loss:\n",
    "        torch.save(model.state_dict(),'best_model_n.pt')\n",
    "        print('saved-model')\n",
    "        best_valid_loss=valid_loss\n",
    "\n",
    "    print(f'epoch:{i+1} Train_loss:{train_loss} Valid_loss:{valid_loss} Valid acc:{acc}')"
   ]
  }
 ],
 "metadata": {
  "kernelspec": {
   "display_name": "ocp-models",
   "language": "python",
   "name": "python3"
  },
  "language_info": {
   "codemirror_mode": {
    "name": "ipython",
    "version": 3
   },
   "file_extension": ".py",
   "mimetype": "text/x-python",
   "name": "python",
   "nbconvert_exporter": "python",
   "pygments_lexer": "ipython3",
   "version": "3.9.16"
  },
  "orig_nbformat": 4
 },
 "nbformat": 4,
 "nbformat_minor": 2
}
