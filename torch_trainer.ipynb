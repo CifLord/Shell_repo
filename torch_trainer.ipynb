{
 "cells": [
  {
   "cell_type": "code",
   "execution_count": 1,
   "metadata": {},
   "outputs": [
    {
     "name": "stderr",
     "output_type": "stream",
     "text": [
      "/home/xubuntu/.conda/envs/ocp-models/lib/python3.9/site-packages/tqdm/auto.py:21: TqdmWarning: IProgress not found. Please update jupyter and ipywidgets. See https://ipywidgets.readthedocs.io/en/stable/user_install.html\n",
      "  from .autonotebook import tqdm as notebook_tqdm\n",
      "ERROR:root:Invalid setup for SCN. Either the e3nn library or Jd.pt is missing.\n"
     ]
    }
   ],
   "source": [
    "import os\n",
    "import numpy as np\n",
    "import matplotlib.pyplot as plt\n",
    "import wandb\n",
    "from pytorch_lightning.loggers import WandbLogger\n",
    "import torch\n",
    "from Models.EGformer import EGformer\n",
    "import torch.nn as nn\n",
    "import torch.optim as optim\n",
    "from ocpmodels.datasets import LmdbDataset\n",
    "from torch.utils.data import random_split\n",
    "import torch_geometric.loader as geom_loader\n",
    "import torch_geometric.data as data\n",
    "from typing import Any\n",
    "import yaml\n",
    "import torch.nn.init as init\n",
    "import torch.nn as nn"
   ]
  },
  {
   "cell_type": "code",
   "execution_count": 2,
   "metadata": {},
   "outputs": [],
   "source": [
    "#Save the model hyperparameters to a YAML file\n",
    "# model_hparams ={\"num_atoms\":0,\n",
    "#                 \"bond_feat_dim\":0,\n",
    "#                 \"num_targets\":0,\n",
    "#                 \"num_heads\":4,\n",
    "#                 \"batch_size\":4\n",
    "#                 }\n",
    "\n",
    "# with open('params/model_hparams.yml', 'w') as file:\n",
    "#     yaml.dump(model_hparams, file)"
   ]
  },
  {
   "cell_type": "code",
   "execution_count": 2,
   "metadata": {},
   "outputs": [],
   "source": [
    "with open('params/model_hparams.yml', 'r') as file:\n",
    "    hyper_config = yaml.load(file, Loader=yaml.FullLoader)\n",
    "warmup_epochs = hyper_config['configs'].get(\"warmup_epochs\")\n",
    "decay_epochs = hyper_config['configs'].get(\"decay_epochs\")\n",
    "y_mean = hyper_config['configs'].get(\"y_mean\")\n",
    "y_std = hyper_config['configs'].get(\"y_std\")\n",
    "num_epochs =hyper_config['configs'].get(\"num_epochs\")\n",
    "batch_size = hyper_config['configs'].get(\"batch_size\")\n",
    "learning_rate = hyper_config['configs'].get(\"learning_rate\")"
   ]
  },
  {
   "cell_type": "code",
   "execution_count": 21,
   "metadata": {},
   "outputs": [
    {
     "data": {
      "text/plain": [
       "5"
      ]
     },
     "execution_count": 21,
     "metadata": {},
     "output_type": "execute_result"
    }
   ],
   "source": [
    "warmup_epochs"
   ]
  },
  {
   "cell_type": "code",
   "execution_count": 16,
   "metadata": {},
   "outputs": [
    {
     "data": {
      "text/plain": [
       "{'batch_size': 4,\n",
       " 'bond_feat_dim': 0,\n",
       " 'num_atoms': 0,\n",
       " 'num_heads': 4,\n",
       " 'num_targets': 0}"
      ]
     },
     "execution_count": 16,
     "metadata": {},
     "output_type": "execute_result"
    }
   ],
   "source": [
    "loaded_model_hparams"
   ]
  },
  {
   "cell_type": "code",
   "execution_count": null,
   "metadata": {},
   "outputs": [],
   "source": [
    "\n",
    "with open('params/model_hparams.yml', 'r') as file:\n",
    "    loaded_model_hparams = yaml.load(file, Loader=yaml.FullLoader)['model']\n",
    "# Create the model using the loaded hyperparameters\n",
    "model = EGformer(**loaded_model_hparams)\n",
    "checkpoint_path='params/best_model_all.pt'\n",
    "pretrained_state_dict = torch.load(checkpoint_path)['MODEL_STATE']\n",
    "model.load_state_dict(pretrained_state_dict)"
   ]
  },
  {
   "cell_type": "code",
   "execution_count": 4,
   "metadata": {},
   "outputs": [],
   "source": [
    "# with open('params/model_hparams.yml', 'r') as file:\n",
    "#     loaded_model_hparams = yaml.load(file, Loader=yaml.FullLoader)\n",
    "\n",
    "# # Create the model using the loaded hyperparameters\n",
    "# model = Egformer(**loaded_model_hparams)\n",
    "# checkpoint_path='params/gemnet_oc_base_oc20_oc22.pt'\n",
    "# pretrained_state_dict = torch.load(checkpoint_path)['state_dict']\n",
    "# new_model_state_dict = model.arc.state_dict()\n",
    "# filtered_pretrained_state_dict = {k.strip('module.module.'): v for k, v in pretrained_state_dict.items() if k.strip('module.module.') in new_model_state_dict}\n",
    "# new_model_state_dict.update(filtered_pretrained_state_dict)\n",
    "# model.arc.load_state_dict(new_model_state_dict)\n",
    "# for param_name, param in model.named_parameters():\n",
    "\n",
    "#     if param_name.replace('arc.','') in filtered_pretrained_state_dict.keys():\n",
    "        \n",
    "#         param.requires_grad = False"
   ]
  },
  {
   "cell_type": "code",
   "execution_count": 5,
   "metadata": {},
   "outputs": [
    {
     "name": "stdout",
     "output_type": "stream",
     "text": [
      "Freeze params is 238\n",
      "Need optimiz params is 131\n"
     ]
    }
   ],
   "source": [
    "f_paras,t_paras=0,0\n",
    "for param_name,param in model.named_parameters():\n",
    "    if param.requires_grad is False:\n",
    "        f_paras+=1\n",
    "    else:\n",
    "        t_paras+=1\n",
    "print('Freeze params is',f_paras)\n",
    "print('Need optimiz params is',t_paras)"
   ]
  },
  {
   "cell_type": "code",
   "execution_count": 6,
   "metadata": {},
   "outputs": [],
   "source": [
    "warmup_epochs=2\n",
    "decay_epochs=3\n",
    "    \n",
    "y_mean=-7\n",
    "y_std=6\n",
    "num_epochs=10\n",
    "batch_size = 6\n",
    "learning_rate=0.001\n",
    "CHECKPOINT_PATH=\"./checkpoints\"\n",
    "DEVICE=torch.device(\"cuda\" if torch.cuda.is_available() else \"cpu\")\n",
    "dataset=LmdbDataset({\"src\":\"/shareddata/ocp/ocp22/oc22_trajectories/trajectories/Transformer_clean_valid/data.0000.lmdb\"})\n",
    "model= nn.DataParallel(model) \n",
    "model.to(DEVICE)\n",
    "criterion=nn.MSELoss()\n",
    "optimizer=torch.optim.Adam(model.parameters(),lr=learning_rate)\n",
    "warmup_scheduler = optim.lr_scheduler.LambdaLR(optimizer,lr_lambda=lambda epoch: (epoch+1)/warmup_epochs)\n",
    "decay_scheduler = optim.lr_scheduler.StepLR(optimizer, step_size=decay_epochs,gamma=0.1)"
   ]
  },
  {
   "cell_type": "code",
   "execution_count": 7,
   "metadata": {},
   "outputs": [],
   "source": [
    "train_length = int(0.8 * len(dataset))\n",
    "val_length = len(dataset) - train_length\n",
    "\n",
    "# Split the dataset into train and validation\n",
    "train_dataset, val_dataset =random_split(dataset, [train_length, val_length])\n",
    "train_loader = geom_loader.DataLoader(train_dataset, batch_size=4,drop_last=True)\n",
    "val_loader = geom_loader.DataLoader(val_dataset, batch_size=4,drop_last=True)"
   ]
  },
  {
   "cell_type": "code",
   "execution_count": 8,
   "metadata": {},
   "outputs": [
    {
     "name": "stdout",
     "output_type": "stream",
     "text": [
      "torch.Size([388])\n"
     ]
    }
   ],
   "source": [
    "data = next(iter(train_loader))\n",
    "batched_data = data.batch\n",
    "print(batched_data.shape)"
   ]
  },
  {
   "cell_type": "code",
   "execution_count": 9,
   "metadata": {},
   "outputs": [],
   "source": [
    "from tqdm import tqdm"
   ]
  },
  {
   "cell_type": "code",
   "execution_count": 10,
   "metadata": {},
   "outputs": [],
   "source": [
    "def get_loss(predictions, targets, y_mean=-7, y_std=6):\n",
    "    masks = (targets/ targets.natoms - y_mean) / y_std\n",
    "    mask_loss = nn.MSELoss()\n",
    "    loss = mask_loss(predictions.view(-1, 1), masks.view(-1, 1))\n",
    "    accuracy = torch.abs(predictions.view(-1, 1) - masks.view(-1, 1))\n",
    "    return loss, accuracy"
   ]
  },
  {
   "cell_type": "code",
   "execution_count": 11,
   "metadata": {},
   "outputs": [],
   "source": [
    "def train_fn(data_loader, model, optimizer, device, optimize_after=8):\n",
    "    model.train()\n",
    "    total_loss = 0.0\n",
    "    iteration = 0\n",
    "\n",
    "    for images in tqdm(data_loader):\n",
    "        model=model.to(device)\n",
    "        images = images.to(device)\n",
    "        optimizer.zero_grad()\n",
    "        predictions = model(images)\n",
    "        targets = images.y\n",
    "        loss, acc = get_loss(predictions, targets)\n",
    "        loss.backward()\n",
    "\n",
    "        # Accumulate gradients for a specified number of iterations\n",
    "        iteration += 1\n",
    "        if iteration % optimize_after == 0:\n",
    "            optimizer.step()\n",
    "            iteration = 0\n",
    "            total_loss += loss.item()\n",
    "\n",
    "    return total_loss / (len(data_loader) // optimize_after)"
   ]
  },
  {
   "cell_type": "code",
   "execution_count": 12,
   "metadata": {},
   "outputs": [],
   "source": [
    "def eval_fn(data_loader,model,device):\n",
    "    model.eval()\n",
    "    total_loss=0.0\n",
    "    total_acc=0    \n",
    "    with torch.no_grad():\n",
    "        for images in tqdm(data_loader):\n",
    "            model=model.to(device) \n",
    "            images=images.to(device)                      \n",
    "            loss,acc=model(images)\n",
    "            total_loss+=loss.item()\n",
    "            total_acc+=acc.item()\n",
    "\n",
    "    return total_loss/len(data_loader),total_acc/len(data_loader)"
   ]
  },
  {
   "cell_type": "code",
   "execution_count": 1,
   "metadata": {},
   "outputs": [
    {
     "ename": "KeyError",
     "evalue": "'LOCAL_RANK'",
     "output_type": "error",
     "traceback": [
      "\u001b[0;31m---------------------------------------------------------------------------\u001b[0m",
      "\u001b[0;31mKeyError\u001b[0m                                  Traceback (most recent call last)",
      "Cell \u001b[0;32mIn[1], line 2\u001b[0m\n\u001b[1;32m      1\u001b[0m \u001b[38;5;28;01mimport\u001b[39;00m \u001b[38;5;21;01mos\u001b[39;00m\n\u001b[0;32m----> 2\u001b[0m \u001b[38;5;28mint\u001b[39m(\u001b[43mos\u001b[49m\u001b[38;5;241;43m.\u001b[39;49m\u001b[43menviron\u001b[49m\u001b[43m[\u001b[49m\u001b[38;5;124;43m'\u001b[39;49m\u001b[38;5;124;43mLOCAL_RANK\u001b[39;49m\u001b[38;5;124;43m'\u001b[39;49m\u001b[43m]\u001b[49m)\n",
      "File \u001b[0;32m~/.conda/envs/ocp-models/lib/python3.9/os.py:679\u001b[0m, in \u001b[0;36m_Environ.__getitem__\u001b[0;34m(self, key)\u001b[0m\n\u001b[1;32m    <a href='file:///home/xubuntu/.conda/envs/ocp-models/lib/python3.9/os.py?line=675'>676</a>\u001b[0m     value \u001b[39m=\u001b[39m \u001b[39mself\u001b[39m\u001b[39m.\u001b[39m_data[\u001b[39mself\u001b[39m\u001b[39m.\u001b[39mencodekey(key)]\n\u001b[1;32m    <a href='file:///home/xubuntu/.conda/envs/ocp-models/lib/python3.9/os.py?line=676'>677</a>\u001b[0m \u001b[39mexcept\u001b[39;00m \u001b[39mKeyError\u001b[39;00m:\n\u001b[1;32m    <a href='file:///home/xubuntu/.conda/envs/ocp-models/lib/python3.9/os.py?line=677'>678</a>\u001b[0m     \u001b[39m# raise KeyError with the original key value\u001b[39;00m\n\u001b[0;32m--> <a href='file:///home/xubuntu/.conda/envs/ocp-models/lib/python3.9/os.py?line=678'>679</a>\u001b[0m     \u001b[39mraise\u001b[39;00m \u001b[39mKeyError\u001b[39;00m(key) \u001b[39mfrom\u001b[39;00m \u001b[39mNone\u001b[39;00m\n\u001b[1;32m    <a href='file:///home/xubuntu/.conda/envs/ocp-models/lib/python3.9/os.py?line=679'>680</a>\u001b[0m \u001b[39mreturn\u001b[39;00m \u001b[39mself\u001b[39m\u001b[39m.\u001b[39mdecodevalue(value)\n",
      "\u001b[0;31mKeyError\u001b[0m: 'LOCAL_RANK'"
     ]
    }
   ],
   "source": [
    "import os\n"
   ]
  },
  {
   "cell_type": "code",
   "execution_count": 13,
   "metadata": {},
   "outputs": [
    {
     "name": "stderr",
     "output_type": "stream",
     "text": [
      "  0%|          | 0/2019 [00:00<?, ?it/s]"
     ]
    },
    {
     "name": "stdout",
     "output_type": "stream",
     "text": [
      "44\n",
      "\n",
      "4\n",
      "4\n"
     ]
    },
    {
     "name": "stderr",
     "output_type": "stream",
     "text": [
      "  0%|          | 0/2019 [00:05<?, ?it/s]\n"
     ]
    },
    {
     "ename": "RuntimeError",
     "evalue": "Caught RuntimeError in replica 1 on device 1.\nOriginal Traceback (most recent call last):\n  File \"/home/xubuntu/.conda/envs/ocp-models/lib/python3.9/site-packages/torch/nn/parallel/parallel_apply.py\", line 64, in _worker\n    output = module(*input, **kwargs)\n  File \"/home/xubuntu/.conda/envs/ocp-models/lib/python3.9/site-packages/torch/nn/modules/module.py\", line 1194, in _call_impl\n    return forward_call(*input, **kwargs)\n  File \"/shareddata/gem_transformer/Shell_repo/Models/EGformer.py\", line 376, in forward\n    ) = self.get_bases(\n  File \"/shareddata/ocp/open-catalyst/ocp/ocpmodels/models/gemnet_oc/gemnet_oc.py\", line 1106, in get_bases\n    basis_rad_main_raw = self.radial_basis(main_graph[\"distance\"])\n  File \"/home/xubuntu/.conda/envs/ocp-models/lib/python3.9/site-packages/torch/nn/modules/module.py\", line 1194, in _call_impl\n    return forward_call(*input, **kwargs)\n  File \"/shareddata/ocp/open-catalyst/ocp/ocpmodels/models/gemnet_oc/layers/radial_basis.py\", line 231, in forward\n    res = env[:, None] * self.rbf(d_scaled)\n  File \"/home/xubuntu/.conda/envs/ocp-models/lib/python3.9/site-packages/torch/nn/modules/module.py\", line 1194, in _call_impl\n    return forward_call(*input, **kwargs)\n  File \"/shareddata/ocp/open-catalyst/ocp/ocpmodels/models/gemnet_oc/layers/radial_basis.py\", line 76, in forward\n    dist = dist[:, None] - self.offset[None, :]\nRuntimeError: Expected all tensors to be on the same device, but found at least two devices, cuda:0 and cuda:1!\n",
     "output_type": "error",
     "traceback": [
      "\u001b[0;31m---------------------------------------------------------------------------\u001b[0m",
      "\u001b[0;31mRuntimeError\u001b[0m                              Traceback (most recent call last)",
      "Cell \u001b[0;32mIn[13], line 3\u001b[0m\n\u001b[1;32m      1\u001b[0m best_valid_loss\u001b[38;5;241m=\u001b[39mnp\u001b[38;5;241m.\u001b[39mInf\n\u001b[1;32m      2\u001b[0m \u001b[38;5;28;01mfor\u001b[39;00m epoch \u001b[38;5;129;01min\u001b[39;00m \u001b[38;5;28mrange\u001b[39m(num_epochs):\n\u001b[0;32m----> 3\u001b[0m     train_loss\u001b[38;5;241m=\u001b[39m\u001b[43mtrain_fn\u001b[49m\u001b[43m(\u001b[49m\u001b[43mtrain_loader\u001b[49m\u001b[43m,\u001b[49m\u001b[43mmodel\u001b[49m\u001b[43m,\u001b[49m\u001b[43moptimizer\u001b[49m\u001b[43m,\u001b[49m\u001b[43mdevice\u001b[49m\u001b[38;5;241;43m=\u001b[39;49m\u001b[43mDEVICE\u001b[49m\u001b[43m)\u001b[49m\n\u001b[1;32m      4\u001b[0m     valid_loss,acc\u001b[38;5;241m=\u001b[39meval_fn(val_loader,model,device\u001b[38;5;241m=\u001b[39mDEVICE)\n\u001b[1;32m      5\u001b[0m     \u001b[38;5;28;01mif\u001b[39;00m epoch\u001b[38;5;241m<\u001b[39mwarmup_epochs:\n",
      "Cell \u001b[0;32mIn[11], line 10\u001b[0m, in \u001b[0;36mtrain_fn\u001b[0;34m(data_loader, model, optimizer, device, optimize_after)\u001b[0m\n\u001b[1;32m      8\u001b[0m images \u001b[38;5;241m=\u001b[39m images\u001b[38;5;241m.\u001b[39mto(device)\n\u001b[1;32m      9\u001b[0m optimizer\u001b[38;5;241m.\u001b[39mzero_grad()\n\u001b[0;32m---> 10\u001b[0m predictions \u001b[38;5;241m=\u001b[39m \u001b[43mmodel\u001b[49m\u001b[43m(\u001b[49m\u001b[43mimages\u001b[49m\u001b[43m)\u001b[49m\n\u001b[1;32m     11\u001b[0m targets \u001b[38;5;241m=\u001b[39m images\u001b[38;5;241m.\u001b[39my\n\u001b[1;32m     12\u001b[0m loss, acc \u001b[38;5;241m=\u001b[39m get_loss(predictions, targets)\n",
      "File \u001b[0;32m~/.conda/envs/ocp-models/lib/python3.9/site-packages/torch/nn/modules/module.py:1194\u001b[0m, in \u001b[0;36mModule._call_impl\u001b[0;34m(self, *input, **kwargs)\u001b[0m\n\u001b[1;32m   <a href='file:///home/xubuntu/.conda/envs/ocp-models/lib/python3.9/site-packages/torch/nn/modules/module.py?line=1189'>1190</a>\u001b[0m \u001b[39m# If we don't have any hooks, we want to skip the rest of the logic in\u001b[39;00m\n\u001b[1;32m   <a href='file:///home/xubuntu/.conda/envs/ocp-models/lib/python3.9/site-packages/torch/nn/modules/module.py?line=1190'>1191</a>\u001b[0m \u001b[39m# this function, and just call forward.\u001b[39;00m\n\u001b[1;32m   <a href='file:///home/xubuntu/.conda/envs/ocp-models/lib/python3.9/site-packages/torch/nn/modules/module.py?line=1191'>1192</a>\u001b[0m \u001b[39mif\u001b[39;00m \u001b[39mnot\u001b[39;00m (\u001b[39mself\u001b[39m\u001b[39m.\u001b[39m_backward_hooks \u001b[39mor\u001b[39;00m \u001b[39mself\u001b[39m\u001b[39m.\u001b[39m_forward_hooks \u001b[39mor\u001b[39;00m \u001b[39mself\u001b[39m\u001b[39m.\u001b[39m_forward_pre_hooks \u001b[39mor\u001b[39;00m _global_backward_hooks\n\u001b[1;32m   <a href='file:///home/xubuntu/.conda/envs/ocp-models/lib/python3.9/site-packages/torch/nn/modules/module.py?line=1192'>1193</a>\u001b[0m         \u001b[39mor\u001b[39;00m _global_forward_hooks \u001b[39mor\u001b[39;00m _global_forward_pre_hooks):\n\u001b[0;32m-> <a href='file:///home/xubuntu/.conda/envs/ocp-models/lib/python3.9/site-packages/torch/nn/modules/module.py?line=1193'>1194</a>\u001b[0m     \u001b[39mreturn\u001b[39;00m forward_call(\u001b[39m*\u001b[39;49m\u001b[39minput\u001b[39;49m, \u001b[39m*\u001b[39;49m\u001b[39m*\u001b[39;49mkwargs)\n\u001b[1;32m   <a href='file:///home/xubuntu/.conda/envs/ocp-models/lib/python3.9/site-packages/torch/nn/modules/module.py?line=1194'>1195</a>\u001b[0m \u001b[39m# Do not call functions when jit is used\u001b[39;00m\n\u001b[1;32m   <a href='file:///home/xubuntu/.conda/envs/ocp-models/lib/python3.9/site-packages/torch/nn/modules/module.py?line=1195'>1196</a>\u001b[0m full_backward_hooks, non_full_backward_hooks \u001b[39m=\u001b[39m [], []\n",
      "File \u001b[0;32m~/.conda/envs/ocp-models/lib/python3.9/site-packages/torch/nn/parallel/data_parallel.py:171\u001b[0m, in \u001b[0;36mDataParallel.forward\u001b[0;34m(self, *inputs, **kwargs)\u001b[0m\n\u001b[1;32m    <a href='file:///home/xubuntu/.conda/envs/ocp-models/lib/python3.9/site-packages/torch/nn/parallel/data_parallel.py?line=168'>169</a>\u001b[0m     \u001b[39mreturn\u001b[39;00m \u001b[39mself\u001b[39m\u001b[39m.\u001b[39mmodule(\u001b[39m*\u001b[39minputs[\u001b[39m0\u001b[39m], \u001b[39m*\u001b[39m\u001b[39m*\u001b[39mkwargs[\u001b[39m0\u001b[39m])\n\u001b[1;32m    <a href='file:///home/xubuntu/.conda/envs/ocp-models/lib/python3.9/site-packages/torch/nn/parallel/data_parallel.py?line=169'>170</a>\u001b[0m replicas \u001b[39m=\u001b[39m \u001b[39mself\u001b[39m\u001b[39m.\u001b[39mreplicate(\u001b[39mself\u001b[39m\u001b[39m.\u001b[39mmodule, \u001b[39mself\u001b[39m\u001b[39m.\u001b[39mdevice_ids[:\u001b[39mlen\u001b[39m(inputs)])\n\u001b[0;32m--> <a href='file:///home/xubuntu/.conda/envs/ocp-models/lib/python3.9/site-packages/torch/nn/parallel/data_parallel.py?line=170'>171</a>\u001b[0m outputs \u001b[39m=\u001b[39m \u001b[39mself\u001b[39;49m\u001b[39m.\u001b[39;49mparallel_apply(replicas, inputs, kwargs)\n\u001b[1;32m    <a href='file:///home/xubuntu/.conda/envs/ocp-models/lib/python3.9/site-packages/torch/nn/parallel/data_parallel.py?line=171'>172</a>\u001b[0m \u001b[39mreturn\u001b[39;00m \u001b[39mself\u001b[39m\u001b[39m.\u001b[39mgather(outputs, \u001b[39mself\u001b[39m\u001b[39m.\u001b[39moutput_device)\n",
      "File \u001b[0;32m~/.conda/envs/ocp-models/lib/python3.9/site-packages/torch/nn/parallel/data_parallel.py:181\u001b[0m, in \u001b[0;36mDataParallel.parallel_apply\u001b[0;34m(self, replicas, inputs, kwargs)\u001b[0m\n\u001b[1;32m    <a href='file:///home/xubuntu/.conda/envs/ocp-models/lib/python3.9/site-packages/torch/nn/parallel/data_parallel.py?line=179'>180</a>\u001b[0m \u001b[39mdef\u001b[39;00m \u001b[39mparallel_apply\u001b[39m(\u001b[39mself\u001b[39m, replicas, inputs, kwargs):\n\u001b[0;32m--> <a href='file:///home/xubuntu/.conda/envs/ocp-models/lib/python3.9/site-packages/torch/nn/parallel/data_parallel.py?line=180'>181</a>\u001b[0m     \u001b[39mreturn\u001b[39;00m parallel_apply(replicas, inputs, kwargs, \u001b[39mself\u001b[39;49m\u001b[39m.\u001b[39;49mdevice_ids[:\u001b[39mlen\u001b[39;49m(replicas)])\n",
      "File \u001b[0;32m~/.conda/envs/ocp-models/lib/python3.9/site-packages/torch/nn/parallel/parallel_apply.py:89\u001b[0m, in \u001b[0;36mparallel_apply\u001b[0;34m(modules, inputs, kwargs_tup, devices)\u001b[0m\n\u001b[1;32m     <a href='file:///home/xubuntu/.conda/envs/ocp-models/lib/python3.9/site-packages/torch/nn/parallel/parallel_apply.py?line=86'>87</a>\u001b[0m     output \u001b[39m=\u001b[39m results[i]\n\u001b[1;32m     <a href='file:///home/xubuntu/.conda/envs/ocp-models/lib/python3.9/site-packages/torch/nn/parallel/parallel_apply.py?line=87'>88</a>\u001b[0m     \u001b[39mif\u001b[39;00m \u001b[39misinstance\u001b[39m(output, ExceptionWrapper):\n\u001b[0;32m---> <a href='file:///home/xubuntu/.conda/envs/ocp-models/lib/python3.9/site-packages/torch/nn/parallel/parallel_apply.py?line=88'>89</a>\u001b[0m         output\u001b[39m.\u001b[39;49mreraise()\n\u001b[1;32m     <a href='file:///home/xubuntu/.conda/envs/ocp-models/lib/python3.9/site-packages/torch/nn/parallel/parallel_apply.py?line=89'>90</a>\u001b[0m     outputs\u001b[39m.\u001b[39mappend(output)\n\u001b[1;32m     <a href='file:///home/xubuntu/.conda/envs/ocp-models/lib/python3.9/site-packages/torch/nn/parallel/parallel_apply.py?line=90'>91</a>\u001b[0m \u001b[39mreturn\u001b[39;00m outputs\n",
      "File \u001b[0;32m~/.conda/envs/ocp-models/lib/python3.9/site-packages/torch/_utils.py:543\u001b[0m, in \u001b[0;36mExceptionWrapper.reraise\u001b[0;34m(self)\u001b[0m\n\u001b[1;32m    <a href='file:///home/xubuntu/.conda/envs/ocp-models/lib/python3.9/site-packages/torch/_utils.py?line=538'>539</a>\u001b[0m \u001b[39mexcept\u001b[39;00m \u001b[39mTypeError\u001b[39;00m:\n\u001b[1;32m    <a href='file:///home/xubuntu/.conda/envs/ocp-models/lib/python3.9/site-packages/torch/_utils.py?line=539'>540</a>\u001b[0m     \u001b[39m# If the exception takes multiple arguments, don't try to\u001b[39;00m\n\u001b[1;32m    <a href='file:///home/xubuntu/.conda/envs/ocp-models/lib/python3.9/site-packages/torch/_utils.py?line=540'>541</a>\u001b[0m     \u001b[39m# instantiate since we don't know how to\u001b[39;00m\n\u001b[1;32m    <a href='file:///home/xubuntu/.conda/envs/ocp-models/lib/python3.9/site-packages/torch/_utils.py?line=541'>542</a>\u001b[0m     \u001b[39mraise\u001b[39;00m \u001b[39mRuntimeError\u001b[39;00m(msg) \u001b[39mfrom\u001b[39;00m \u001b[39mNone\u001b[39;00m\n\u001b[0;32m--> <a href='file:///home/xubuntu/.conda/envs/ocp-models/lib/python3.9/site-packages/torch/_utils.py?line=542'>543</a>\u001b[0m \u001b[39mraise\u001b[39;00m exception\n",
      "\u001b[0;31mRuntimeError\u001b[0m: Caught RuntimeError in replica 1 on device 1.\nOriginal Traceback (most recent call last):\n  File \"/home/xubuntu/.conda/envs/ocp-models/lib/python3.9/site-packages/torch/nn/parallel/parallel_apply.py\", line 64, in _worker\n    output = module(*input, **kwargs)\n  File \"/home/xubuntu/.conda/envs/ocp-models/lib/python3.9/site-packages/torch/nn/modules/module.py\", line 1194, in _call_impl\n    return forward_call(*input, **kwargs)\n  File \"/shareddata/gem_transformer/Shell_repo/Models/EGformer.py\", line 376, in forward\n    ) = self.get_bases(\n  File \"/shareddata/ocp/open-catalyst/ocp/ocpmodels/models/gemnet_oc/gemnet_oc.py\", line 1106, in get_bases\n    basis_rad_main_raw = self.radial_basis(main_graph[\"distance\"])\n  File \"/home/xubuntu/.conda/envs/ocp-models/lib/python3.9/site-packages/torch/nn/modules/module.py\", line 1194, in _call_impl\n    return forward_call(*input, **kwargs)\n  File \"/shareddata/ocp/open-catalyst/ocp/ocpmodels/models/gemnet_oc/layers/radial_basis.py\", line 231, in forward\n    res = env[:, None] * self.rbf(d_scaled)\n  File \"/home/xubuntu/.conda/envs/ocp-models/lib/python3.9/site-packages/torch/nn/modules/module.py\", line 1194, in _call_impl\n    return forward_call(*input, **kwargs)\n  File \"/shareddata/ocp/open-catalyst/ocp/ocpmodels/models/gemnet_oc/layers/radial_basis.py\", line 76, in forward\n    dist = dist[:, None] - self.offset[None, :]\nRuntimeError: Expected all tensors to be on the same device, but found at least two devices, cuda:0 and cuda:1!\n"
     ]
    }
   ],
   "source": [
    "best_valid_loss=np.Inf\n",
    "for epoch in range(num_epochs):\n",
    "    train_loss=train_fn(train_loader,model,optimizer,device=DEVICE)\n",
    "    valid_loss,acc=eval_fn(val_loader,model,device=DEVICE)\n",
    "    if epoch<warmup_epochs:\n",
    "        warmup_scheduler.step()\n",
    "    else:\n",
    "        decay_scheduler.step()    \n",
    "    if valid_loss< best_valid_loss:\n",
    "        torch.save(model.state_dict(),'best_model_n.pt')\n",
    "        print('saved-model')\n",
    "        best_valid_loss=valid_loss\n",
    "    current_lr=optimizer.param_groups[0]['lr']\n",
    "    \n",
    "    print(f'epoch:{epoch+1} Train_loss:{train_loss} Valid_loss:{valid_loss} Valid acc:{acc} lr:{current_lr}')"
   ]
  }
 ],
 "metadata": {
  "kernelspec": {
   "display_name": "ocp-models",
   "language": "python",
   "name": "python3"
  },
  "language_info": {
   "codemirror_mode": {
    "name": "ipython",
    "version": 3
   },
   "file_extension": ".py",
   "mimetype": "text/x-python",
   "name": "python",
   "nbconvert_exporter": "python",
   "pygments_lexer": "ipython3",
   "version": "3.9.16"
  },
  "orig_nbformat": 4
 },
 "nbformat": 4,
 "nbformat_minor": 2
}
