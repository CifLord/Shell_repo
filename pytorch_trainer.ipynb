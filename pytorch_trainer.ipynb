{
 "cells": [
  {
   "cell_type": "code",
   "execution_count": 3,
   "metadata": {},
   "outputs": [
    {
     "name": "stderr",
     "output_type": "stream",
     "text": [
      "c:\\Users\\lhuang37\\.conda\\envs\\ocp-models\\lib\\site-packages\\tqdm\\auto.py:22: TqdmWarning: IProgress not found. Please update jupyter and ipywidgets. See https://ipywidgets.readthedocs.io/en/stable/user_install.html\n",
      "  from .autonotebook import tqdm as notebook_tqdm\n"
     ]
    }
   ],
   "source": [
    "import os\n",
    "import numpy as np\n",
    "import matplotlib.pyplot as plt\n",
    "import wandb\n",
    "from pytorch_lightning.loggers import WandbLogger\n",
    "import torch\n",
    "import pytorch_lightning as pl\n",
    "from Models.Gemformer import Gemformer\n",
    "import torch.nn as nn\n",
    "import torch.optim as optim\n",
    "from ocpmodels.datasets import LmdbDataset\n",
    "from torch.utils.data import random_split\n",
    "import torch_geometric.loader as geom_loader\n",
    "import torch_geometric.data as data\n",
    "from pytorch_lightning.callbacks import LearningRateMonitor,ModelCheckpoint\n",
    "from typing import Any\n",
    "from pytorch_lightning.utilities.types import STEP_OUTPUT"
   ]
  },
  {
   "cell_type": "code",
   "execution_count": 5,
   "metadata": {},
   "outputs": [],
   "source": [
    "import yaml\n",
    "import torch.nn.init as init"
   ]
  },
  {
   "attachments": {},
   "cell_type": "markdown",
   "metadata": {},
   "source": [
    "# Model initialize"
   ]
  },
  {
   "cell_type": "code",
   "execution_count": 1,
   "metadata": {},
   "outputs": [],
   "source": [
    "\n",
    "\n",
    "\n",
    "# Save the model hyperparameters to a YAML file\n",
    "model_hparams = {\n",
    "    \"num_heads\": 1,\n",
    "    \"emb_size_in\": 256,\n",
    "    \"emb_size_trans\": 64\n",
    "}\n",
    "\n",
    "with open('params/model_hparams.yml', 'w') as file:\n",
    "    yaml.dump(model_hparams, file)"
   ]
  },
  {
   "cell_type": "code",
   "execution_count": 13,
   "metadata": {},
   "outputs": [],
   "source": [
    "with open('params/model_hparams.yml', 'r') as file:\n",
    "    loaded_model_hparams = yaml.load(file, Loader=yaml.FullLoader)\n",
    "\n",
    "# Create the model using the loaded hyperparameters\n",
    "model = Gemformer(**loaded_model_hparams)\n",
    "\n",
    "# Apply Kaiming initialization to the model parameters\n",
    "# for name, param in model.named_parameters():\n",
    "#     if 'weight' in name:\n",
    "#         print(param.shape)\n",
    "        \n",
    "#         init.kaiming_normal_(param, mode='fan_in', nonlinearity='relu')\n",
    "#     elif 'bias' in name:\n",
    "#         init.zeros_(param)\n"
   ]
  },
  {
   "cell_type": "code",
   "execution_count": null,
   "metadata": {},
   "outputs": [],
   "source": [
    "CHECKPOINT_PATH=\"./checkpoints\"\n",
    "DEVICE='cuda'\n",
    "dataset=LmdbDataset({\"src\":\"Data/eoh_t.lmdb\"})\n",
    "\n",
    "train_length = int(0.8 * len(dataset))\n",
    "val_length = len(dataset) - train_length\n",
    "\n",
    "# Split the dataset into train and validation\n",
    "train_dataset, val_dataset =random_split(dataset, [train_length, val_length])\n",
    "# train_dataset=ReverseDataset(train_dataset,train_length)\n",
    "# val_dataset=ReverseDataset(val_dataset,val_length)\n",
    "train_loader = geom_loader.DataLoader(train_dataset, batch_size=1)\n",
    "val_loader = geom_loader.DataLoader(val_dataset, batch_size=1)\n",
    "wandb.init()\n",
    "wandb_logger = WandbLogger()"
   ]
  },
  {
   "cell_type": "code",
   "execution_count": null,
   "metadata": {},
   "outputs": [],
   "source": [
    "from tqdm import tqdm"
   ]
  },
  {
   "attachments": {},
   "cell_type": "markdown",
   "metadata": {},
   "source": [
    "# Unfinished"
   ]
  },
  {
   "cell_type": "code",
   "execution_count": null,
   "metadata": {},
   "outputs": [],
   "source": [
    "def train_fn(data_loader,model,optimizer):\n",
    "    model.train()\n",
    "    total_loss=0.0\n",
    "    \n",
    "\n",
    "    for images,masks in tqdm(data_loader):\n",
    "        images=images.to(DEVICE)\n",
    "        masks=masks.to(DEVICE)\n",
    "\n",
    "\n",
    "        optimizer.zero_grad()\n",
    "        preds=model(images)\n",
    "        loss=\n",
    "        loss.backward()\n",
    "        optimizer.step()\n",
    "\n",
    "        total_loss+=loss.item()\n",
    "        \n",
    "\n",
    "    return total_loss/len(data_loader)"
   ]
  },
  {
   "cell_type": "code",
   "execution_count": null,
   "metadata": {},
   "outputs": [],
   "source": [
    "def eval_fn(data_loader,model):\n",
    "\n",
    "    model.eval()\n",
    "    total_loss=0.0\n",
    "    total_acc=0\n",
    "    \n",
    "    with torch.no_grad():\n",
    "\n",
    "        for images,masks in tqdm(data_loader):\n",
    "            images=images.to(DEVICE)\n",
    "            masks=masks.to(DEVICE)        \n",
    "            logits,loss=model(images,masks)\n",
    "\n",
    "            total_loss+=loss.item() \n",
    "\n",
    "            mask=torch.sigmoid(logits[0]).cpu().squeeze().flatten()        \n",
    "            \n",
    "            mask_true=masks[0].cpu().squeeze(0).flatten()\n",
    "            \n",
    "            \n",
    "            precision=roc_auc_score(mask_true,mask)\n",
    "            total_acc+=precision\n",
    "                     \n",
    "          \n",
    "            \n",
    "\n",
    "    return total_loss/len(data_loader),total_acc/len(data_loader)"
   ]
  },
  {
   "cell_type": "code",
   "execution_count": null,
   "metadata": {},
   "outputs": [],
   "source": []
  },
  {
   "cell_type": "code",
   "execution_count": null,
   "metadata": {},
   "outputs": [],
   "source": [
    "optimizer=torch.optim.Adam(model.parameters(),lr=0.005)\n",
    "best_valid_loss=np.Inf\n",
    "animator=d2l.Animator(xlabel='epoch',ylabel='loss',yscale='log',xlim=[1,epochs],ylim=[0.1,1.5],legend=['train','valid','acc'])\n",
    "\n",
    "for i in range(epochs):\n",
    "    train_loss=train_fn(trainloader,model,optimizer)\n",
    "    valid_loss,acc=eval_fn(validloader,model)\n",
    "    print(acc)\n",
    "    animator.add(i+1,(train_loss,valid_loss,acc))\n",
    "    if valid_loss< best_valid_loss:\n",
    "        torch.save(model.state_dict(),'best_model_n.pt')\n",
    "        print('saved-model')\n",
    "        best_valid_loss=valid_loss\n",
    "\n",
    "    print(f'epoch:{i+1} Train_loss:{train_loss} Valid_loss:{valid_loss} Valid acc:{acc}')"
   ]
  }
 ],
 "metadata": {
  "kernelspec": {
   "display_name": "ocp-models",
   "language": "python",
   "name": "python3"
  },
  "language_info": {
   "codemirror_mode": {
    "name": "ipython",
    "version": 3
   },
   "file_extension": ".py",
   "mimetype": "text/x-python",
   "name": "python",
   "nbconvert_exporter": "python",
   "pygments_lexer": "ipython3",
   "version": "3.10.5"
  },
  "orig_nbformat": 4
 },
 "nbformat": 4,
 "nbformat_minor": 2
}
